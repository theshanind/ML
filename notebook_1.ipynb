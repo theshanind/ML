{
 "cells": [
  {
   "cell_type": "code",
   "execution_count": 200,
   "id": "fd920d9e",
   "metadata": {},
   "outputs": [],
   "source": [
    "import pandas as pd \n",
    "import numpy as np\n",
    "import matplotlib.pyplot as plt\n",
    "import plotly.express as px\n",
    "\n",
    "from sklearn.preprocessing import LabelEncoder, StandardScaler\n",
    "from sklearn.model_selection import train_test_split"
   ]
  },
  {
   "cell_type": "code",
   "execution_count": 201,
   "id": "f58e20f6",
   "metadata": {},
   "outputs": [
    {
     "data": {
      "text/html": [
       "<div>\n",
       "<style scoped>\n",
       "    .dataframe tbody tr th:only-of-type {\n",
       "        vertical-align: middle;\n",
       "    }\n",
       "\n",
       "    .dataframe tbody tr th {\n",
       "        vertical-align: top;\n",
       "    }\n",
       "\n",
       "    .dataframe thead th {\n",
       "        text-align: right;\n",
       "    }\n",
       "</style>\n",
       "<table border=\"1\" class=\"dataframe\">\n",
       "  <thead>\n",
       "    <tr style=\"text-align: right;\">\n",
       "      <th></th>\n",
       "      <th>Patient_ID</th>\n",
       "      <th>Month_of_Birth</th>\n",
       "      <th>Age</th>\n",
       "      <th>Sex</th>\n",
       "      <th>Occupation</th>\n",
       "      <th>T_Stage</th>\n",
       "      <th>N_Stage</th>\n",
       "      <th>6th_Stage</th>\n",
       "      <th>Differentiated</th>\n",
       "      <th>Grade</th>\n",
       "      <th>A_Stage</th>\n",
       "      <th>Tumor_Size</th>\n",
       "      <th>Estrogen_Status</th>\n",
       "      <th>Progesterone_Status</th>\n",
       "      <th>Regional_Node_Examined</th>\n",
       "      <th>Reginol_Node_Positive</th>\n",
       "      <th>Survival_Months</th>\n",
       "      <th>Mortality_Status</th>\n",
       "    </tr>\n",
       "  </thead>\n",
       "  <tbody>\n",
       "    <tr>\n",
       "      <th>0</th>\n",
       "      <td>A0012</td>\n",
       "      <td>12</td>\n",
       "      <td>68.0</td>\n",
       "      <td>Female</td>\n",
       "      <td>Teaching</td>\n",
       "      <td>T1</td>\n",
       "      <td>N1</td>\n",
       "      <td>IIA</td>\n",
       "      <td>Poorly differentiated</td>\n",
       "      <td>3</td>\n",
       "      <td>Regional</td>\n",
       "      <td>4.0</td>\n",
       "      <td>Positive</td>\n",
       "      <td>Positive</td>\n",
       "      <td>24.0</td>\n",
       "      <td>1</td>\n",
       "      <td>60</td>\n",
       "      <td>Alive</td>\n",
       "    </tr>\n",
       "    <tr>\n",
       "      <th>1</th>\n",
       "      <td>A0013</td>\n",
       "      <td>12</td>\n",
       "      <td>50.0</td>\n",
       "      <td>Female</td>\n",
       "      <td>Medical</td>\n",
       "      <td>T2</td>\n",
       "      <td>N2</td>\n",
       "      <td>IIIA</td>\n",
       "      <td>Moderately differentiated</td>\n",
       "      <td>2</td>\n",
       "      <td>Regional</td>\n",
       "      <td>35.0</td>\n",
       "      <td>Positive</td>\n",
       "      <td>Positive</td>\n",
       "      <td>14.0</td>\n",
       "      <td>5</td>\n",
       "      <td>62</td>\n",
       "      <td>Alive</td>\n",
       "    </tr>\n",
       "    <tr>\n",
       "      <th>2</th>\n",
       "      <td>A0014</td>\n",
       "      <td>11</td>\n",
       "      <td>58.0</td>\n",
       "      <td>Female</td>\n",
       "      <td>Engineering</td>\n",
       "      <td>T3</td>\n",
       "      <td>N3</td>\n",
       "      <td>IIIC</td>\n",
       "      <td>Moderately differentiated</td>\n",
       "      <td>2</td>\n",
       "      <td>Regional</td>\n",
       "      <td>63.0</td>\n",
       "      <td>Positive</td>\n",
       "      <td>Positive</td>\n",
       "      <td>14.0</td>\n",
       "      <td>7</td>\n",
       "      <td>75</td>\n",
       "      <td>Alive</td>\n",
       "    </tr>\n",
       "    <tr>\n",
       "      <th>3</th>\n",
       "      <td>A0015</td>\n",
       "      <td>3</td>\n",
       "      <td>58.0</td>\n",
       "      <td>Female</td>\n",
       "      <td>Technology</td>\n",
       "      <td>T1</td>\n",
       "      <td>N1</td>\n",
       "      <td>IIA</td>\n",
       "      <td>Poorly differentiated</td>\n",
       "      <td>3</td>\n",
       "      <td>Regional</td>\n",
       "      <td>18.0</td>\n",
       "      <td>Positive</td>\n",
       "      <td>Positive</td>\n",
       "      <td>2.0</td>\n",
       "      <td>1</td>\n",
       "      <td>84</td>\n",
       "      <td>Alive</td>\n",
       "    </tr>\n",
       "    <tr>\n",
       "      <th>4</th>\n",
       "      <td>A0016</td>\n",
       "      <td>1</td>\n",
       "      <td>47.0</td>\n",
       "      <td>Female</td>\n",
       "      <td>Multimedia</td>\n",
       "      <td>T2</td>\n",
       "      <td>N1</td>\n",
       "      <td>IIB</td>\n",
       "      <td>Poorly differentiated</td>\n",
       "      <td>3</td>\n",
       "      <td>Regional</td>\n",
       "      <td>41.0</td>\n",
       "      <td>Positive</td>\n",
       "      <td>Positive</td>\n",
       "      <td>3.0</td>\n",
       "      <td>1</td>\n",
       "      <td>50</td>\n",
       "      <td>Alive</td>\n",
       "    </tr>\n",
       "  </tbody>\n",
       "</table>\n",
       "</div>"
      ],
      "text/plain": [
       "  Patient_ID  Month_of_Birth   Age     Sex   Occupation T_Stage N_Stage  \\\n",
       "0      A0012              12  68.0  Female     Teaching      T1      N1   \n",
       "1      A0013              12  50.0  Female      Medical      T2      N2   \n",
       "2      A0014              11  58.0  Female  Engineering      T3      N3   \n",
       "3      A0015               3  58.0  Female   Technology      T1      N1   \n",
       "4      A0016               1  47.0  Female   Multimedia      T2      N1   \n",
       "\n",
       "  6th_Stage             Differentiated  Grade   A_Stage  Tumor_Size  \\\n",
       "0       IIA      Poorly differentiated      3  Regional         4.0   \n",
       "1      IIIA  Moderately differentiated      2  Regional        35.0   \n",
       "2      IIIC  Moderately differentiated      2  Regional        63.0   \n",
       "3       IIA      Poorly differentiated      3  Regional        18.0   \n",
       "4       IIB      Poorly differentiated      3  Regional        41.0   \n",
       "\n",
       "  Estrogen_Status Progesterone_Status  Regional_Node_Examined  \\\n",
       "0        Positive            Positive                    24.0   \n",
       "1        Positive            Positive                    14.0   \n",
       "2        Positive            Positive                    14.0   \n",
       "3        Positive            Positive                     2.0   \n",
       "4        Positive            Positive                     3.0   \n",
       "\n",
       "   Reginol_Node_Positive  Survival_Months Mortality_Status  \n",
       "0                      1               60            Alive  \n",
       "1                      5               62            Alive  \n",
       "2                      7               75            Alive  \n",
       "3                      1               84            Alive  \n",
       "4                      1               50            Alive  "
      ]
     },
     "execution_count": 201,
     "metadata": {},
     "output_type": "execute_result"
    }
   ],
   "source": [
    "df = pd.read_csv('5DATA002W.2 Coursework Dataset(25012025v6.0).csv')\n",
    "df.head()"
   ]
  },
  {
   "cell_type": "code",
   "execution_count": 202,
   "id": "0e52919a",
   "metadata": {},
   "outputs": [
    {
     "name": "stdout",
     "output_type": "stream",
     "text": [
      "<class 'pandas.core.frame.DataFrame'>\n",
      "RangeIndex: 4024 entries, 0 to 4023\n",
      "Data columns (total 18 columns):\n",
      " #   Column                  Non-Null Count  Dtype  \n",
      "---  ------                  --------------  -----  \n",
      " 0   Patient_ID              4024 non-null   object \n",
      " 1   Month_of_Birth          4024 non-null   int64  \n",
      " 2   Age                     4015 non-null   float64\n",
      " 3   Sex                     4020 non-null   object \n",
      " 4   Occupation              43 non-null     object \n",
      " 5   T_Stage                 4024 non-null   object \n",
      " 6   N_Stage                 4024 non-null   object \n",
      " 7   6th_Stage               4024 non-null   object \n",
      " 8   Differentiated          4024 non-null   object \n",
      " 9   Grade                   4024 non-null   int64  \n",
      " 10  A_Stage                 4024 non-null   object \n",
      " 11  Tumor_Size              4021 non-null   float64\n",
      " 12  Estrogen_Status         4024 non-null   object \n",
      " 13  Progesterone_Status     4024 non-null   object \n",
      " 14  Regional_Node_Examined  4023 non-null   float64\n",
      " 15  Reginol_Node_Positive   4024 non-null   int64  \n",
      " 16  Survival_Months         4024 non-null   int64  \n",
      " 17  Mortality_Status        4024 non-null   object \n",
      "dtypes: float64(3), int64(4), object(11)\n",
      "memory usage: 566.0+ KB\n"
     ]
    }
   ],
   "source": [
    "df.info()"
   ]
  },
  {
   "cell_type": "code",
   "execution_count": 203,
   "id": "4adf137d",
   "metadata": {},
   "outputs": [
    {
     "data": {
      "text/html": [
       "<div>\n",
       "<style scoped>\n",
       "    .dataframe tbody tr th:only-of-type {\n",
       "        vertical-align: middle;\n",
       "    }\n",
       "\n",
       "    .dataframe tbody tr th {\n",
       "        vertical-align: top;\n",
       "    }\n",
       "\n",
       "    .dataframe thead th {\n",
       "        text-align: right;\n",
       "    }\n",
       "</style>\n",
       "<table border=\"1\" class=\"dataframe\">\n",
       "  <thead>\n",
       "    <tr style=\"text-align: right;\">\n",
       "      <th></th>\n",
       "      <th>Month_of_Birth</th>\n",
       "      <th>Age</th>\n",
       "      <th>Grade</th>\n",
       "      <th>Tumor_Size</th>\n",
       "      <th>Regional_Node_Examined</th>\n",
       "      <th>Reginol_Node_Positive</th>\n",
       "      <th>Survival_Months</th>\n",
       "    </tr>\n",
       "  </thead>\n",
       "  <tbody>\n",
       "    <tr>\n",
       "      <th>count</th>\n",
       "      <td>4024.000000</td>\n",
       "      <td>4015.000000</td>\n",
       "      <td>4024.000000</td>\n",
       "      <td>4021.000000</td>\n",
       "      <td>4023.000000</td>\n",
       "      <td>4024.000000</td>\n",
       "      <td>4024.000000</td>\n",
       "    </tr>\n",
       "    <tr>\n",
       "      <th>mean</th>\n",
       "      <td>6.481362</td>\n",
       "      <td>54.107098</td>\n",
       "      <td>2.150596</td>\n",
       "      <td>30.419299</td>\n",
       "      <td>14.373602</td>\n",
       "      <td>4.158052</td>\n",
       "      <td>71.472167</td>\n",
       "    </tr>\n",
       "    <tr>\n",
       "      <th>std</th>\n",
       "      <td>3.475442</td>\n",
       "      <td>11.715528</td>\n",
       "      <td>0.638234</td>\n",
       "      <td>21.161080</td>\n",
       "      <td>8.129293</td>\n",
       "      <td>5.109331</td>\n",
       "      <td>25.361855</td>\n",
       "    </tr>\n",
       "    <tr>\n",
       "      <th>min</th>\n",
       "      <td>1.000000</td>\n",
       "      <td>-50.000000</td>\n",
       "      <td>1.000000</td>\n",
       "      <td>-75.000000</td>\n",
       "      <td>1.000000</td>\n",
       "      <td>1.000000</td>\n",
       "      <td>1.000000</td>\n",
       "    </tr>\n",
       "    <tr>\n",
       "      <th>25%</th>\n",
       "      <td>3.000000</td>\n",
       "      <td>47.000000</td>\n",
       "      <td>2.000000</td>\n",
       "      <td>16.000000</td>\n",
       "      <td>9.000000</td>\n",
       "      <td>1.000000</td>\n",
       "      <td>56.000000</td>\n",
       "    </tr>\n",
       "    <tr>\n",
       "      <th>50%</th>\n",
       "      <td>6.000000</td>\n",
       "      <td>54.000000</td>\n",
       "      <td>2.000000</td>\n",
       "      <td>25.000000</td>\n",
       "      <td>14.000000</td>\n",
       "      <td>2.000000</td>\n",
       "      <td>73.000000</td>\n",
       "    </tr>\n",
       "    <tr>\n",
       "      <th>75%</th>\n",
       "      <td>10.000000</td>\n",
       "      <td>61.000000</td>\n",
       "      <td>3.000000</td>\n",
       "      <td>38.000000</td>\n",
       "      <td>19.000000</td>\n",
       "      <td>5.000000</td>\n",
       "      <td>90.000000</td>\n",
       "    </tr>\n",
       "    <tr>\n",
       "      <th>max</th>\n",
       "      <td>12.000000</td>\n",
       "      <td>502.000000</td>\n",
       "      <td>4.000000</td>\n",
       "      <td>140.000000</td>\n",
       "      <td>61.000000</td>\n",
       "      <td>46.000000</td>\n",
       "      <td>760.000000</td>\n",
       "    </tr>\n",
       "  </tbody>\n",
       "</table>\n",
       "</div>"
      ],
      "text/plain": [
       "       Month_of_Birth          Age        Grade   Tumor_Size  \\\n",
       "count     4024.000000  4015.000000  4024.000000  4021.000000   \n",
       "mean         6.481362    54.107098     2.150596    30.419299   \n",
       "std          3.475442    11.715528     0.638234    21.161080   \n",
       "min          1.000000   -50.000000     1.000000   -75.000000   \n",
       "25%          3.000000    47.000000     2.000000    16.000000   \n",
       "50%          6.000000    54.000000     2.000000    25.000000   \n",
       "75%         10.000000    61.000000     3.000000    38.000000   \n",
       "max         12.000000   502.000000     4.000000   140.000000   \n",
       "\n",
       "       Regional_Node_Examined  Reginol_Node_Positive  Survival_Months  \n",
       "count             4023.000000            4024.000000      4024.000000  \n",
       "mean                14.373602               4.158052        71.472167  \n",
       "std                  8.129293               5.109331        25.361855  \n",
       "min                  1.000000               1.000000         1.000000  \n",
       "25%                  9.000000               1.000000        56.000000  \n",
       "50%                 14.000000               2.000000        73.000000  \n",
       "75%                 19.000000               5.000000        90.000000  \n",
       "max                 61.000000              46.000000       760.000000  "
      ]
     },
     "execution_count": 203,
     "metadata": {},
     "output_type": "execute_result"
    }
   ],
   "source": [
    "df.describe()"
   ]
  },
  {
   "cell_type": "code",
   "execution_count": 204,
   "id": "3621a46b",
   "metadata": {},
   "outputs": [],
   "source": [
    "#drop unnecessary coloumns\n",
    "df.drop(['Patient_ID','Month_of_Birth','Occupation'],axis='columns',inplace=True)"
   ]
  },
  {
   "cell_type": "code",
   "execution_count": 205,
   "id": "0bac7926",
   "metadata": {},
   "outputs": [
    {
     "data": {
      "text/plain": [
       "Age                       9\n",
       "Sex                       4\n",
       "T_Stage                   0\n",
       "N_Stage                   0\n",
       "6th_Stage                 0\n",
       "Differentiated            0\n",
       "Grade                     0\n",
       "A_Stage                   0\n",
       "Tumor_Size                3\n",
       "Estrogen_Status           0\n",
       "Progesterone_Status       0\n",
       "Regional_Node_Examined    1\n",
       "Reginol_Node_Positive     0\n",
       "Survival_Months           0\n",
       "Mortality_Status          0\n",
       "dtype: int64"
      ]
     },
     "execution_count": 205,
     "metadata": {},
     "output_type": "execute_result"
    }
   ],
   "source": [
    "#count the missing values \n",
    "df.isnull().sum()"
   ]
  },
  {
   "cell_type": "code",
   "execution_count": 206,
   "id": "0ba873c7",
   "metadata": {},
   "outputs": [],
   "source": [
    "#handle the all missig values \n",
    "# Dropping rows with missing values since they represent less than 0.5% of the dataset.\n",
    "df = df.dropna()\n"
   ]
  },
  {
   "cell_type": "code",
   "execution_count": 207,
   "id": "27db523c",
   "metadata": {},
   "outputs": [
    {
     "name": "stdout",
     "output_type": "stream",
     "text": [
      "Column: Age\n",
      "[ 68.  50.  58.  47.  51.  40.  69.  46.  65.  48.  62.  61.  56.  43.\n",
      "  60.  57.  55.  63.  66.  53.  59.  54.  49.  64.  42.  37.  67.  31.\n",
      "  52.  33.  45.  38.  39.  36. 180.  41.  44. -50.  32.  34. 502.  35.\n",
      "  30.  89.]\n",
      "------\n",
      "Column: Sex\n",
      "['Female' '1']\n",
      "------\n",
      "Column: T_Stage\n",
      "['T1' 'T2' 'T3' 'T4']\n",
      "------\n",
      "Column: N_Stage\n",
      "['N1' 'N2' 'N3']\n",
      "------\n",
      "Column: 6th_Stage\n",
      "['IIA' 'IIIA' 'IIIC' 'IIB' 'IIIB']\n",
      "------\n",
      "Column: Differentiated\n",
      "['Poorly differentiated' 'Moderately differentiated' 'Well differentiated'\n",
      " 'Undifferentiated']\n",
      "------\n",
      "Column: Grade\n",
      "[3 2 1 4]\n",
      "------\n",
      "Column: A_Stage\n",
      "['Regional' 'Distant']\n",
      "------\n",
      "Column: Tumor_Size\n",
      "[  4.  35.  63.  18.  41.  20.   8.  30. 103.  32.  13.  59.  15.  19.\n",
      "  46.  24.  25.  29.  40.  70.  22.  50.  17.  21.  10.  27.  23.   5.\n",
      "  51.   9.  55.  77.   2.  11.  12.  26.  75.  34. 120.  80.   3.  60.\n",
      "  14.  16.  45.  36.  76.  38.  49.   7.  72. 100.  43.  62.  37.  68.\n",
      " -75.  52.  85.  57.  39.  28.  48. 110.  65.   6. 140.  42. 130.  31.\n",
      "  90.  98.  47.  54.  61.  74.  33.   1.  87.  81.  58. 117.  44. 123.\n",
      " 133.  95. 107.  92. 105.  56.  82.  66.  78.  97.  88.  53.  69.  83.\n",
      " 101.  84. 115.  73. 125. 104.  94.  86.  64.  96.  79.  67.]\n",
      "------\n",
      "Column: Estrogen_Status\n",
      "['Positive' 'Negative']\n",
      "------\n",
      "Column: Progesterone_Status\n",
      "['Positive' 'Negative']\n",
      "------\n",
      "Column: Regional_Node_Examined\n",
      "[24. 14.  2.  3. 18. 11.  9. 20. 21. 13. 23. 16.  1. 22. 15.  4. 26. 31.\n",
      " 25. 10.  5.  6. 19. 12.  8. 17. 49.  7. 33. 30. 34. 28. 32. 27. 42. 29.\n",
      " 41. 39. 46. 40. 51. 44. 38. 47. 54. 36. 61. 60. 37. 35. 43. 52. 45. 57.]\n",
      "------\n",
      "Column: Reginol_Node_Positive\n",
      "[ 1  5  7  2 18 12  3 14 22 17 23  4 10  6 20 16 13 11 24  9  8 27 21 26\n",
      " 15 28 19 29 31 46 33 37 30 35 25 32 41 34]\n",
      "------\n",
      "Column: Survival_Months\n",
      "[ 60  62  75  84  50  89  54  14  70  92  64  56  38  49 105 107  77  81\n",
      "  78 102  98  82  86  52  90  31  37 103  42  61  63  39  59  71  74  73\n",
      "  91 106  80  44  85  79  12  95  55 101  65  72  57  87  40  25   8  53\n",
      "  58  24  66  69  93  94 100  96  41  67 104  51  13  11  47  23  45  68\n",
      "  76  15  16  99   7  48  88  34  97 760  83  17   3  22  30   6  32   9\n",
      "   5  10  19  18  35  27  36   4  29  33  26  20  28  43   1  46  21   2]\n",
      "------\n",
      "Column: Mortality_Status\n",
      "['Alive' 'Dead' 'ALIVE' 'DEAD' 'ALive' 'alive' 'dead']\n",
      "------\n"
     ]
    }
   ],
   "source": [
    "for column in df.columns:\n",
    "    print(f\"Column: {column}\")\n",
    "    print(df[column].unique())\n",
    "    print(\"------\")"
   ]
  },
  {
   "cell_type": "code",
   "execution_count": 208,
   "id": "0be54193",
   "metadata": {},
   "outputs": [],
   "source": [
    "# Clean'Mortality_Status' ('Alive' or 'Dead')\n",
    "df['Mortality_Status'] = df['Mortality_Status'].str.lower().str.capitalize()"
   ]
  },
  {
   "cell_type": "code",
   "execution_count": 209,
   "id": "2cd61377",
   "metadata": {},
   "outputs": [],
   "source": [
    "#replace wrong values in 'SEX' coloumn\n",
    "df['Sex'] = df['Sex'].replace('1', 'Male')"
   ]
  },
  {
   "cell_type": "code",
   "execution_count": null,
   "id": "95d625a3",
   "metadata": {},
   "outputs": [],
   "source": []
  },
  {
   "cell_type": "code",
   "execution_count": 210,
   "id": "4acf6a6d",
   "metadata": {},
   "outputs": [],
   "source": [
    "o_h_cols = ['Sex', 'A_Stage', 'Estrogen_Status', 'Progesterone_Status']\n",
    "df = pd.get_dummies(df, columns=o_h_cols, drop_first=True,dtype=int)\n",
    "\n"
   ]
  },
  {
   "cell_type": "code",
   "execution_count": 211,
   "id": "1edce959",
   "metadata": {},
   "outputs": [],
   "source": [
    "label_cols = ['T_Stage', 'N_Stage', '6th_Stage', 'Differentiated', 'Mortality_Status']\n",
    "for col in label_cols:\n",
    "    le = LabelEncoder()\n",
    "    df[col] = le.fit_transform(df[col])\n"
   ]
  },
  {
   "cell_type": "code",
   "execution_count": 212,
   "id": "606f0229",
   "metadata": {},
   "outputs": [
    {
     "data": {
      "text/html": [
       "<div>\n",
       "<style scoped>\n",
       "    .dataframe tbody tr th:only-of-type {\n",
       "        vertical-align: middle;\n",
       "    }\n",
       "\n",
       "    .dataframe tbody tr th {\n",
       "        vertical-align: top;\n",
       "    }\n",
       "\n",
       "    .dataframe thead th {\n",
       "        text-align: right;\n",
       "    }\n",
       "</style>\n",
       "<table border=\"1\" class=\"dataframe\">\n",
       "  <thead>\n",
       "    <tr style=\"text-align: right;\">\n",
       "      <th></th>\n",
       "      <th>Age</th>\n",
       "      <th>T_Stage</th>\n",
       "      <th>N_Stage</th>\n",
       "      <th>6th_Stage</th>\n",
       "      <th>Differentiated</th>\n",
       "      <th>Grade</th>\n",
       "      <th>Tumor_Size</th>\n",
       "      <th>Regional_Node_Examined</th>\n",
       "      <th>Reginol_Node_Positive</th>\n",
       "      <th>Survival_Months</th>\n",
       "      <th>Mortality_Status</th>\n",
       "      <th>Sex_Male</th>\n",
       "      <th>A_Stage_Regional</th>\n",
       "      <th>Estrogen_Status_Positive</th>\n",
       "      <th>Progesterone_Status_Positive</th>\n",
       "    </tr>\n",
       "  </thead>\n",
       "  <tbody>\n",
       "    <tr>\n",
       "      <th>0</th>\n",
       "      <td>68.0</td>\n",
       "      <td>0</td>\n",
       "      <td>0</td>\n",
       "      <td>0</td>\n",
       "      <td>1</td>\n",
       "      <td>3</td>\n",
       "      <td>4.0</td>\n",
       "      <td>24.0</td>\n",
       "      <td>1</td>\n",
       "      <td>60</td>\n",
       "      <td>0</td>\n",
       "      <td>0</td>\n",
       "      <td>1</td>\n",
       "      <td>1</td>\n",
       "      <td>1</td>\n",
       "    </tr>\n",
       "    <tr>\n",
       "      <th>1</th>\n",
       "      <td>50.0</td>\n",
       "      <td>1</td>\n",
       "      <td>1</td>\n",
       "      <td>2</td>\n",
       "      <td>0</td>\n",
       "      <td>2</td>\n",
       "      <td>35.0</td>\n",
       "      <td>14.0</td>\n",
       "      <td>5</td>\n",
       "      <td>62</td>\n",
       "      <td>0</td>\n",
       "      <td>0</td>\n",
       "      <td>1</td>\n",
       "      <td>1</td>\n",
       "      <td>1</td>\n",
       "    </tr>\n",
       "    <tr>\n",
       "      <th>2</th>\n",
       "      <td>58.0</td>\n",
       "      <td>2</td>\n",
       "      <td>2</td>\n",
       "      <td>4</td>\n",
       "      <td>0</td>\n",
       "      <td>2</td>\n",
       "      <td>63.0</td>\n",
       "      <td>14.0</td>\n",
       "      <td>7</td>\n",
       "      <td>75</td>\n",
       "      <td>0</td>\n",
       "      <td>0</td>\n",
       "      <td>1</td>\n",
       "      <td>1</td>\n",
       "      <td>1</td>\n",
       "    </tr>\n",
       "    <tr>\n",
       "      <th>3</th>\n",
       "      <td>58.0</td>\n",
       "      <td>0</td>\n",
       "      <td>0</td>\n",
       "      <td>0</td>\n",
       "      <td>1</td>\n",
       "      <td>3</td>\n",
       "      <td>18.0</td>\n",
       "      <td>2.0</td>\n",
       "      <td>1</td>\n",
       "      <td>84</td>\n",
       "      <td>0</td>\n",
       "      <td>0</td>\n",
       "      <td>1</td>\n",
       "      <td>1</td>\n",
       "      <td>1</td>\n",
       "    </tr>\n",
       "    <tr>\n",
       "      <th>4</th>\n",
       "      <td>47.0</td>\n",
       "      <td>1</td>\n",
       "      <td>0</td>\n",
       "      <td>1</td>\n",
       "      <td>1</td>\n",
       "      <td>3</td>\n",
       "      <td>41.0</td>\n",
       "      <td>3.0</td>\n",
       "      <td>1</td>\n",
       "      <td>50</td>\n",
       "      <td>0</td>\n",
       "      <td>0</td>\n",
       "      <td>1</td>\n",
       "      <td>1</td>\n",
       "      <td>1</td>\n",
       "    </tr>\n",
       "    <tr>\n",
       "      <th>...</th>\n",
       "      <td>...</td>\n",
       "      <td>...</td>\n",
       "      <td>...</td>\n",
       "      <td>...</td>\n",
       "      <td>...</td>\n",
       "      <td>...</td>\n",
       "      <td>...</td>\n",
       "      <td>...</td>\n",
       "      <td>...</td>\n",
       "      <td>...</td>\n",
       "      <td>...</td>\n",
       "      <td>...</td>\n",
       "      <td>...</td>\n",
       "      <td>...</td>\n",
       "      <td>...</td>\n",
       "    </tr>\n",
       "    <tr>\n",
       "      <th>4019</th>\n",
       "      <td>62.0</td>\n",
       "      <td>0</td>\n",
       "      <td>0</td>\n",
       "      <td>0</td>\n",
       "      <td>0</td>\n",
       "      <td>2</td>\n",
       "      <td>9.0</td>\n",
       "      <td>1.0</td>\n",
       "      <td>1</td>\n",
       "      <td>49</td>\n",
       "      <td>0</td>\n",
       "      <td>0</td>\n",
       "      <td>1</td>\n",
       "      <td>1</td>\n",
       "      <td>1</td>\n",
       "    </tr>\n",
       "    <tr>\n",
       "      <th>4020</th>\n",
       "      <td>56.0</td>\n",
       "      <td>1</td>\n",
       "      <td>1</td>\n",
       "      <td>2</td>\n",
       "      <td>0</td>\n",
       "      <td>2</td>\n",
       "      <td>46.0</td>\n",
       "      <td>14.0</td>\n",
       "      <td>8</td>\n",
       "      <td>69</td>\n",
       "      <td>0</td>\n",
       "      <td>0</td>\n",
       "      <td>1</td>\n",
       "      <td>1</td>\n",
       "      <td>1</td>\n",
       "    </tr>\n",
       "    <tr>\n",
       "      <th>4021</th>\n",
       "      <td>68.0</td>\n",
       "      <td>1</td>\n",
       "      <td>0</td>\n",
       "      <td>1</td>\n",
       "      <td>0</td>\n",
       "      <td>2</td>\n",
       "      <td>22.0</td>\n",
       "      <td>11.0</td>\n",
       "      <td>3</td>\n",
       "      <td>69</td>\n",
       "      <td>0</td>\n",
       "      <td>1</td>\n",
       "      <td>1</td>\n",
       "      <td>1</td>\n",
       "      <td>0</td>\n",
       "    </tr>\n",
       "    <tr>\n",
       "      <th>4022</th>\n",
       "      <td>58.0</td>\n",
       "      <td>1</td>\n",
       "      <td>0</td>\n",
       "      <td>1</td>\n",
       "      <td>0</td>\n",
       "      <td>2</td>\n",
       "      <td>44.0</td>\n",
       "      <td>11.0</td>\n",
       "      <td>1</td>\n",
       "      <td>72</td>\n",
       "      <td>0</td>\n",
       "      <td>0</td>\n",
       "      <td>1</td>\n",
       "      <td>1</td>\n",
       "      <td>1</td>\n",
       "    </tr>\n",
       "    <tr>\n",
       "      <th>4023</th>\n",
       "      <td>46.0</td>\n",
       "      <td>1</td>\n",
       "      <td>0</td>\n",
       "      <td>1</td>\n",
       "      <td>0</td>\n",
       "      <td>2</td>\n",
       "      <td>30.0</td>\n",
       "      <td>7.0</td>\n",
       "      <td>2</td>\n",
       "      <td>100</td>\n",
       "      <td>0</td>\n",
       "      <td>0</td>\n",
       "      <td>1</td>\n",
       "      <td>1</td>\n",
       "      <td>1</td>\n",
       "    </tr>\n",
       "  </tbody>\n",
       "</table>\n",
       "<p>4007 rows × 15 columns</p>\n",
       "</div>"
      ],
      "text/plain": [
       "       Age  T_Stage  N_Stage  6th_Stage  Differentiated  Grade  Tumor_Size  \\\n",
       "0     68.0        0        0          0               1      3         4.0   \n",
       "1     50.0        1        1          2               0      2        35.0   \n",
       "2     58.0        2        2          4               0      2        63.0   \n",
       "3     58.0        0        0          0               1      3        18.0   \n",
       "4     47.0        1        0          1               1      3        41.0   \n",
       "...    ...      ...      ...        ...             ...    ...         ...   \n",
       "4019  62.0        0        0          0               0      2         9.0   \n",
       "4020  56.0        1        1          2               0      2        46.0   \n",
       "4021  68.0        1        0          1               0      2        22.0   \n",
       "4022  58.0        1        0          1               0      2        44.0   \n",
       "4023  46.0        1        0          1               0      2        30.0   \n",
       "\n",
       "      Regional_Node_Examined  Reginol_Node_Positive  Survival_Months  \\\n",
       "0                       24.0                      1               60   \n",
       "1                       14.0                      5               62   \n",
       "2                       14.0                      7               75   \n",
       "3                        2.0                      1               84   \n",
       "4                        3.0                      1               50   \n",
       "...                      ...                    ...              ...   \n",
       "4019                     1.0                      1               49   \n",
       "4020                    14.0                      8               69   \n",
       "4021                    11.0                      3               69   \n",
       "4022                    11.0                      1               72   \n",
       "4023                     7.0                      2              100   \n",
       "\n",
       "      Mortality_Status  Sex_Male  A_Stage_Regional  Estrogen_Status_Positive  \\\n",
       "0                    0         0                 1                         1   \n",
       "1                    0         0                 1                         1   \n",
       "2                    0         0                 1                         1   \n",
       "3                    0         0                 1                         1   \n",
       "4                    0         0                 1                         1   \n",
       "...                ...       ...               ...                       ...   \n",
       "4019                 0         0                 1                         1   \n",
       "4020                 0         0                 1                         1   \n",
       "4021                 0         1                 1                         1   \n",
       "4022                 0         0                 1                         1   \n",
       "4023                 0         0                 1                         1   \n",
       "\n",
       "      Progesterone_Status_Positive  \n",
       "0                                1  \n",
       "1                                1  \n",
       "2                                1  \n",
       "3                                1  \n",
       "4                                1  \n",
       "...                            ...  \n",
       "4019                             1  \n",
       "4020                             1  \n",
       "4021                             0  \n",
       "4022                             1  \n",
       "4023                             1  \n",
       "\n",
       "[4007 rows x 15 columns]"
      ]
     },
     "execution_count": 212,
     "metadata": {},
     "output_type": "execute_result"
    }
   ],
   "source": [
    "df"
   ]
  },
  {
   "cell_type": "code",
   "execution_count": 213,
   "id": "5f1b30a2",
   "metadata": {},
   "outputs": [],
   "source": [
    "column_mapping = {\n",
    "    'Sex_Male': 'Sex',  # 1=Male, 0=Female\n",
    "    'A_Stage_Regional': 'A_Stage',  # 1=Regional, 0=Distant\n",
    "    'Estrogen_Status_Positive': 'Estrogen_Status',  # 1=Positive, 0=Negative\n",
    "    'Progesterone_Status_Positive': 'Progesterone_Status'  # 1=Positive, 0=Negative\n",
    "}\n",
    "\n",
    "# Rename the columns\n",
    "df = df.rename(columns=column_mapping)"
   ]
  },
  {
   "cell_type": "code",
   "execution_count": 214,
   "id": "5808ec49",
   "metadata": {},
   "outputs": [
    {
     "data": {
      "text/html": [
       "<div>\n",
       "<style scoped>\n",
       "    .dataframe tbody tr th:only-of-type {\n",
       "        vertical-align: middle;\n",
       "    }\n",
       "\n",
       "    .dataframe tbody tr th {\n",
       "        vertical-align: top;\n",
       "    }\n",
       "\n",
       "    .dataframe thead th {\n",
       "        text-align: right;\n",
       "    }\n",
       "</style>\n",
       "<table border=\"1\" class=\"dataframe\">\n",
       "  <thead>\n",
       "    <tr style=\"text-align: right;\">\n",
       "      <th></th>\n",
       "      <th>Age</th>\n",
       "      <th>T_Stage</th>\n",
       "      <th>N_Stage</th>\n",
       "      <th>6th_Stage</th>\n",
       "      <th>Differentiated</th>\n",
       "      <th>Grade</th>\n",
       "      <th>Tumor_Size</th>\n",
       "      <th>Regional_Node_Examined</th>\n",
       "      <th>Reginol_Node_Positive</th>\n",
       "      <th>Survival_Months</th>\n",
       "      <th>Mortality_Status</th>\n",
       "      <th>Sex</th>\n",
       "      <th>A_Stage</th>\n",
       "      <th>Estrogen_Status</th>\n",
       "      <th>Progesterone_Status</th>\n",
       "    </tr>\n",
       "  </thead>\n",
       "  <tbody>\n",
       "    <tr>\n",
       "      <th>0</th>\n",
       "      <td>68.0</td>\n",
       "      <td>0</td>\n",
       "      <td>0</td>\n",
       "      <td>0</td>\n",
       "      <td>1</td>\n",
       "      <td>3</td>\n",
       "      <td>4.0</td>\n",
       "      <td>24.0</td>\n",
       "      <td>1</td>\n",
       "      <td>60</td>\n",
       "      <td>0</td>\n",
       "      <td>0</td>\n",
       "      <td>1</td>\n",
       "      <td>1</td>\n",
       "      <td>1</td>\n",
       "    </tr>\n",
       "    <tr>\n",
       "      <th>1</th>\n",
       "      <td>50.0</td>\n",
       "      <td>1</td>\n",
       "      <td>1</td>\n",
       "      <td>2</td>\n",
       "      <td>0</td>\n",
       "      <td>2</td>\n",
       "      <td>35.0</td>\n",
       "      <td>14.0</td>\n",
       "      <td>5</td>\n",
       "      <td>62</td>\n",
       "      <td>0</td>\n",
       "      <td>0</td>\n",
       "      <td>1</td>\n",
       "      <td>1</td>\n",
       "      <td>1</td>\n",
       "    </tr>\n",
       "    <tr>\n",
       "      <th>2</th>\n",
       "      <td>58.0</td>\n",
       "      <td>2</td>\n",
       "      <td>2</td>\n",
       "      <td>4</td>\n",
       "      <td>0</td>\n",
       "      <td>2</td>\n",
       "      <td>63.0</td>\n",
       "      <td>14.0</td>\n",
       "      <td>7</td>\n",
       "      <td>75</td>\n",
       "      <td>0</td>\n",
       "      <td>0</td>\n",
       "      <td>1</td>\n",
       "      <td>1</td>\n",
       "      <td>1</td>\n",
       "    </tr>\n",
       "    <tr>\n",
       "      <th>3</th>\n",
       "      <td>58.0</td>\n",
       "      <td>0</td>\n",
       "      <td>0</td>\n",
       "      <td>0</td>\n",
       "      <td>1</td>\n",
       "      <td>3</td>\n",
       "      <td>18.0</td>\n",
       "      <td>2.0</td>\n",
       "      <td>1</td>\n",
       "      <td>84</td>\n",
       "      <td>0</td>\n",
       "      <td>0</td>\n",
       "      <td>1</td>\n",
       "      <td>1</td>\n",
       "      <td>1</td>\n",
       "    </tr>\n",
       "    <tr>\n",
       "      <th>4</th>\n",
       "      <td>47.0</td>\n",
       "      <td>1</td>\n",
       "      <td>0</td>\n",
       "      <td>1</td>\n",
       "      <td>1</td>\n",
       "      <td>3</td>\n",
       "      <td>41.0</td>\n",
       "      <td>3.0</td>\n",
       "      <td>1</td>\n",
       "      <td>50</td>\n",
       "      <td>0</td>\n",
       "      <td>0</td>\n",
       "      <td>1</td>\n",
       "      <td>1</td>\n",
       "      <td>1</td>\n",
       "    </tr>\n",
       "  </tbody>\n",
       "</table>\n",
       "</div>"
      ],
      "text/plain": [
       "    Age  T_Stage  N_Stage  6th_Stage  Differentiated  Grade  Tumor_Size  \\\n",
       "0  68.0        0        0          0               1      3         4.0   \n",
       "1  50.0        1        1          2               0      2        35.0   \n",
       "2  58.0        2        2          4               0      2        63.0   \n",
       "3  58.0        0        0          0               1      3        18.0   \n",
       "4  47.0        1        0          1               1      3        41.0   \n",
       "\n",
       "   Regional_Node_Examined  Reginol_Node_Positive  Survival_Months  \\\n",
       "0                    24.0                      1               60   \n",
       "1                    14.0                      5               62   \n",
       "2                    14.0                      7               75   \n",
       "3                     2.0                      1               84   \n",
       "4                     3.0                      1               50   \n",
       "\n",
       "   Mortality_Status  Sex  A_Stage  Estrogen_Status  Progesterone_Status  \n",
       "0                 0    0        1                1                    1  \n",
       "1                 0    0        1                1                    1  \n",
       "2                 0    0        1                1                    1  \n",
       "3                 0    0        1                1                    1  \n",
       "4                 0    0        1                1                    1  "
      ]
     },
     "execution_count": 214,
     "metadata": {},
     "output_type": "execute_result"
    }
   ],
   "source": [
    "df.head()"
   ]
  },
  {
   "cell_type": "code",
   "execution_count": 215,
   "id": "04939f7c",
   "metadata": {},
   "outputs": [],
   "source": [
    " #identify the univariate outliers"
   ]
  },
  {
   "cell_type": "code",
   "execution_count": null,
   "id": "54de9f72",
   "metadata": {},
   "outputs": [],
   "source": [
    "outl_cols = df[['Age','Tumor_Size','Regional_Node_Examined','Reginol_Node_Positive','Survival_Months']]"
   ]
  },
  {
   "cell_type": "code",
   "execution_count": 220,
   "id": "51993226",
   "metadata": {},
   "outputs": [
    {
     "data": {
      "application/vnd.plotly.v1+json": {
       "config": {
        "plotlyServerURL": "https://plot.ly"
       },
       "data": [
        {
         "alignmentgroup": "True",
         "hovertemplate": "Age=%{x}<extra></extra>",
         "legendgroup": "",
         "marker": {
          "color": "#636efa"
         },
         "name": "",
         "notched": false,
         "offsetgroup": "",
         "orientation": "h",
         "showlegend": false,
         "type": "box",
         "x": {
          "bdata": "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",
          "dtype": "f8"
         },
         "x0": " ",
         "xaxis": "x",
         "y0": " ",
         "yaxis": "y"
        }
       ],
       "layout": {
        "boxmode": "group",
        "legend": {
         "tracegroupgap": 0
        },
        "template": {
         "data": {
          "bar": [
           {
            "error_x": {
             "color": "#2a3f5f"
            },
            "error_y": {
             "color": "#2a3f5f"
            },
            "marker": {
             "line": {
              "color": "#E5ECF6",
              "width": 0.5
             },
             "pattern": {
              "fillmode": "overlay",
              "size": 10,
              "solidity": 0.2
             }
            },
            "type": "bar"
           }
          ],
          "barpolar": [
           {
            "marker": {
             "line": {
              "color": "#E5ECF6",
              "width": 0.5
             },
             "pattern": {
              "fillmode": "overlay",
              "size": 10,
              "solidity": 0.2
             }
            },
            "type": "barpolar"
           }
          ],
          "carpet": [
           {
            "aaxis": {
             "endlinecolor": "#2a3f5f",
             "gridcolor": "white",
             "linecolor": "white",
             "minorgridcolor": "white",
             "startlinecolor": "#2a3f5f"
            },
            "baxis": {
             "endlinecolor": "#2a3f5f",
             "gridcolor": "white",
             "linecolor": "white",
             "minorgridcolor": "white",
             "startlinecolor": "#2a3f5f"
            },
            "type": "carpet"
           }
          ],
          "choropleth": [
           {
            "colorbar": {
             "outlinewidth": 0,
             "ticks": ""
            },
            "type": "choropleth"
           }
          ],
          "contour": [
           {
            "colorbar": {
             "outlinewidth": 0,
             "ticks": ""
            },
            "colorscale": [
             [
              0,
              "#0d0887"
             ],
             [
              0.1111111111111111,
              "#46039f"
             ],
             [
              0.2222222222222222,
              "#7201a8"
             ],
             [
              0.3333333333333333,
              "#9c179e"
             ],
             [
              0.4444444444444444,
              "#bd3786"
             ],
             [
              0.5555555555555556,
              "#d8576b"
             ],
             [
              0.6666666666666666,
              "#ed7953"
             ],
             [
              0.7777777777777778,
              "#fb9f3a"
             ],
             [
              0.8888888888888888,
              "#fdca26"
             ],
             [
              1,
              "#f0f921"
             ]
            ],
            "type": "contour"
           }
          ],
          "contourcarpet": [
           {
            "colorbar": {
             "outlinewidth": 0,
             "ticks": ""
            },
            "type": "contourcarpet"
           }
          ],
          "heatmap": [
           {
            "colorbar": {
             "outlinewidth": 0,
             "ticks": ""
            },
            "colorscale": [
             [
              0,
              "#0d0887"
             ],
             [
              0.1111111111111111,
              "#46039f"
             ],
             [
              0.2222222222222222,
              "#7201a8"
             ],
             [
              0.3333333333333333,
              "#9c179e"
             ],
             [
              0.4444444444444444,
              "#bd3786"
             ],
             [
              0.5555555555555556,
              "#d8576b"
             ],
             [
              0.6666666666666666,
              "#ed7953"
             ],
             [
              0.7777777777777778,
              "#fb9f3a"
             ],
             [
              0.8888888888888888,
              "#fdca26"
             ],
             [
              1,
              "#f0f921"
             ]
            ],
            "type": "heatmap"
           }
          ],
          "histogram": [
           {
            "marker": {
             "pattern": {
              "fillmode": "overlay",
              "size": 10,
              "solidity": 0.2
             }
            },
            "type": "histogram"
           }
          ],
          "histogram2d": [
           {
            "colorbar": {
             "outlinewidth": 0,
             "ticks": ""
            },
            "colorscale": [
             [
              0,
              "#0d0887"
             ],
             [
              0.1111111111111111,
              "#46039f"
             ],
             [
              0.2222222222222222,
              "#7201a8"
             ],
             [
              0.3333333333333333,
              "#9c179e"
             ],
             [
              0.4444444444444444,
              "#bd3786"
             ],
             [
              0.5555555555555556,
              "#d8576b"
             ],
             [
              0.6666666666666666,
              "#ed7953"
             ],
             [
              0.7777777777777778,
              "#fb9f3a"
             ],
             [
              0.8888888888888888,
              "#fdca26"
             ],
             [
              1,
              "#f0f921"
             ]
            ],
            "type": "histogram2d"
           }
          ],
          "histogram2dcontour": [
           {
            "colorbar": {
             "outlinewidth": 0,
             "ticks": ""
            },
            "colorscale": [
             [
              0,
              "#0d0887"
             ],
             [
              0.1111111111111111,
              "#46039f"
             ],
             [
              0.2222222222222222,
              "#7201a8"
             ],
             [
              0.3333333333333333,
              "#9c179e"
             ],
             [
              0.4444444444444444,
              "#bd3786"
             ],
             [
              0.5555555555555556,
              "#d8576b"
             ],
             [
              0.6666666666666666,
              "#ed7953"
             ],
             [
              0.7777777777777778,
              "#fb9f3a"
             ],
             [
              0.8888888888888888,
              "#fdca26"
             ],
             [
              1,
              "#f0f921"
             ]
            ],
            "type": "histogram2dcontour"
           }
          ],
          "mesh3d": [
           {
            "colorbar": {
             "outlinewidth": 0,
             "ticks": ""
            },
            "type": "mesh3d"
           }
          ],
          "parcoords": [
           {
            "line": {
             "colorbar": {
              "outlinewidth": 0,
              "ticks": ""
             }
            },
            "type": "parcoords"
           }
          ],
          "pie": [
           {
            "automargin": true,
            "type": "pie"
           }
          ],
          "scatter": [
           {
            "fillpattern": {
             "fillmode": "overlay",
             "size": 10,
             "solidity": 0.2
            },
            "type": "scatter"
           }
          ],
          "scatter3d": [
           {
            "line": {
             "colorbar": {
              "outlinewidth": 0,
              "ticks": ""
             }
            },
            "marker": {
             "colorbar": {
              "outlinewidth": 0,
              "ticks": ""
             }
            },
            "type": "scatter3d"
           }
          ],
          "scattercarpet": [
           {
            "marker": {
             "colorbar": {
              "outlinewidth": 0,
              "ticks": ""
             }
            },
            "type": "scattercarpet"
           }
          ],
          "scattergeo": [
           {
            "marker": {
             "colorbar": {
              "outlinewidth": 0,
              "ticks": ""
             }
            },
            "type": "scattergeo"
           }
          ],
          "scattergl": [
           {
            "marker": {
             "colorbar": {
              "outlinewidth": 0,
              "ticks": ""
             }
            },
            "type": "scattergl"
           }
          ],
          "scattermap": [
           {
            "marker": {
             "colorbar": {
              "outlinewidth": 0,
              "ticks": ""
             }
            },
            "type": "scattermap"
           }
          ],
          "scattermapbox": [
           {
            "marker": {
             "colorbar": {
              "outlinewidth": 0,
              "ticks": ""
             }
            },
            "type": "scattermapbox"
           }
          ],
          "scatterpolar": [
           {
            "marker": {
             "colorbar": {
              "outlinewidth": 0,
              "ticks": ""
             }
            },
            "type": "scatterpolar"
           }
          ],
          "scatterpolargl": [
           {
            "marker": {
             "colorbar": {
              "outlinewidth": 0,
              "ticks": ""
             }
            },
            "type": "scatterpolargl"
           }
          ],
          "scatterternary": [
           {
            "marker": {
             "colorbar": {
              "outlinewidth": 0,
              "ticks": ""
             }
            },
            "type": "scatterternary"
           }
          ],
          "surface": [
           {
            "colorbar": {
             "outlinewidth": 0,
             "ticks": ""
            },
            "colorscale": [
             [
              0,
              "#0d0887"
             ],
             [
              0.1111111111111111,
              "#46039f"
             ],
             [
              0.2222222222222222,
              "#7201a8"
             ],
             [
              0.3333333333333333,
              "#9c179e"
             ],
             [
              0.4444444444444444,
              "#bd3786"
             ],
             [
              0.5555555555555556,
              "#d8576b"
             ],
             [
              0.6666666666666666,
              "#ed7953"
             ],
             [
              0.7777777777777778,
              "#fb9f3a"
             ],
             [
              0.8888888888888888,
              "#fdca26"
             ],
             [
              1,
              "#f0f921"
             ]
            ],
            "type": "surface"
           }
          ],
          "table": [
           {
            "cells": {
             "fill": {
              "color": "#EBF0F8"
             },
             "line": {
              "color": "white"
             }
            },
            "header": {
             "fill": {
              "color": "#C8D4E3"
             },
             "line": {
              "color": "white"
             }
            },
            "type": "table"
           }
          ]
         },
         "layout": {
          "annotationdefaults": {
           "arrowcolor": "#2a3f5f",
           "arrowhead": 0,
           "arrowwidth": 1
          },
          "autotypenumbers": "strict",
          "coloraxis": {
           "colorbar": {
            "outlinewidth": 0,
            "ticks": ""
           }
          },
          "colorscale": {
           "diverging": [
            [
             0,
             "#8e0152"
            ],
            [
             0.1,
             "#c51b7d"
            ],
            [
             0.2,
             "#de77ae"
            ],
            [
             0.3,
             "#f1b6da"
            ],
            [
             0.4,
             "#fde0ef"
            ],
            [
             0.5,
             "#f7f7f7"
            ],
            [
             0.6,
             "#e6f5d0"
            ],
            [
             0.7,
             "#b8e186"
            ],
            [
             0.8,
             "#7fbc41"
            ],
            [
             0.9,
             "#4d9221"
            ],
            [
             1,
             "#276419"
            ]
           ],
           "sequential": [
            [
             0,
             "#0d0887"
            ],
            [
             0.1111111111111111,
             "#46039f"
            ],
            [
             0.2222222222222222,
             "#7201a8"
            ],
            [
             0.3333333333333333,
             "#9c179e"
            ],
            [
             0.4444444444444444,
             "#bd3786"
            ],
            [
             0.5555555555555556,
             "#d8576b"
            ],
            [
             0.6666666666666666,
             "#ed7953"
            ],
            [
             0.7777777777777778,
             "#fb9f3a"
            ],
            [
             0.8888888888888888,
             "#fdca26"
            ],
            [
             1,
             "#f0f921"
            ]
           ],
           "sequentialminus": [
            [
             0,
             "#0d0887"
            ],
            [
             0.1111111111111111,
             "#46039f"
            ],
            [
             0.2222222222222222,
             "#7201a8"
            ],
            [
             0.3333333333333333,
             "#9c179e"
            ],
            [
             0.4444444444444444,
             "#bd3786"
            ],
            [
             0.5555555555555556,
             "#d8576b"
            ],
            [
             0.6666666666666666,
             "#ed7953"
            ],
            [
             0.7777777777777778,
             "#fb9f3a"
            ],
            [
             0.8888888888888888,
             "#fdca26"
            ],
            [
             1,
             "#f0f921"
            ]
           ]
          },
          "colorway": [
           "#636efa",
           "#EF553B",
           "#00cc96",
           "#ab63fa",
           "#FFA15A",
           "#19d3f3",
           "#FF6692",
           "#B6E880",
           "#FF97FF",
           "#FECB52"
          ],
          "font": {
           "color": "#2a3f5f"
          },
          "geo": {
           "bgcolor": "white",
           "lakecolor": "white",
           "landcolor": "#E5ECF6",
           "showlakes": true,
           "showland": true,
           "subunitcolor": "white"
          },
          "hoverlabel": {
           "align": "left"
          },
          "hovermode": "closest",
          "mapbox": {
           "style": "light"
          },
          "paper_bgcolor": "white",
          "plot_bgcolor": "#E5ECF6",
          "polar": {
           "angularaxis": {
            "gridcolor": "white",
            "linecolor": "white",
            "ticks": ""
           },
           "bgcolor": "#E5ECF6",
           "radialaxis": {
            "gridcolor": "white",
            "linecolor": "white",
            "ticks": ""
           }
          },
          "scene": {
           "xaxis": {
            "backgroundcolor": "#E5ECF6",
            "gridcolor": "white",
            "gridwidth": 2,
            "linecolor": "white",
            "showbackground": true,
            "ticks": "",
            "zerolinecolor": "white"
           },
           "yaxis": {
            "backgroundcolor": "#E5ECF6",
            "gridcolor": "white",
            "gridwidth": 2,
            "linecolor": "white",
            "showbackground": true,
            "ticks": "",
            "zerolinecolor": "white"
           },
           "zaxis": {
            "backgroundcolor": "#E5ECF6",
            "gridcolor": "white",
            "gridwidth": 2,
            "linecolor": "white",
            "showbackground": true,
            "ticks": "",
            "zerolinecolor": "white"
           }
          },
          "shapedefaults": {
           "line": {
            "color": "#2a3f5f"
           }
          },
          "ternary": {
           "aaxis": {
            "gridcolor": "white",
            "linecolor": "white",
            "ticks": ""
           },
           "baxis": {
            "gridcolor": "white",
            "linecolor": "white",
            "ticks": ""
           },
           "bgcolor": "#E5ECF6",
           "caxis": {
            "gridcolor": "white",
            "linecolor": "white",
            "ticks": ""
           }
          },
          "title": {
           "x": 0.05
          },
          "xaxis": {
           "automargin": true,
           "gridcolor": "white",
           "linecolor": "white",
           "ticks": "",
           "title": {
            "standoff": 15
           },
           "zerolinecolor": "white",
           "zerolinewidth": 2
          },
          "yaxis": {
           "automargin": true,
           "gridcolor": "white",
           "linecolor": "white",
           "ticks": "",
           "title": {
            "standoff": 15
           },
           "zerolinecolor": "white",
           "zerolinewidth": 2
          }
         }
        },
        "title": {
         "text": "f\"Box Plot - {col}"
        },
        "xaxis": {
         "anchor": "y",
         "domain": [
          0,
          1
         ],
         "title": {
          "text": "Age"
         }
        },
        "yaxis": {
         "anchor": "x",
         "domain": [
          0,
          1
         ]
        }
       }
      }
     },
     "metadata": {},
     "output_type": "display_data"
    },
    {
     "data": {
      "application/vnd.plotly.v1+json": {
       "config": {
        "plotlyServerURL": "https://plot.ly"
       },
       "data": [
        {
         "alignmentgroup": "True",
         "hovertemplate": "Tumor_Size=%{x}<extra></extra>",
         "legendgroup": "",
         "marker": {
          "color": "#636efa"
         },
         "name": "",
         "notched": false,
         "offsetgroup": "",
         "orientation": "h",
         "showlegend": false,
         "type": "box",
         "x": {
          "bdata": "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",
          "dtype": "f8"
         },
         "x0": " ",
         "xaxis": "x",
         "y0": " ",
         "yaxis": "y"
        }
       ],
       "layout": {
        "boxmode": "group",
        "legend": {
         "tracegroupgap": 0
        },
        "template": {
         "data": {
          "bar": [
           {
            "error_x": {
             "color": "#2a3f5f"
            },
            "error_y": {
             "color": "#2a3f5f"
            },
            "marker": {
             "line": {
              "color": "#E5ECF6",
              "width": 0.5
             },
             "pattern": {
              "fillmode": "overlay",
              "size": 10,
              "solidity": 0.2
             }
            },
            "type": "bar"
           }
          ],
          "barpolar": [
           {
            "marker": {
             "line": {
              "color": "#E5ECF6",
              "width": 0.5
             },
             "pattern": {
              "fillmode": "overlay",
              "size": 10,
              "solidity": 0.2
             }
            },
            "type": "barpolar"
           }
          ],
          "carpet": [
           {
            "aaxis": {
             "endlinecolor": "#2a3f5f",
             "gridcolor": "white",
             "linecolor": "white",
             "minorgridcolor": "white",
             "startlinecolor": "#2a3f5f"
            },
            "baxis": {
             "endlinecolor": "#2a3f5f",
             "gridcolor": "white",
             "linecolor": "white",
             "minorgridcolor": "white",
             "startlinecolor": "#2a3f5f"
            },
            "type": "carpet"
           }
          ],
          "choropleth": [
           {
            "colorbar": {
             "outlinewidth": 0,
             "ticks": ""
            },
            "type": "choropleth"
           }
          ],
          "contour": [
           {
            "colorbar": {
             "outlinewidth": 0,
             "ticks": ""
            },
            "colorscale": [
             [
              0,
              "#0d0887"
             ],
             [
              0.1111111111111111,
              "#46039f"
             ],
             [
              0.2222222222222222,
              "#7201a8"
             ],
             [
              0.3333333333333333,
              "#9c179e"
             ],
             [
              0.4444444444444444,
              "#bd3786"
             ],
             [
              0.5555555555555556,
              "#d8576b"
             ],
             [
              0.6666666666666666,
              "#ed7953"
             ],
             [
              0.7777777777777778,
              "#fb9f3a"
             ],
             [
              0.8888888888888888,
              "#fdca26"
             ],
             [
              1,
              "#f0f921"
             ]
            ],
            "type": "contour"
           }
          ],
          "contourcarpet": [
           {
            "colorbar": {
             "outlinewidth": 0,
             "ticks": ""
            },
            "type": "contourcarpet"
           }
          ],
          "heatmap": [
           {
            "colorbar": {
             "outlinewidth": 0,
             "ticks": ""
            },
            "colorscale": [
             [
              0,
              "#0d0887"
             ],
             [
              0.1111111111111111,
              "#46039f"
             ],
             [
              0.2222222222222222,
              "#7201a8"
             ],
             [
              0.3333333333333333,
              "#9c179e"
             ],
             [
              0.4444444444444444,
              "#bd3786"
             ],
             [
              0.5555555555555556,
              "#d8576b"
             ],
             [
              0.6666666666666666,
              "#ed7953"
             ],
             [
              0.7777777777777778,
              "#fb9f3a"
             ],
             [
              0.8888888888888888,
              "#fdca26"
             ],
             [
              1,
              "#f0f921"
             ]
            ],
            "type": "heatmap"
           }
          ],
          "histogram": [
           {
            "marker": {
             "pattern": {
              "fillmode": "overlay",
              "size": 10,
              "solidity": 0.2
             }
            },
            "type": "histogram"
           }
          ],
          "histogram2d": [
           {
            "colorbar": {
             "outlinewidth": 0,
             "ticks": ""
            },
            "colorscale": [
             [
              0,
              "#0d0887"
             ],
             [
              0.1111111111111111,
              "#46039f"
             ],
             [
              0.2222222222222222,
              "#7201a8"
             ],
             [
              0.3333333333333333,
              "#9c179e"
             ],
             [
              0.4444444444444444,
              "#bd3786"
             ],
             [
              0.5555555555555556,
              "#d8576b"
             ],
             [
              0.6666666666666666,
              "#ed7953"
             ],
             [
              0.7777777777777778,
              "#fb9f3a"
             ],
             [
              0.8888888888888888,
              "#fdca26"
             ],
             [
              1,
              "#f0f921"
             ]
            ],
            "type": "histogram2d"
           }
          ],
          "histogram2dcontour": [
           {
            "colorbar": {
             "outlinewidth": 0,
             "ticks": ""
            },
            "colorscale": [
             [
              0,
              "#0d0887"
             ],
             [
              0.1111111111111111,
              "#46039f"
             ],
             [
              0.2222222222222222,
              "#7201a8"
             ],
             [
              0.3333333333333333,
              "#9c179e"
             ],
             [
              0.4444444444444444,
              "#bd3786"
             ],
             [
              0.5555555555555556,
              "#d8576b"
             ],
             [
              0.6666666666666666,
              "#ed7953"
             ],
             [
              0.7777777777777778,
              "#fb9f3a"
             ],
             [
              0.8888888888888888,
              "#fdca26"
             ],
             [
              1,
              "#f0f921"
             ]
            ],
            "type": "histogram2dcontour"
           }
          ],
          "mesh3d": [
           {
            "colorbar": {
             "outlinewidth": 0,
             "ticks": ""
            },
            "type": "mesh3d"
           }
          ],
          "parcoords": [
           {
            "line": {
             "colorbar": {
              "outlinewidth": 0,
              "ticks": ""
             }
            },
            "type": "parcoords"
           }
          ],
          "pie": [
           {
            "automargin": true,
            "type": "pie"
           }
          ],
          "scatter": [
           {
            "fillpattern": {
             "fillmode": "overlay",
             "size": 10,
             "solidity": 0.2
            },
            "type": "scatter"
           }
          ],
          "scatter3d": [
           {
            "line": {
             "colorbar": {
              "outlinewidth": 0,
              "ticks": ""
             }
            },
            "marker": {
             "colorbar": {
              "outlinewidth": 0,
              "ticks": ""
             }
            },
            "type": "scatter3d"
           }
          ],
          "scattercarpet": [
           {
            "marker": {
             "colorbar": {
              "outlinewidth": 0,
              "ticks": ""
             }
            },
            "type": "scattercarpet"
           }
          ],
          "scattergeo": [
           {
            "marker": {
             "colorbar": {
              "outlinewidth": 0,
              "ticks": ""
             }
            },
            "type": "scattergeo"
           }
          ],
          "scattergl": [
           {
            "marker": {
             "colorbar": {
              "outlinewidth": 0,
              "ticks": ""
             }
            },
            "type": "scattergl"
           }
          ],
          "scattermap": [
           {
            "marker": {
             "colorbar": {
              "outlinewidth": 0,
              "ticks": ""
             }
            },
            "type": "scattermap"
           }
          ],
          "scattermapbox": [
           {
            "marker": {
             "colorbar": {
              "outlinewidth": 0,
              "ticks": ""
             }
            },
            "type": "scattermapbox"
           }
          ],
          "scatterpolar": [
           {
            "marker": {
             "colorbar": {
              "outlinewidth": 0,
              "ticks": ""
             }
            },
            "type": "scatterpolar"
           }
          ],
          "scatterpolargl": [
           {
            "marker": {
             "colorbar": {
              "outlinewidth": 0,
              "ticks": ""
             }
            },
            "type": "scatterpolargl"
           }
          ],
          "scatterternary": [
           {
            "marker": {
             "colorbar": {
              "outlinewidth": 0,
              "ticks": ""
             }
            },
            "type": "scatterternary"
           }
          ],
          "surface": [
           {
            "colorbar": {
             "outlinewidth": 0,
             "ticks": ""
            },
            "colorscale": [
             [
              0,
              "#0d0887"
             ],
             [
              0.1111111111111111,
              "#46039f"
             ],
             [
              0.2222222222222222,
              "#7201a8"
             ],
             [
              0.3333333333333333,
              "#9c179e"
             ],
             [
              0.4444444444444444,
              "#bd3786"
             ],
             [
              0.5555555555555556,
              "#d8576b"
             ],
             [
              0.6666666666666666,
              "#ed7953"
             ],
             [
              0.7777777777777778,
              "#fb9f3a"
             ],
             [
              0.8888888888888888,
              "#fdca26"
             ],
             [
              1,
              "#f0f921"
             ]
            ],
            "type": "surface"
           }
          ],
          "table": [
           {
            "cells": {
             "fill": {
              "color": "#EBF0F8"
             },
             "line": {
              "color": "white"
             }
            },
            "header": {
             "fill": {
              "color": "#C8D4E3"
             },
             "line": {
              "color": "white"
             }
            },
            "type": "table"
           }
          ]
         },
         "layout": {
          "annotationdefaults": {
           "arrowcolor": "#2a3f5f",
           "arrowhead": 0,
           "arrowwidth": 1
          },
          "autotypenumbers": "strict",
          "coloraxis": {
           "colorbar": {
            "outlinewidth": 0,
            "ticks": ""
           }
          },
          "colorscale": {
           "diverging": [
            [
             0,
             "#8e0152"
            ],
            [
             0.1,
             "#c51b7d"
            ],
            [
             0.2,
             "#de77ae"
            ],
            [
             0.3,
             "#f1b6da"
            ],
            [
             0.4,
             "#fde0ef"
            ],
            [
             0.5,
             "#f7f7f7"
            ],
            [
             0.6,
             "#e6f5d0"
            ],
            [
             0.7,
             "#b8e186"
            ],
            [
             0.8,
             "#7fbc41"
            ],
            [
             0.9,
             "#4d9221"
            ],
            [
             1,
             "#276419"
            ]
           ],
           "sequential": [
            [
             0,
             "#0d0887"
            ],
            [
             0.1111111111111111,
             "#46039f"
            ],
            [
             0.2222222222222222,
             "#7201a8"
            ],
            [
             0.3333333333333333,
             "#9c179e"
            ],
            [
             0.4444444444444444,
             "#bd3786"
            ],
            [
             0.5555555555555556,
             "#d8576b"
            ],
            [
             0.6666666666666666,
             "#ed7953"
            ],
            [
             0.7777777777777778,
             "#fb9f3a"
            ],
            [
             0.8888888888888888,
             "#fdca26"
            ],
            [
             1,
             "#f0f921"
            ]
           ],
           "sequentialminus": [
            [
             0,
             "#0d0887"
            ],
            [
             0.1111111111111111,
             "#46039f"
            ],
            [
             0.2222222222222222,
             "#7201a8"
            ],
            [
             0.3333333333333333,
             "#9c179e"
            ],
            [
             0.4444444444444444,
             "#bd3786"
            ],
            [
             0.5555555555555556,
             "#d8576b"
            ],
            [
             0.6666666666666666,
             "#ed7953"
            ],
            [
             0.7777777777777778,
             "#fb9f3a"
            ],
            [
             0.8888888888888888,
             "#fdca26"
            ],
            [
             1,
             "#f0f921"
            ]
           ]
          },
          "colorway": [
           "#636efa",
           "#EF553B",
           "#00cc96",
           "#ab63fa",
           "#FFA15A",
           "#19d3f3",
           "#FF6692",
           "#B6E880",
           "#FF97FF",
           "#FECB52"
          ],
          "font": {
           "color": "#2a3f5f"
          },
          "geo": {
           "bgcolor": "white",
           "lakecolor": "white",
           "landcolor": "#E5ECF6",
           "showlakes": true,
           "showland": true,
           "subunitcolor": "white"
          },
          "hoverlabel": {
           "align": "left"
          },
          "hovermode": "closest",
          "mapbox": {
           "style": "light"
          },
          "paper_bgcolor": "white",
          "plot_bgcolor": "#E5ECF6",
          "polar": {
           "angularaxis": {
            "gridcolor": "white",
            "linecolor": "white",
            "ticks": ""
           },
           "bgcolor": "#E5ECF6",
           "radialaxis": {
            "gridcolor": "white",
            "linecolor": "white",
            "ticks": ""
           }
          },
          "scene": {
           "xaxis": {
            "backgroundcolor": "#E5ECF6",
            "gridcolor": "white",
            "gridwidth": 2,
            "linecolor": "white",
            "showbackground": true,
            "ticks": "",
            "zerolinecolor": "white"
           },
           "yaxis": {
            "backgroundcolor": "#E5ECF6",
            "gridcolor": "white",
            "gridwidth": 2,
            "linecolor": "white",
            "showbackground": true,
            "ticks": "",
            "zerolinecolor": "white"
           },
           "zaxis": {
            "backgroundcolor": "#E5ECF6",
            "gridcolor": "white",
            "gridwidth": 2,
            "linecolor": "white",
            "showbackground": true,
            "ticks": "",
            "zerolinecolor": "white"
           }
          },
          "shapedefaults": {
           "line": {
            "color": "#2a3f5f"
           }
          },
          "ternary": {
           "aaxis": {
            "gridcolor": "white",
            "linecolor": "white",
            "ticks": ""
           },
           "baxis": {
            "gridcolor": "white",
            "linecolor": "white",
            "ticks": ""
           },
           "bgcolor": "#E5ECF6",
           "caxis": {
            "gridcolor": "white",
            "linecolor": "white",
            "ticks": ""
           }
          },
          "title": {
           "x": 0.05
          },
          "xaxis": {
           "automargin": true,
           "gridcolor": "white",
           "linecolor": "white",
           "ticks": "",
           "title": {
            "standoff": 15
           },
           "zerolinecolor": "white",
           "zerolinewidth": 2
          },
          "yaxis": {
           "automargin": true,
           "gridcolor": "white",
           "linecolor": "white",
           "ticks": "",
           "title": {
            "standoff": 15
           },
           "zerolinecolor": "white",
           "zerolinewidth": 2
          }
         }
        },
        "title": {
         "text": "f\"Box Plot - {col}"
        },
        "xaxis": {
         "anchor": "y",
         "domain": [
          0,
          1
         ],
         "title": {
          "text": "Tumor_Size"
         }
        },
        "yaxis": {
         "anchor": "x",
         "domain": [
          0,
          1
         ]
        }
       }
      }
     },
     "metadata": {},
     "output_type": "display_data"
    },
    {
     "data": {
      "application/vnd.plotly.v1+json": {
       "config": {
        "plotlyServerURL": "https://plot.ly"
       },
       "data": [
        {
         "alignmentgroup": "True",
         "hovertemplate": "Regional_Node_Examined=%{x}<extra></extra>",
         "legendgroup": "",
         "marker": {
          "color": "#636efa"
         },
         "name": "",
         "notched": false,
         "offsetgroup": "",
         "orientation": "h",
         "showlegend": false,
         "type": "box",
         "x": {
          "bdata": "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",
          "dtype": "f8"
         },
         "x0": " ",
         "xaxis": "x",
         "y0": " ",
         "yaxis": "y"
        }
       ],
       "layout": {
        "boxmode": "group",
        "legend": {
         "tracegroupgap": 0
        },
        "template": {
         "data": {
          "bar": [
           {
            "error_x": {
             "color": "#2a3f5f"
            },
            "error_y": {
             "color": "#2a3f5f"
            },
            "marker": {
             "line": {
              "color": "#E5ECF6",
              "width": 0.5
             },
             "pattern": {
              "fillmode": "overlay",
              "size": 10,
              "solidity": 0.2
             }
            },
            "type": "bar"
           }
          ],
          "barpolar": [
           {
            "marker": {
             "line": {
              "color": "#E5ECF6",
              "width": 0.5
             },
             "pattern": {
              "fillmode": "overlay",
              "size": 10,
              "solidity": 0.2
             }
            },
            "type": "barpolar"
           }
          ],
          "carpet": [
           {
            "aaxis": {
             "endlinecolor": "#2a3f5f",
             "gridcolor": "white",
             "linecolor": "white",
             "minorgridcolor": "white",
             "startlinecolor": "#2a3f5f"
            },
            "baxis": {
             "endlinecolor": "#2a3f5f",
             "gridcolor": "white",
             "linecolor": "white",
             "minorgridcolor": "white",
             "startlinecolor": "#2a3f5f"
            },
            "type": "carpet"
           }
          ],
          "choropleth": [
           {
            "colorbar": {
             "outlinewidth": 0,
             "ticks": ""
            },
            "type": "choropleth"
           }
          ],
          "contour": [
           {
            "colorbar": {
             "outlinewidth": 0,
             "ticks": ""
            },
            "colorscale": [
             [
              0,
              "#0d0887"
             ],
             [
              0.1111111111111111,
              "#46039f"
             ],
             [
              0.2222222222222222,
              "#7201a8"
             ],
             [
              0.3333333333333333,
              "#9c179e"
             ],
             [
              0.4444444444444444,
              "#bd3786"
             ],
             [
              0.5555555555555556,
              "#d8576b"
             ],
             [
              0.6666666666666666,
              "#ed7953"
             ],
             [
              0.7777777777777778,
              "#fb9f3a"
             ],
             [
              0.8888888888888888,
              "#fdca26"
             ],
             [
              1,
              "#f0f921"
             ]
            ],
            "type": "contour"
           }
          ],
          "contourcarpet": [
           {
            "colorbar": {
             "outlinewidth": 0,
             "ticks": ""
            },
            "type": "contourcarpet"
           }
          ],
          "heatmap": [
           {
            "colorbar": {
             "outlinewidth": 0,
             "ticks": ""
            },
            "colorscale": [
             [
              0,
              "#0d0887"
             ],
             [
              0.1111111111111111,
              "#46039f"
             ],
             [
              0.2222222222222222,
              "#7201a8"
             ],
             [
              0.3333333333333333,
              "#9c179e"
             ],
             [
              0.4444444444444444,
              "#bd3786"
             ],
             [
              0.5555555555555556,
              "#d8576b"
             ],
             [
              0.6666666666666666,
              "#ed7953"
             ],
             [
              0.7777777777777778,
              "#fb9f3a"
             ],
             [
              0.8888888888888888,
              "#fdca26"
             ],
             [
              1,
              "#f0f921"
             ]
            ],
            "type": "heatmap"
           }
          ],
          "histogram": [
           {
            "marker": {
             "pattern": {
              "fillmode": "overlay",
              "size": 10,
              "solidity": 0.2
             }
            },
            "type": "histogram"
           }
          ],
          "histogram2d": [
           {
            "colorbar": {
             "outlinewidth": 0,
             "ticks": ""
            },
            "colorscale": [
             [
              0,
              "#0d0887"
             ],
             [
              0.1111111111111111,
              "#46039f"
             ],
             [
              0.2222222222222222,
              "#7201a8"
             ],
             [
              0.3333333333333333,
              "#9c179e"
             ],
             [
              0.4444444444444444,
              "#bd3786"
             ],
             [
              0.5555555555555556,
              "#d8576b"
             ],
             [
              0.6666666666666666,
              "#ed7953"
             ],
             [
              0.7777777777777778,
              "#fb9f3a"
             ],
             [
              0.8888888888888888,
              "#fdca26"
             ],
             [
              1,
              "#f0f921"
             ]
            ],
            "type": "histogram2d"
           }
          ],
          "histogram2dcontour": [
           {
            "colorbar": {
             "outlinewidth": 0,
             "ticks": ""
            },
            "colorscale": [
             [
              0,
              "#0d0887"
             ],
             [
              0.1111111111111111,
              "#46039f"
             ],
             [
              0.2222222222222222,
              "#7201a8"
             ],
             [
              0.3333333333333333,
              "#9c179e"
             ],
             [
              0.4444444444444444,
              "#bd3786"
             ],
             [
              0.5555555555555556,
              "#d8576b"
             ],
             [
              0.6666666666666666,
              "#ed7953"
             ],
             [
              0.7777777777777778,
              "#fb9f3a"
             ],
             [
              0.8888888888888888,
              "#fdca26"
             ],
             [
              1,
              "#f0f921"
             ]
            ],
            "type": "histogram2dcontour"
           }
          ],
          "mesh3d": [
           {
            "colorbar": {
             "outlinewidth": 0,
             "ticks": ""
            },
            "type": "mesh3d"
           }
          ],
          "parcoords": [
           {
            "line": {
             "colorbar": {
              "outlinewidth": 0,
              "ticks": ""
             }
            },
            "type": "parcoords"
           }
          ],
          "pie": [
           {
            "automargin": true,
            "type": "pie"
           }
          ],
          "scatter": [
           {
            "fillpattern": {
             "fillmode": "overlay",
             "size": 10,
             "solidity": 0.2
            },
            "type": "scatter"
           }
          ],
          "scatter3d": [
           {
            "line": {
             "colorbar": {
              "outlinewidth": 0,
              "ticks": ""
             }
            },
            "marker": {
             "colorbar": {
              "outlinewidth": 0,
              "ticks": ""
             }
            },
            "type": "scatter3d"
           }
          ],
          "scattercarpet": [
           {
            "marker": {
             "colorbar": {
              "outlinewidth": 0,
              "ticks": ""
             }
            },
            "type": "scattercarpet"
           }
          ],
          "scattergeo": [
           {
            "marker": {
             "colorbar": {
              "outlinewidth": 0,
              "ticks": ""
             }
            },
            "type": "scattergeo"
           }
          ],
          "scattergl": [
           {
            "marker": {
             "colorbar": {
              "outlinewidth": 0,
              "ticks": ""
             }
            },
            "type": "scattergl"
           }
          ],
          "scattermap": [
           {
            "marker": {
             "colorbar": {
              "outlinewidth": 0,
              "ticks": ""
             }
            },
            "type": "scattermap"
           }
          ],
          "scattermapbox": [
           {
            "marker": {
             "colorbar": {
              "outlinewidth": 0,
              "ticks": ""
             }
            },
            "type": "scattermapbox"
           }
          ],
          "scatterpolar": [
           {
            "marker": {
             "colorbar": {
              "outlinewidth": 0,
              "ticks": ""
             }
            },
            "type": "scatterpolar"
           }
          ],
          "scatterpolargl": [
           {
            "marker": {
             "colorbar": {
              "outlinewidth": 0,
              "ticks": ""
             }
            },
            "type": "scatterpolargl"
           }
          ],
          "scatterternary": [
           {
            "marker": {
             "colorbar": {
              "outlinewidth": 0,
              "ticks": ""
             }
            },
            "type": "scatterternary"
           }
          ],
          "surface": [
           {
            "colorbar": {
             "outlinewidth": 0,
             "ticks": ""
            },
            "colorscale": [
             [
              0,
              "#0d0887"
             ],
             [
              0.1111111111111111,
              "#46039f"
             ],
             [
              0.2222222222222222,
              "#7201a8"
             ],
             [
              0.3333333333333333,
              "#9c179e"
             ],
             [
              0.4444444444444444,
              "#bd3786"
             ],
             [
              0.5555555555555556,
              "#d8576b"
             ],
             [
              0.6666666666666666,
              "#ed7953"
             ],
             [
              0.7777777777777778,
              "#fb9f3a"
             ],
             [
              0.8888888888888888,
              "#fdca26"
             ],
             [
              1,
              "#f0f921"
             ]
            ],
            "type": "surface"
           }
          ],
          "table": [
           {
            "cells": {
             "fill": {
              "color": "#EBF0F8"
             },
             "line": {
              "color": "white"
             }
            },
            "header": {
             "fill": {
              "color": "#C8D4E3"
             },
             "line": {
              "color": "white"
             }
            },
            "type": "table"
           }
          ]
         },
         "layout": {
          "annotationdefaults": {
           "arrowcolor": "#2a3f5f",
           "arrowhead": 0,
           "arrowwidth": 1
          },
          "autotypenumbers": "strict",
          "coloraxis": {
           "colorbar": {
            "outlinewidth": 0,
            "ticks": ""
           }
          },
          "colorscale": {
           "diverging": [
            [
             0,
             "#8e0152"
            ],
            [
             0.1,
             "#c51b7d"
            ],
            [
             0.2,
             "#de77ae"
            ],
            [
             0.3,
             "#f1b6da"
            ],
            [
             0.4,
             "#fde0ef"
            ],
            [
             0.5,
             "#f7f7f7"
            ],
            [
             0.6,
             "#e6f5d0"
            ],
            [
             0.7,
             "#b8e186"
            ],
            [
             0.8,
             "#7fbc41"
            ],
            [
             0.9,
             "#4d9221"
            ],
            [
             1,
             "#276419"
            ]
           ],
           "sequential": [
            [
             0,
             "#0d0887"
            ],
            [
             0.1111111111111111,
             "#46039f"
            ],
            [
             0.2222222222222222,
             "#7201a8"
            ],
            [
             0.3333333333333333,
             "#9c179e"
            ],
            [
             0.4444444444444444,
             "#bd3786"
            ],
            [
             0.5555555555555556,
             "#d8576b"
            ],
            [
             0.6666666666666666,
             "#ed7953"
            ],
            [
             0.7777777777777778,
             "#fb9f3a"
            ],
            [
             0.8888888888888888,
             "#fdca26"
            ],
            [
             1,
             "#f0f921"
            ]
           ],
           "sequentialminus": [
            [
             0,
             "#0d0887"
            ],
            [
             0.1111111111111111,
             "#46039f"
            ],
            [
             0.2222222222222222,
             "#7201a8"
            ],
            [
             0.3333333333333333,
             "#9c179e"
            ],
            [
             0.4444444444444444,
             "#bd3786"
            ],
            [
             0.5555555555555556,
             "#d8576b"
            ],
            [
             0.6666666666666666,
             "#ed7953"
            ],
            [
             0.7777777777777778,
             "#fb9f3a"
            ],
            [
             0.8888888888888888,
             "#fdca26"
            ],
            [
             1,
             "#f0f921"
            ]
           ]
          },
          "colorway": [
           "#636efa",
           "#EF553B",
           "#00cc96",
           "#ab63fa",
           "#FFA15A",
           "#19d3f3",
           "#FF6692",
           "#B6E880",
           "#FF97FF",
           "#FECB52"
          ],
          "font": {
           "color": "#2a3f5f"
          },
          "geo": {
           "bgcolor": "white",
           "lakecolor": "white",
           "landcolor": "#E5ECF6",
           "showlakes": true,
           "showland": true,
           "subunitcolor": "white"
          },
          "hoverlabel": {
           "align": "left"
          },
          "hovermode": "closest",
          "mapbox": {
           "style": "light"
          },
          "paper_bgcolor": "white",
          "plot_bgcolor": "#E5ECF6",
          "polar": {
           "angularaxis": {
            "gridcolor": "white",
            "linecolor": "white",
            "ticks": ""
           },
           "bgcolor": "#E5ECF6",
           "radialaxis": {
            "gridcolor": "white",
            "linecolor": "white",
            "ticks": ""
           }
          },
          "scene": {
           "xaxis": {
            "backgroundcolor": "#E5ECF6",
            "gridcolor": "white",
            "gridwidth": 2,
            "linecolor": "white",
            "showbackground": true,
            "ticks": "",
            "zerolinecolor": "white"
           },
           "yaxis": {
            "backgroundcolor": "#E5ECF6",
            "gridcolor": "white",
            "gridwidth": 2,
            "linecolor": "white",
            "showbackground": true,
            "ticks": "",
            "zerolinecolor": "white"
           },
           "zaxis": {
            "backgroundcolor": "#E5ECF6",
            "gridcolor": "white",
            "gridwidth": 2,
            "linecolor": "white",
            "showbackground": true,
            "ticks": "",
            "zerolinecolor": "white"
           }
          },
          "shapedefaults": {
           "line": {
            "color": "#2a3f5f"
           }
          },
          "ternary": {
           "aaxis": {
            "gridcolor": "white",
            "linecolor": "white",
            "ticks": ""
           },
           "baxis": {
            "gridcolor": "white",
            "linecolor": "white",
            "ticks": ""
           },
           "bgcolor": "#E5ECF6",
           "caxis": {
            "gridcolor": "white",
            "linecolor": "white",
            "ticks": ""
           }
          },
          "title": {
           "x": 0.05
          },
          "xaxis": {
           "automargin": true,
           "gridcolor": "white",
           "linecolor": "white",
           "ticks": "",
           "title": {
            "standoff": 15
           },
           "zerolinecolor": "white",
           "zerolinewidth": 2
          },
          "yaxis": {
           "automargin": true,
           "gridcolor": "white",
           "linecolor": "white",
           "ticks": "",
           "title": {
            "standoff": 15
           },
           "zerolinecolor": "white",
           "zerolinewidth": 2
          }
         }
        },
        "title": {
         "text": "f\"Box Plot - {col}"
        },
        "xaxis": {
         "anchor": "y",
         "domain": [
          0,
          1
         ],
         "title": {
          "text": "Regional_Node_Examined"
         }
        },
        "yaxis": {
         "anchor": "x",
         "domain": [
          0,
          1
         ]
        }
       }
      }
     },
     "metadata": {},
     "output_type": "display_data"
    },
    {
     "data": {
      "application/vnd.plotly.v1+json": {
       "config": {
        "plotlyServerURL": "https://plot.ly"
       },
       "data": [
        {
         "alignmentgroup": "True",
         "hovertemplate": "Reginol_Node_Positive=%{x}<extra></extra>",
         "legendgroup": "",
         "marker": {
          "color": "#636efa"
         },
         "name": "",
         "notched": false,
         "offsetgroup": "",
         "orientation": "h",
         "showlegend": false,
         "type": "box",
         "x": {
          "bdata": "AQUHAQECAQESDAEDAwcOAQEBAQECBQEBFhEXAQQBAQEBAwoCBgICBQwCAQYCBQIBAwMBAgEBAQEBAgIBAQIDARcDAQMUAQEQAQQBAQENAQIBAQsFAQEBAQEEEAMCAgEDARgBAQEDAQECAgMEAwoCBQMBCQMCAgMQBAIBAgECAwEGAQEHBQEBCgkBBAEDAQECCAEDAQIBBQIGAQEBDgQBAQIGAQcRAQECAwIBAgEKAg4FAQIBDQsCAwIJAQEBBAENAQIFAgICBAEMAQEBAQEBBAwRAQkEAQECGw0HAgMBAgkBAQQBBwUBAgEVARoCAQICDwUBAQMCAQYBBgICAgEBAQIBAgMBAQEDAQoJAgMJAQERAgMBAgoCAgYCCxwPAQEBBg4BAQQBAwECAw4FCgMEAQMCBQYRAQEBAxcBAQEDBwEGBAEBCQECAwEBAgECAwQDCQEBBQwBAgkCBAQBAQEBAgIBAQIBAwICBAcIBAYLAQQNDQwDAQkCBAQGAQEBAwIBEQwCCQ0BBAEIAgEBAwECAgEBAgEBAQEBAgIBAQEFAQICAQELAgEFDgEBAQ0BAQMBAhECAgUDAwEBBgIBAQEBEwELAQICAQMDAwECAQEBAQEIAQYDAwQGCAYYBQEBBwEBBgQBAwYCAQETAgUHAQICBwEDAgEDAgICAwINAQUBAQwcFAERAwEOARwBBAUCGAEBAQEFAQEDHQEFBBYEHwIEAgEIBwIEBQEBAQUEAgIKDQIBCQUaBwEBAgEKAQMCAQYBAQoBAwEEDwIJAQIFAgEEDwUBAwILAwEBAgMDAQgBAQIBAQEBCQEBCAEGAQICAS4BAgEBAQEEAwEJEwICAwIHAQEDAgIBFgIKEAEBGwMBBQIBAQEBAwQCAwMDAwQBFQEFDgICAQEBBQICBAEGEQsGAQYFBwIKBAYCDwEEAwECAwECAQQBBAsDAQUDAQIHFgQCAQIDAQQCAQMCAwIBAwEGBAEDAQICBgMDAQIGAQECAQEGAQMBAgYIAQEFAQ0DAgEBBQEIAwESAQECCQECCAEBAQECAQoQAQEBAQEEAwEBAQEDChQOAQEBAQEBAgQGAQUCAQEBCQQDAQECIQISBQEBAQ8DAQEBAQcDAQEIBAMDAwIFAQoCDgYKAwMBAQUEBwECAwIBBAMBBQEDAgEDBQkIFgIEAgkDBQEBAgEBAgIMFwEdAhMBAQECAQUBAwILGwICAgEDAQECAwECAwcDCQYHFgcBARQDAgkEDwEBAgECAQICAgkBAQkFEAEDAwQEAQsCCQEBAwEBAQIDARMDJQEBAgMLBAECAwEBAgUHFgMBBQUDAQUBCQcBAhABAwQBAwIFAgIBAwUBAwILAQEBAQEcFggECwICAgEIAQECBwMCBggDAwESEQgBAgMFCQMRCQgHBAEBCQMEAgsUCwICAgEBAg8BBhECARAJAwIBCgEDAwEFDhYBCQMBAQMGARgEAw8eAgcBAgEBASUCAQIHAQIHCgEBAgUBCQMBAQIBAQcBCgEBBAQBAgEBBQEFAgIBCAQEAQcCAQEBAgYBAwwBAwYCAwEBBAEFBwMBAQEBCQEBGwECBgIBBAMCAggBFgoBAgQCAQICAQIGAgECAQECAQEHAwEBAgEBAQEEAQIBBgYaCQMFAQEDAgICARIBAQIUAQMDDQEjAgIBAQIBAQUCCBYBBwEJAwEHCgEBAgEDAQECAgEBAgIDAQEBAgQBEAECAQEBAQMBCgUBAQwDBAEBAQEBAQ8JAQEBDAECAQECCwECAwECBAEBAQIDAwcFAQIBAQIBAgEBAgECAQIEAwEECAEHAgoQAQIDGQEOAQEJEQECDQEBBAELAgECCgEBAwEBCgMDAgIYAwEFCAYPAgEKAQEBBgkCAwEDFAEDEAEBBAEICAENChECAQMGBQYCARMEAwEBAQQQEwEHAQEBAgIDAwEJCAECAQEBAwkBAgEIAQEBAgcBAgQEBQICAQYCBAECAQEBAgMBBQ0BCggBAQIWAQIBCgEDCwEBAgEBAgEMAQsMAhMIBg4PDQQCAQECAgUBAQQDAwYBBwgBAgcCDgICAhAdAQEBAQYBAgEDCAEDAwgDAgEBAwECBQYDBQMKAgEBAwMEBAECFQgDAgECBAEBAxECBQEKAQQEAQYCBAEBEQEBBAICAgIBCAYHAgIDAQMBBAECAQECAQEBAQgDAgIBAwIBAgMBHQEBAwEBAgEDAgMBBQECAg0CCgMBAQEPAQIEAgMHAQIDDQkBAgEBAwQCBQEZCQMFAwUBAQEBAgECAgICAgYEARUBAQEBAQEBAQELAQcFARIBAgEBAQEIEQQDAgIBAgMFBgECAgEBAwICAgECCAEGAQIDAQEBAQsDBwIKFQMBAwECAQMBDAUKBAECBQEMCQEFAQkBAgEBAQMHAgMDBAQBBAUGBgECARMBCwICAQQBAQECBAECCwEBBAMJAwEDAQECAgEQAQcCAQICAQEEARoEAQIBBQcKAQMBCwIBAgUBBAEBAQMBAQIDBQMFAgICAQUBEAsBBAIEAQIDCQUBAQEJAQICAQEDEgEDBQEBAhcCBQQFAQEFBgICAgEBAQMDBQIECgUBAQEDAQEJBAEBBQYBAwMRAQMLAQIBDQICAQEEAwcBAwYCAQ8BDAQBAQIBAQcBAgEBBwMBAQIBAQEOAQIDAgEBAQEBDgwCAR0BAxsWAgEDEw4MAwICBAgCBAEDAQEBAgIBBgEDARIBBAIBBQECAQ8GAwEGBQECAgIBAwEBAQEBAQMBAgQEAgUGAQoHCAUBAQEBBAEHAwYIAQgBAQEHBAEBAQwCAQEBAQECBQEBAgMEAQoGARABAgcCASACAQQBAQ4LAgoCAQECBgIBAgIBAgUDBAIHBAMCAQoCBAECAgMBAQ4pDwEFAQIEAQEGAQgCAgEBDAEBAQIBAgEGAQsBAgEBAgEBCQEGAwEBAQEBAQEDAQIJAgEBAQQBAgwDAhAMBRAEAQEDBQEBAQICAgQCBAECBAEBAQkDAQIBCAQBAgEJCQMPDAMSAQECEQMaBAEDBAQcAQYEAQEBAQYEAwYDAgIEBAYCBgIBBgICDQEDAhIHBAoBAQEBAgIBAgoBAgICDAUCAQMOAQMHAgQMBAMDBQEBAREVAQISBQQFFAMBAQIBBAEBCQECDgEFAQUBAQEBAQMHBgIBAQEBAQEFAQYDAgEBAQQBAQUBAQIDBQIEAQEBAQYICgEcAwQBAgICBAEDAQQDAgECAQQCAQQCBQoBAgEFAgEDAgEBAQIBDgQFCgEGAQEBBQECCwEBCwsBBQICAwYFAgQDEAUBBAkCEwICAQEHAQEDBQUKCQUBBQEDAgUDAQECAQIBBwYCDwIDDwECAQYNCQICAwIDAgIBAQEBFQEDAgEBAgUBAQEDEgIFBQEEAwgDBxoBAQEGAgYGBwIDAgQBAQIBBQICAgEKAQQBAgUCAQMEAQYKAQIFAQQGEAsBAQcLAwMIAQEBAQELAQEMBQEBBAEEAgMBBgMcAgIEAgUKAQQBBQUEAQEFAQEDAQEIBAsBBQECAgEBBAQCCQMEBAMCAQECBAIBAQEOAQICAgEFAwkFBAEFBxMBAQICAQEBAQEDAQwBBQ0ECQEIAQEFAQEHAgMEBAICAQQBAwEJBg8BAgEHBAIGAgIBAQcIAgMaAwEBAREQBQ8FAxERAwMBAgMCAwIBAwEBAQIEBwEBAQEFEAEDBwMCAQIFBQICAQEFBwEMEwIBBQMBAQEHAQEBAgYCAwEVAgEBAQsQBgECAQEFBQgBAQEDDQkBBAEBAgIBBBMJAQYBAwsJBAYDAQIGAwEBAQMCAwECAwMNAQIFFwMBBgEEAgEBAQQGAQEBAQMFEAEJEAIBCwEBFAMBAQEEAQEBAQEBAQIBAQEBAR4HAQEMASIBBgEBAgEDAgQBAgEBAgIIBAYKAwMBCgIEBgIBAQQBFQECAQIFAQIDAwIBAwIBCAECCgEBAQ4BAQMEAwUTAQ4CCwUCAQ4CAgIPBAIDAgMBDAUDIgEBCAQBAwICBQECAREDCQwBAQIEAggEAgECAQMBAQcFAQIIAQEBAQsDAgECBQICAQIFDAECBgMKAgEBDQEBBwkWDAMEAQEHCQMBAQMBCAYFCwMDAwUCAwcDARABAQIBAwEFAQEDDAEEAQEBBgECBAICAQIBAQYCBwgBAwECAwEBAQEBCAECAQIBBAwBAQEFBwsCAQUGAQEFAgIRAgICAQwBBAIHAQgCAQMBAgEHAwQIBgMGBAEBBgMBAQsBEQECAQECAgMBAQgCBgEJEgIBAQ0BAgECDgEEAgQHAQICAwEDAQEMFQMIAQEDAQEHAgECBAIFAQMBAQIhARUIAwECBAUGAQICBQQCBgECDwEJBQEHBQECAQUBBAIBAwEHAgQBAwQBAQYDAgYDAQMEAwIGBAMCBQ4BFBcBARMCCgwFCwQCAQEBAwMBAQEOAQICAwQDAggBAgEBAgEDAQIBDA4CBQEBAgIBBwoCAgEBAQIBAQEBAQsCAgUBEAwBAQEHBQYBGAELBAEBAQECBwEDAQMCAgEFAwMCAQICBAEDAQYCCQMBAQIBAwQGAQQFAwEBDAEEBQICBQMJBQUDCwULAQIHBwMCAwEDAQEBAQQCDAEBAQEJAgECAQMBBAEBBgEJBgIBDQQBBAcBAgQGAQEDBwIBAwcHCwEBAQUNAQQBBwEDBAEBAgIBAwYFEgEOEwEBAQQFAQEBCAECAgIBDgEBAQICAgILAQEGCQgJDgMBAQEGAwEBBwEBAxIBAQEDAwUBCAUDAQQCAwMBAQIYAgIKBAECDgEBAQEGAwEKAwEGDggDBwMDAQECAgkCBQIBBAQNBAEBAwEBAQEaAQMBAQIEBQEBAgIFBAgCARABAgECAQQEAQEBAQIBGgUGAQYEBwICEwMEAQMEAgQDAgEBBhUCBwYFCQEHBBUBAgQBAgcGAQEBAQELDwEBAQoEBQQFAQEDDgEDBAEBARYCAgEPBAsCAQEBAgEHAwkCBAEMBAIJBQoBBgIGCBcBAQIHBgECAQICAQIBAQEMAwQCAQoBAQEEAQcCAQEEAQIBAQEBAgIBFgIBAwEDAQIBARoGAQQDDQEJCAIBAgkDDAETCxgGAQECBQICAQMDAQ8CBQIEAQEBBAQFAQEBAQEOAQIMBgEBBwEBAQENAhMBAgEDDAMBAQECIAkFCQUdAgEEAgEHAQUFBAMMAgUBBRkJBAICAwIHDgMBAgIBBgsEAQ0DAQICAQMCARABAQUBAQEJEwEDAwEFAgIBAxsBBAEBBwgOAgEBAQECDQQDBAMIAQMLAQETAgECAQEKEwECDgkCAQUCAQEHCQICAQIBAQQMAQIEAgEBAQgDAQI=",
          "dtype": "i1"
         },
         "x0": " ",
         "xaxis": "x",
         "y0": " ",
         "yaxis": "y"
        }
       ],
       "layout": {
        "boxmode": "group",
        "legend": {
         "tracegroupgap": 0
        },
        "template": {
         "data": {
          "bar": [
           {
            "error_x": {
             "color": "#2a3f5f"
            },
            "error_y": {
             "color": "#2a3f5f"
            },
            "marker": {
             "line": {
              "color": "#E5ECF6",
              "width": 0.5
             },
             "pattern": {
              "fillmode": "overlay",
              "size": 10,
              "solidity": 0.2
             }
            },
            "type": "bar"
           }
          ],
          "barpolar": [
           {
            "marker": {
             "line": {
              "color": "#E5ECF6",
              "width": 0.5
             },
             "pattern": {
              "fillmode": "overlay",
              "size": 10,
              "solidity": 0.2
             }
            },
            "type": "barpolar"
           }
          ],
          "carpet": [
           {
            "aaxis": {
             "endlinecolor": "#2a3f5f",
             "gridcolor": "white",
             "linecolor": "white",
             "minorgridcolor": "white",
             "startlinecolor": "#2a3f5f"
            },
            "baxis": {
             "endlinecolor": "#2a3f5f",
             "gridcolor": "white",
             "linecolor": "white",
             "minorgridcolor": "white",
             "startlinecolor": "#2a3f5f"
            },
            "type": "carpet"
           }
          ],
          "choropleth": [
           {
            "colorbar": {
             "outlinewidth": 0,
             "ticks": ""
            },
            "type": "choropleth"
           }
          ],
          "contour": [
           {
            "colorbar": {
             "outlinewidth": 0,
             "ticks": ""
            },
            "colorscale": [
             [
              0,
              "#0d0887"
             ],
             [
              0.1111111111111111,
              "#46039f"
             ],
             [
              0.2222222222222222,
              "#7201a8"
             ],
             [
              0.3333333333333333,
              "#9c179e"
             ],
             [
              0.4444444444444444,
              "#bd3786"
             ],
             [
              0.5555555555555556,
              "#d8576b"
             ],
             [
              0.6666666666666666,
              "#ed7953"
             ],
             [
              0.7777777777777778,
              "#fb9f3a"
             ],
             [
              0.8888888888888888,
              "#fdca26"
             ],
             [
              1,
              "#f0f921"
             ]
            ],
            "type": "contour"
           }
          ],
          "contourcarpet": [
           {
            "colorbar": {
             "outlinewidth": 0,
             "ticks": ""
            },
            "type": "contourcarpet"
           }
          ],
          "heatmap": [
           {
            "colorbar": {
             "outlinewidth": 0,
             "ticks": ""
            },
            "colorscale": [
             [
              0,
              "#0d0887"
             ],
             [
              0.1111111111111111,
              "#46039f"
             ],
             [
              0.2222222222222222,
              "#7201a8"
             ],
             [
              0.3333333333333333,
              "#9c179e"
             ],
             [
              0.4444444444444444,
              "#bd3786"
             ],
             [
              0.5555555555555556,
              "#d8576b"
             ],
             [
              0.6666666666666666,
              "#ed7953"
             ],
             [
              0.7777777777777778,
              "#fb9f3a"
             ],
             [
              0.8888888888888888,
              "#fdca26"
             ],
             [
              1,
              "#f0f921"
             ]
            ],
            "type": "heatmap"
           }
          ],
          "histogram": [
           {
            "marker": {
             "pattern": {
              "fillmode": "overlay",
              "size": 10,
              "solidity": 0.2
             }
            },
            "type": "histogram"
           }
          ],
          "histogram2d": [
           {
            "colorbar": {
             "outlinewidth": 0,
             "ticks": ""
            },
            "colorscale": [
             [
              0,
              "#0d0887"
             ],
             [
              0.1111111111111111,
              "#46039f"
             ],
             [
              0.2222222222222222,
              "#7201a8"
             ],
             [
              0.3333333333333333,
              "#9c179e"
             ],
             [
              0.4444444444444444,
              "#bd3786"
             ],
             [
              0.5555555555555556,
              "#d8576b"
             ],
             [
              0.6666666666666666,
              "#ed7953"
             ],
             [
              0.7777777777777778,
              "#fb9f3a"
             ],
             [
              0.8888888888888888,
              "#fdca26"
             ],
             [
              1,
              "#f0f921"
             ]
            ],
            "type": "histogram2d"
           }
          ],
          "histogram2dcontour": [
           {
            "colorbar": {
             "outlinewidth": 0,
             "ticks": ""
            },
            "colorscale": [
             [
              0,
              "#0d0887"
             ],
             [
              0.1111111111111111,
              "#46039f"
             ],
             [
              0.2222222222222222,
              "#7201a8"
             ],
             [
              0.3333333333333333,
              "#9c179e"
             ],
             [
              0.4444444444444444,
              "#bd3786"
             ],
             [
              0.5555555555555556,
              "#d8576b"
             ],
             [
              0.6666666666666666,
              "#ed7953"
             ],
             [
              0.7777777777777778,
              "#fb9f3a"
             ],
             [
              0.8888888888888888,
              "#fdca26"
             ],
             [
              1,
              "#f0f921"
             ]
            ],
            "type": "histogram2dcontour"
           }
          ],
          "mesh3d": [
           {
            "colorbar": {
             "outlinewidth": 0,
             "ticks": ""
            },
            "type": "mesh3d"
           }
          ],
          "parcoords": [
           {
            "line": {
             "colorbar": {
              "outlinewidth": 0,
              "ticks": ""
             }
            },
            "type": "parcoords"
           }
          ],
          "pie": [
           {
            "automargin": true,
            "type": "pie"
           }
          ],
          "scatter": [
           {
            "fillpattern": {
             "fillmode": "overlay",
             "size": 10,
             "solidity": 0.2
            },
            "type": "scatter"
           }
          ],
          "scatter3d": [
           {
            "line": {
             "colorbar": {
              "outlinewidth": 0,
              "ticks": ""
             }
            },
            "marker": {
             "colorbar": {
              "outlinewidth": 0,
              "ticks": ""
             }
            },
            "type": "scatter3d"
           }
          ],
          "scattercarpet": [
           {
            "marker": {
             "colorbar": {
              "outlinewidth": 0,
              "ticks": ""
             }
            },
            "type": "scattercarpet"
           }
          ],
          "scattergeo": [
           {
            "marker": {
             "colorbar": {
              "outlinewidth": 0,
              "ticks": ""
             }
            },
            "type": "scattergeo"
           }
          ],
          "scattergl": [
           {
            "marker": {
             "colorbar": {
              "outlinewidth": 0,
              "ticks": ""
             }
            },
            "type": "scattergl"
           }
          ],
          "scattermap": [
           {
            "marker": {
             "colorbar": {
              "outlinewidth": 0,
              "ticks": ""
             }
            },
            "type": "scattermap"
           }
          ],
          "scattermapbox": [
           {
            "marker": {
             "colorbar": {
              "outlinewidth": 0,
              "ticks": ""
             }
            },
            "type": "scattermapbox"
           }
          ],
          "scatterpolar": [
           {
            "marker": {
             "colorbar": {
              "outlinewidth": 0,
              "ticks": ""
             }
            },
            "type": "scatterpolar"
           }
          ],
          "scatterpolargl": [
           {
            "marker": {
             "colorbar": {
              "outlinewidth": 0,
              "ticks": ""
             }
            },
            "type": "scatterpolargl"
           }
          ],
          "scatterternary": [
           {
            "marker": {
             "colorbar": {
              "outlinewidth": 0,
              "ticks": ""
             }
            },
            "type": "scatterternary"
           }
          ],
          "surface": [
           {
            "colorbar": {
             "outlinewidth": 0,
             "ticks": ""
            },
            "colorscale": [
             [
              0,
              "#0d0887"
             ],
             [
              0.1111111111111111,
              "#46039f"
             ],
             [
              0.2222222222222222,
              "#7201a8"
             ],
             [
              0.3333333333333333,
              "#9c179e"
             ],
             [
              0.4444444444444444,
              "#bd3786"
             ],
             [
              0.5555555555555556,
              "#d8576b"
             ],
             [
              0.6666666666666666,
              "#ed7953"
             ],
             [
              0.7777777777777778,
              "#fb9f3a"
             ],
             [
              0.8888888888888888,
              "#fdca26"
             ],
             [
              1,
              "#f0f921"
             ]
            ],
            "type": "surface"
           }
          ],
          "table": [
           {
            "cells": {
             "fill": {
              "color": "#EBF0F8"
             },
             "line": {
              "color": "white"
             }
            },
            "header": {
             "fill": {
              "color": "#C8D4E3"
             },
             "line": {
              "color": "white"
             }
            },
            "type": "table"
           }
          ]
         },
         "layout": {
          "annotationdefaults": {
           "arrowcolor": "#2a3f5f",
           "arrowhead": 0,
           "arrowwidth": 1
          },
          "autotypenumbers": "strict",
          "coloraxis": {
           "colorbar": {
            "outlinewidth": 0,
            "ticks": ""
           }
          },
          "colorscale": {
           "diverging": [
            [
             0,
             "#8e0152"
            ],
            [
             0.1,
             "#c51b7d"
            ],
            [
             0.2,
             "#de77ae"
            ],
            [
             0.3,
             "#f1b6da"
            ],
            [
             0.4,
             "#fde0ef"
            ],
            [
             0.5,
             "#f7f7f7"
            ],
            [
             0.6,
             "#e6f5d0"
            ],
            [
             0.7,
             "#b8e186"
            ],
            [
             0.8,
             "#7fbc41"
            ],
            [
             0.9,
             "#4d9221"
            ],
            [
             1,
             "#276419"
            ]
           ],
           "sequential": [
            [
             0,
             "#0d0887"
            ],
            [
             0.1111111111111111,
             "#46039f"
            ],
            [
             0.2222222222222222,
             "#7201a8"
            ],
            [
             0.3333333333333333,
             "#9c179e"
            ],
            [
             0.4444444444444444,
             "#bd3786"
            ],
            [
             0.5555555555555556,
             "#d8576b"
            ],
            [
             0.6666666666666666,
             "#ed7953"
            ],
            [
             0.7777777777777778,
             "#fb9f3a"
            ],
            [
             0.8888888888888888,
             "#fdca26"
            ],
            [
             1,
             "#f0f921"
            ]
           ],
           "sequentialminus": [
            [
             0,
             "#0d0887"
            ],
            [
             0.1111111111111111,
             "#46039f"
            ],
            [
             0.2222222222222222,
             "#7201a8"
            ],
            [
             0.3333333333333333,
             "#9c179e"
            ],
            [
             0.4444444444444444,
             "#bd3786"
            ],
            [
             0.5555555555555556,
             "#d8576b"
            ],
            [
             0.6666666666666666,
             "#ed7953"
            ],
            [
             0.7777777777777778,
             "#fb9f3a"
            ],
            [
             0.8888888888888888,
             "#fdca26"
            ],
            [
             1,
             "#f0f921"
            ]
           ]
          },
          "colorway": [
           "#636efa",
           "#EF553B",
           "#00cc96",
           "#ab63fa",
           "#FFA15A",
           "#19d3f3",
           "#FF6692",
           "#B6E880",
           "#FF97FF",
           "#FECB52"
          ],
          "font": {
           "color": "#2a3f5f"
          },
          "geo": {
           "bgcolor": "white",
           "lakecolor": "white",
           "landcolor": "#E5ECF6",
           "showlakes": true,
           "showland": true,
           "subunitcolor": "white"
          },
          "hoverlabel": {
           "align": "left"
          },
          "hovermode": "closest",
          "mapbox": {
           "style": "light"
          },
          "paper_bgcolor": "white",
          "plot_bgcolor": "#E5ECF6",
          "polar": {
           "angularaxis": {
            "gridcolor": "white",
            "linecolor": "white",
            "ticks": ""
           },
           "bgcolor": "#E5ECF6",
           "radialaxis": {
            "gridcolor": "white",
            "linecolor": "white",
            "ticks": ""
           }
          },
          "scene": {
           "xaxis": {
            "backgroundcolor": "#E5ECF6",
            "gridcolor": "white",
            "gridwidth": 2,
            "linecolor": "white",
            "showbackground": true,
            "ticks": "",
            "zerolinecolor": "white"
           },
           "yaxis": {
            "backgroundcolor": "#E5ECF6",
            "gridcolor": "white",
            "gridwidth": 2,
            "linecolor": "white",
            "showbackground": true,
            "ticks": "",
            "zerolinecolor": "white"
           },
           "zaxis": {
            "backgroundcolor": "#E5ECF6",
            "gridcolor": "white",
            "gridwidth": 2,
            "linecolor": "white",
            "showbackground": true,
            "ticks": "",
            "zerolinecolor": "white"
           }
          },
          "shapedefaults": {
           "line": {
            "color": "#2a3f5f"
           }
          },
          "ternary": {
           "aaxis": {
            "gridcolor": "white",
            "linecolor": "white",
            "ticks": ""
           },
           "baxis": {
            "gridcolor": "white",
            "linecolor": "white",
            "ticks": ""
           },
           "bgcolor": "#E5ECF6",
           "caxis": {
            "gridcolor": "white",
            "linecolor": "white",
            "ticks": ""
           }
          },
          "title": {
           "x": 0.05
          },
          "xaxis": {
           "automargin": true,
           "gridcolor": "white",
           "linecolor": "white",
           "ticks": "",
           "title": {
            "standoff": 15
           },
           "zerolinecolor": "white",
           "zerolinewidth": 2
          },
          "yaxis": {
           "automargin": true,
           "gridcolor": "white",
           "linecolor": "white",
           "ticks": "",
           "title": {
            "standoff": 15
           },
           "zerolinecolor": "white",
           "zerolinewidth": 2
          }
         }
        },
        "title": {
         "text": "f\"Box Plot - {col}"
        },
        "xaxis": {
         "anchor": "y",
         "domain": [
          0,
          1
         ],
         "title": {
          "text": "Reginol_Node_Positive"
         }
        },
        "yaxis": {
         "anchor": "x",
         "domain": [
          0,
          1
         ]
        }
       }
      }
     },
     "metadata": {},
     "output_type": "display_data"
    },
    {
     "data": {
      "application/vnd.plotly.v1+json": {
       "config": {
        "plotlyServerURL": "https://plot.ly"
       },
       "data": [
        {
         "alignmentgroup": "True",
         "hovertemplate": "Survival_Months=%{x}<extra></extra>",
         "legendgroup": "",
         "marker": {
          "color": "#636efa"
         },
         "name": "",
         "notched": false,
         "offsetgroup": "",
         "orientation": "h",
         "showlegend": false,
         "type": "box",
         "x": {
          "bdata": "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",
          "dtype": "i2"
         },
         "x0": " ",
         "xaxis": "x",
         "y0": " ",
         "yaxis": "y"
        }
       ],
       "layout": {
        "boxmode": "group",
        "legend": {
         "tracegroupgap": 0
        },
        "template": {
         "data": {
          "bar": [
           {
            "error_x": {
             "color": "#2a3f5f"
            },
            "error_y": {
             "color": "#2a3f5f"
            },
            "marker": {
             "line": {
              "color": "#E5ECF6",
              "width": 0.5
             },
             "pattern": {
              "fillmode": "overlay",
              "size": 10,
              "solidity": 0.2
             }
            },
            "type": "bar"
           }
          ],
          "barpolar": [
           {
            "marker": {
             "line": {
              "color": "#E5ECF6",
              "width": 0.5
             },
             "pattern": {
              "fillmode": "overlay",
              "size": 10,
              "solidity": 0.2
             }
            },
            "type": "barpolar"
           }
          ],
          "carpet": [
           {
            "aaxis": {
             "endlinecolor": "#2a3f5f",
             "gridcolor": "white",
             "linecolor": "white",
             "minorgridcolor": "white",
             "startlinecolor": "#2a3f5f"
            },
            "baxis": {
             "endlinecolor": "#2a3f5f",
             "gridcolor": "white",
             "linecolor": "white",
             "minorgridcolor": "white",
             "startlinecolor": "#2a3f5f"
            },
            "type": "carpet"
           }
          ],
          "choropleth": [
           {
            "colorbar": {
             "outlinewidth": 0,
             "ticks": ""
            },
            "type": "choropleth"
           }
          ],
          "contour": [
           {
            "colorbar": {
             "outlinewidth": 0,
             "ticks": ""
            },
            "colorscale": [
             [
              0,
              "#0d0887"
             ],
             [
              0.1111111111111111,
              "#46039f"
             ],
             [
              0.2222222222222222,
              "#7201a8"
             ],
             [
              0.3333333333333333,
              "#9c179e"
             ],
             [
              0.4444444444444444,
              "#bd3786"
             ],
             [
              0.5555555555555556,
              "#d8576b"
             ],
             [
              0.6666666666666666,
              "#ed7953"
             ],
             [
              0.7777777777777778,
              "#fb9f3a"
             ],
             [
              0.8888888888888888,
              "#fdca26"
             ],
             [
              1,
              "#f0f921"
             ]
            ],
            "type": "contour"
           }
          ],
          "contourcarpet": [
           {
            "colorbar": {
             "outlinewidth": 0,
             "ticks": ""
            },
            "type": "contourcarpet"
           }
          ],
          "heatmap": [
           {
            "colorbar": {
             "outlinewidth": 0,
             "ticks": ""
            },
            "colorscale": [
             [
              0,
              "#0d0887"
             ],
             [
              0.1111111111111111,
              "#46039f"
             ],
             [
              0.2222222222222222,
              "#7201a8"
             ],
             [
              0.3333333333333333,
              "#9c179e"
             ],
             [
              0.4444444444444444,
              "#bd3786"
             ],
             [
              0.5555555555555556,
              "#d8576b"
             ],
             [
              0.6666666666666666,
              "#ed7953"
             ],
             [
              0.7777777777777778,
              "#fb9f3a"
             ],
             [
              0.8888888888888888,
              "#fdca26"
             ],
             [
              1,
              "#f0f921"
             ]
            ],
            "type": "heatmap"
           }
          ],
          "histogram": [
           {
            "marker": {
             "pattern": {
              "fillmode": "overlay",
              "size": 10,
              "solidity": 0.2
             }
            },
            "type": "histogram"
           }
          ],
          "histogram2d": [
           {
            "colorbar": {
             "outlinewidth": 0,
             "ticks": ""
            },
            "colorscale": [
             [
              0,
              "#0d0887"
             ],
             [
              0.1111111111111111,
              "#46039f"
             ],
             [
              0.2222222222222222,
              "#7201a8"
             ],
             [
              0.3333333333333333,
              "#9c179e"
             ],
             [
              0.4444444444444444,
              "#bd3786"
             ],
             [
              0.5555555555555556,
              "#d8576b"
             ],
             [
              0.6666666666666666,
              "#ed7953"
             ],
             [
              0.7777777777777778,
              "#fb9f3a"
             ],
             [
              0.8888888888888888,
              "#fdca26"
             ],
             [
              1,
              "#f0f921"
             ]
            ],
            "type": "histogram2d"
           }
          ],
          "histogram2dcontour": [
           {
            "colorbar": {
             "outlinewidth": 0,
             "ticks": ""
            },
            "colorscale": [
             [
              0,
              "#0d0887"
             ],
             [
              0.1111111111111111,
              "#46039f"
             ],
             [
              0.2222222222222222,
              "#7201a8"
             ],
             [
              0.3333333333333333,
              "#9c179e"
             ],
             [
              0.4444444444444444,
              "#bd3786"
             ],
             [
              0.5555555555555556,
              "#d8576b"
             ],
             [
              0.6666666666666666,
              "#ed7953"
             ],
             [
              0.7777777777777778,
              "#fb9f3a"
             ],
             [
              0.8888888888888888,
              "#fdca26"
             ],
             [
              1,
              "#f0f921"
             ]
            ],
            "type": "histogram2dcontour"
           }
          ],
          "mesh3d": [
           {
            "colorbar": {
             "outlinewidth": 0,
             "ticks": ""
            },
            "type": "mesh3d"
           }
          ],
          "parcoords": [
           {
            "line": {
             "colorbar": {
              "outlinewidth": 0,
              "ticks": ""
             }
            },
            "type": "parcoords"
           }
          ],
          "pie": [
           {
            "automargin": true,
            "type": "pie"
           }
          ],
          "scatter": [
           {
            "fillpattern": {
             "fillmode": "overlay",
             "size": 10,
             "solidity": 0.2
            },
            "type": "scatter"
           }
          ],
          "scatter3d": [
           {
            "line": {
             "colorbar": {
              "outlinewidth": 0,
              "ticks": ""
             }
            },
            "marker": {
             "colorbar": {
              "outlinewidth": 0,
              "ticks": ""
             }
            },
            "type": "scatter3d"
           }
          ],
          "scattercarpet": [
           {
            "marker": {
             "colorbar": {
              "outlinewidth": 0,
              "ticks": ""
             }
            },
            "type": "scattercarpet"
           }
          ],
          "scattergeo": [
           {
            "marker": {
             "colorbar": {
              "outlinewidth": 0,
              "ticks": ""
             }
            },
            "type": "scattergeo"
           }
          ],
          "scattergl": [
           {
            "marker": {
             "colorbar": {
              "outlinewidth": 0,
              "ticks": ""
             }
            },
            "type": "scattergl"
           }
          ],
          "scattermap": [
           {
            "marker": {
             "colorbar": {
              "outlinewidth": 0,
              "ticks": ""
             }
            },
            "type": "scattermap"
           }
          ],
          "scattermapbox": [
           {
            "marker": {
             "colorbar": {
              "outlinewidth": 0,
              "ticks": ""
             }
            },
            "type": "scattermapbox"
           }
          ],
          "scatterpolar": [
           {
            "marker": {
             "colorbar": {
              "outlinewidth": 0,
              "ticks": ""
             }
            },
            "type": "scatterpolar"
           }
          ],
          "scatterpolargl": [
           {
            "marker": {
             "colorbar": {
              "outlinewidth": 0,
              "ticks": ""
             }
            },
            "type": "scatterpolargl"
           }
          ],
          "scatterternary": [
           {
            "marker": {
             "colorbar": {
              "outlinewidth": 0,
              "ticks": ""
             }
            },
            "type": "scatterternary"
           }
          ],
          "surface": [
           {
            "colorbar": {
             "outlinewidth": 0,
             "ticks": ""
            },
            "colorscale": [
             [
              0,
              "#0d0887"
             ],
             [
              0.1111111111111111,
              "#46039f"
             ],
             [
              0.2222222222222222,
              "#7201a8"
             ],
             [
              0.3333333333333333,
              "#9c179e"
             ],
             [
              0.4444444444444444,
              "#bd3786"
             ],
             [
              0.5555555555555556,
              "#d8576b"
             ],
             [
              0.6666666666666666,
              "#ed7953"
             ],
             [
              0.7777777777777778,
              "#fb9f3a"
             ],
             [
              0.8888888888888888,
              "#fdca26"
             ],
             [
              1,
              "#f0f921"
             ]
            ],
            "type": "surface"
           }
          ],
          "table": [
           {
            "cells": {
             "fill": {
              "color": "#EBF0F8"
             },
             "line": {
              "color": "white"
             }
            },
            "header": {
             "fill": {
              "color": "#C8D4E3"
             },
             "line": {
              "color": "white"
             }
            },
            "type": "table"
           }
          ]
         },
         "layout": {
          "annotationdefaults": {
           "arrowcolor": "#2a3f5f",
           "arrowhead": 0,
           "arrowwidth": 1
          },
          "autotypenumbers": "strict",
          "coloraxis": {
           "colorbar": {
            "outlinewidth": 0,
            "ticks": ""
           }
          },
          "colorscale": {
           "diverging": [
            [
             0,
             "#8e0152"
            ],
            [
             0.1,
             "#c51b7d"
            ],
            [
             0.2,
             "#de77ae"
            ],
            [
             0.3,
             "#f1b6da"
            ],
            [
             0.4,
             "#fde0ef"
            ],
            [
             0.5,
             "#f7f7f7"
            ],
            [
             0.6,
             "#e6f5d0"
            ],
            [
             0.7,
             "#b8e186"
            ],
            [
             0.8,
             "#7fbc41"
            ],
            [
             0.9,
             "#4d9221"
            ],
            [
             1,
             "#276419"
            ]
           ],
           "sequential": [
            [
             0,
             "#0d0887"
            ],
            [
             0.1111111111111111,
             "#46039f"
            ],
            [
             0.2222222222222222,
             "#7201a8"
            ],
            [
             0.3333333333333333,
             "#9c179e"
            ],
            [
             0.4444444444444444,
             "#bd3786"
            ],
            [
             0.5555555555555556,
             "#d8576b"
            ],
            [
             0.6666666666666666,
             "#ed7953"
            ],
            [
             0.7777777777777778,
             "#fb9f3a"
            ],
            [
             0.8888888888888888,
             "#fdca26"
            ],
            [
             1,
             "#f0f921"
            ]
           ],
           "sequentialminus": [
            [
             0,
             "#0d0887"
            ],
            [
             0.1111111111111111,
             "#46039f"
            ],
            [
             0.2222222222222222,
             "#7201a8"
            ],
            [
             0.3333333333333333,
             "#9c179e"
            ],
            [
             0.4444444444444444,
             "#bd3786"
            ],
            [
             0.5555555555555556,
             "#d8576b"
            ],
            [
             0.6666666666666666,
             "#ed7953"
            ],
            [
             0.7777777777777778,
             "#fb9f3a"
            ],
            [
             0.8888888888888888,
             "#fdca26"
            ],
            [
             1,
             "#f0f921"
            ]
           ]
          },
          "colorway": [
           "#636efa",
           "#EF553B",
           "#00cc96",
           "#ab63fa",
           "#FFA15A",
           "#19d3f3",
           "#FF6692",
           "#B6E880",
           "#FF97FF",
           "#FECB52"
          ],
          "font": {
           "color": "#2a3f5f"
          },
          "geo": {
           "bgcolor": "white",
           "lakecolor": "white",
           "landcolor": "#E5ECF6",
           "showlakes": true,
           "showland": true,
           "subunitcolor": "white"
          },
          "hoverlabel": {
           "align": "left"
          },
          "hovermode": "closest",
          "mapbox": {
           "style": "light"
          },
          "paper_bgcolor": "white",
          "plot_bgcolor": "#E5ECF6",
          "polar": {
           "angularaxis": {
            "gridcolor": "white",
            "linecolor": "white",
            "ticks": ""
           },
           "bgcolor": "#E5ECF6",
           "radialaxis": {
            "gridcolor": "white",
            "linecolor": "white",
            "ticks": ""
           }
          },
          "scene": {
           "xaxis": {
            "backgroundcolor": "#E5ECF6",
            "gridcolor": "white",
            "gridwidth": 2,
            "linecolor": "white",
            "showbackground": true,
            "ticks": "",
            "zerolinecolor": "white"
           },
           "yaxis": {
            "backgroundcolor": "#E5ECF6",
            "gridcolor": "white",
            "gridwidth": 2,
            "linecolor": "white",
            "showbackground": true,
            "ticks": "",
            "zerolinecolor": "white"
           },
           "zaxis": {
            "backgroundcolor": "#E5ECF6",
            "gridcolor": "white",
            "gridwidth": 2,
            "linecolor": "white",
            "showbackground": true,
            "ticks": "",
            "zerolinecolor": "white"
           }
          },
          "shapedefaults": {
           "line": {
            "color": "#2a3f5f"
           }
          },
          "ternary": {
           "aaxis": {
            "gridcolor": "white",
            "linecolor": "white",
            "ticks": ""
           },
           "baxis": {
            "gridcolor": "white",
            "linecolor": "white",
            "ticks": ""
           },
           "bgcolor": "#E5ECF6",
           "caxis": {
            "gridcolor": "white",
            "linecolor": "white",
            "ticks": ""
           }
          },
          "title": {
           "x": 0.05
          },
          "xaxis": {
           "automargin": true,
           "gridcolor": "white",
           "linecolor": "white",
           "ticks": "",
           "title": {
            "standoff": 15
           },
           "zerolinecolor": "white",
           "zerolinewidth": 2
          },
          "yaxis": {
           "automargin": true,
           "gridcolor": "white",
           "linecolor": "white",
           "ticks": "",
           "title": {
            "standoff": 15
           },
           "zerolinecolor": "white",
           "zerolinewidth": 2
          }
         }
        },
        "title": {
         "text": "f\"Box Plot - {col}"
        },
        "xaxis": {
         "anchor": "y",
         "domain": [
          0,
          1
         ],
         "title": {
          "text": "Survival_Months"
         }
        },
        "yaxis": {
         "anchor": "x",
         "domain": [
          0,
          1
         ]
        }
       }
      }
     },
     "metadata": {},
     "output_type": "display_data"
    }
   ],
   "source": [
    "for col in outl_cols:\n",
    "    fig = px.box(df,x=col,title='f\"Box Plot - {col}')\n",
    "    fig.show()"
   ]
  },
  {
   "cell_type": "markdown",
   "id": "60043032",
   "metadata": {},
   "source": [
    "drop the outliers using IQR method "
   ]
  },
  {
   "cell_type": "code",
   "execution_count": 224,
   "id": "dbd40c39",
   "metadata": {},
   "outputs": [],
   "source": [
    "def remove_outliers(df, column):\n",
    "    Q1 = df[column].quantile(0.25)\n",
    "    Q3 = df[column].quantile(0.75)\n",
    "    IQR = Q3 - Q1\n",
    "    lower = Q1 - 1.5 * IQR\n",
    "    upper = Q3 + 1.5 * IQR\n",
    "    return df[(df[column] >= lower) & (df[column] <= upper)]"
   ]
  },
  {
   "cell_type": "code",
   "execution_count": 225,
   "id": "927ff246",
   "metadata": {},
   "outputs": [],
   "source": [
    "for col in ['Age','Tumor_Size','Regional_Node_Examined','Reginol_Node_Positive','Survival_Months']:\n",
    "    df = remove_outliers(df,col)"
   ]
  },
  {
   "cell_type": "code",
   "execution_count": 226,
   "id": "773e113b",
   "metadata": {},
   "outputs": [
    {
     "data": {
      "application/vnd.plotly.v1+json": {
       "config": {
        "plotlyServerURL": "https://plot.ly"
       },
       "data": [
        {
         "alignmentgroup": "True",
         "hovertemplate": "Age=%{x}<extra></extra>",
         "legendgroup": "",
         "marker": {
          "color": "#636efa"
         },
         "name": "",
         "notched": false,
         "offsetgroup": "",
         "orientation": "h",
         "showlegend": false,
         "type": "box",
         "x": {
          "bdata": "AAAAAAAAUUAAAAAAAABJQAAAAAAAAE1AAAAAAACAR0AAAAAAAIBJQAAAAAAAgElAAAAAAAAAREAAAAAAAABRQAAAAAAAQFBAAAAAAACATkAAAAAAAABMQAAAAAAAgEVAAAAAAAAASEAAAAAAAABOQAAAAAAAAEhAAAAAAACATEAAAAAAAIBLQAAAAAAAAEdAAAAAAACATEAAAAAAAIBQQAAAAAAAgEdAAAAAAACASkAAAAAAAIBNQAAAAAAAAE5AAAAAAACASUAAAAAAAABLQAAAAAAAgElAAAAAAACASEAAAAAAAIBJQAAAAAAAAFBAAAAAAAAAT0AAAAAAAIBKQAAAAAAAgEtAAAAAAACAUEAAAAAAAABFQAAAAAAAAE9AAAAAAABAUUAAAAAAAIBCQAAAAAAAQFFAAAAAAACATEAAAAAAAIBLQAAAAAAAAE9AAAAAAAAASUAAAAAAAIBLQAAAAAAAAExAAAAAAACASUAAAAAAAABFQAAAAAAAwFBAAAAAAAAAR0AAAAAAAABEQAAAAAAAAE1AAAAAAAAASkAAAAAAAAA/QAAAAAAAgFBAAAAAAAAATEAAAAAAAIBQQAAAAAAAAEVAAAAAAACASUAAAAAAAABRQAAAAAAAwFBAAAAAAACAUEAAAAAAAIBKQAAAAAAAgElAAAAAAACAS0AAAAAAAEBQQAAAAAAAgEBAAAAAAACAT0AAAAAAAIBNQAAAAAAAAE5AAAAAAAAASUAAAAAAAIBOQAAAAAAAAElAAAAAAAAAUUAAAAAAAIBHQAAAAAAAgExAAAAAAAAASkAAAAAAAABOQAAAAAAAAEtAAAAAAAAAUUAAAAAAAABDQAAAAAAAgE9AAAAAAACATkAAAAAAAIBCQAAAAAAAgEZAAAAAAAAAS0AAAAAAAIBKQAAAAAAAAEhAAAAAAACASkAAAAAAAMBQQAAAAAAAgEVAAAAAAACATUAAAAAAAIBKQAAAAAAAAE9AAAAAAACAQ0AAAAAAAIBNQAAAAAAAAExAAAAAAACARkAAAAAAAABOQAAAAAAAAElAAAAAAAAATUAAAAAAAABJQAAAAAAAgEJAAAAAAAAAR0AAAAAAAEBQQAAAAAAAAEtAAAAAAAAAQkAAAAAAAABPQAAAAAAAAEtAAAAAAACATkAAAAAAAABHQAAAAAAAgFBAAAAAAACATUAAAAAAAABDQAAAAAAAwFBAAAAAAAAATkAAAAAAAIBOQAAAAAAAwFBAAAAAAACAR0AAAAAAAIBDQAAAAAAAgEpAAAAAAACATUAAAAAAAIBKQAAAAAAAgE1AAAAAAACATEAAAAAAAIBOQAAAAAAAAEhAAAAAAACASkAAAAAAAEBRQAAAAAAAgEhAAAAAAACAT0AAAAAAAABOQAAAAAAAgERAAAAAAACARUAAAAAAAIBOQAAAAAAAAE5AAAAAAACATkAAAAAAAIBPQAAAAAAAgFBAAAAAAAAATUAAAAAAAABHQAAAAAAAAE1AAAAAAAAATkAAAAAAAABPQAAAAAAAgEpAAAAAAACAT0AAAAAAAIBLQAAAAAAAAEpAAAAAAACAR0AAAAAAAIBLQAAAAAAAAE5AAAAAAACAUEAAAAAAAABQQAAAAAAAwFBAAAAAAAAATEAAAAAAAABOQAAAAAAAAExAAAAAAAAASEAAAAAAAIBPQAAAAAAAAEZAAAAAAAAAUUAAAAAAAABQQAAAAAAAAEdAAAAAAACARUAAAAAAAIBFQAAAAAAAgEVAAAAAAACATkAAAAAAAIBQQAAAAAAAgEtAAAAAAABAUUAAAAAAAIBNQAAAAAAAgE9AAAAAAAAAUUAAAAAAAIBOQAAAAAAAAEZAAAAAAACAR0AAAAAAAABKQAAAAAAAQFFAAAAAAACARUAAAAAAAABQQAAAAAAAgFBAAAAAAACARkAAAAAAAIBCQAAAAAAAAElAAAAAAAAAREAAAAAAAABKQAAAAAAAwFBAAAAAAACATEAAAAAAAIBPQAAAAAAAAEVAAAAAAACATEAAAAAAAABHQAAAAAAAgEdAAAAAAADAUEAAAAAAAMBQQAAAAAAAQFBAAAAAAABAUEAAAAAAAABQQAAAAAAAgEtAAAAAAACAR0AAAAAAAABDQAAAAAAAgExAAAAAAADAUEAAAAAAAIBMQAAAAAAAgE5AAAAAAACARkAAAAAAAABJQAAAAAAAgEpAAAAAAAAAS0AAAAAAAABNQAAAAAAAQFBAAAAAAABAUUAAAAAAAIBFQAAAAAAAwFBAAAAAAACARkAAAAAAAEBQQAAAAAAAgEpAAAAAAACARUAAAAAAAIBHQAAAAAAAAEhAAAAAAAAAUUAAAAAAAABEQAAAAAAAAExAAAAAAAAASkAAAAAAAABEQAAAAAAAgElAAAAAAADAUEAAAAAAAABLQAAAAAAAAEhAAAAAAACATEAAAAAAAABLQAAAAAAAQFBAAAAAAAAATUAAAAAAAABDQAAAAAAAAE1AAAAAAACAT0AAAAAAAIBKQAAAAAAAgEVAAAAAAAAATkAAAAAAAIBHQAAAAAAAAEhAAAAAAACATUAAAAAAAABMQAAAAAAAgEpAAAAAAAAASEAAAAAAAIBQQAAAAAAAgEZAAAAAAAAASkAAAAAAAABJQAAAAAAAQFBAAAAAAACAR0AAAAAAAIBIQAAAAAAAgEpAAAAAAAAARkAAAAAAAABLQAAAAAAAgElAAAAAAAAAR0AAAAAAAIBHQAAAAAAAAFFAAAAAAAAASUAAAAAAAMBQQAAAAAAAgEdAAAAAAAAAUUAAAAAAAIBLQAAAAAAAgEdAAAAAAACASUAAAAAAAIBEQAAAAAAAwFBAAAAAAACAT0AAAAAAAEBRQAAAAAAAQFBAAAAAAAAASEAAAAAAAIBDQAAAAAAAgEhAAAAAAAAAQUAAAAAAAIBIQAAAAAAAAEpAAAAAAAAAT0AAAAAAAIBLQAAAAAAAgExAAAAAAAAAREAAAAAAAABKQAAAAAAAgE9AAAAAAACATEAAAAAAAIBKQAAAAAAAgEJAAAAAAAAASUAAAAAAAABMQAAAAAAAAEpAAAAAAAAAQ0AAAAAAAIBMQAAAAAAAAExAAAAAAAAAS0AAAAAAAEBRQAAAAAAAgE9AAAAAAAAAR0AAAAAAAIBHQAAAAAAAAERAAAAAAACAR0AAAAAAAABKQAAAAAAAgE9AAAAAAACATEAAAAAAAIBGQAAAAAAAAE9AAAAAAAAAS0AAAAAAAEBQQAAAAAAAAFBAAAAAAACAUEAAAAAAAEBRQAAAAAAAgE5AAAAAAACATkAAAAAAAIBFQAAAAAAAgE9AAAAAAACATkAAAAAAAIBOQAAAAAAAQFFAAAAAAACAUEAAAAAAAABKQAAAAAAAgEhAAAAAAACAS0AAAAAAAABFQAAAAAAAAEpAAAAAAAAAQ0AAAAAAAIBDQAAAAAAAgExAAAAAAAAAT0AAAAAAAIBLQAAAAAAAgEdAAAAAAAAASUAAAAAAAABFQAAAAAAAAEdAAAAAAAAASUAAAAAAAABPQAAAAAAAAE1AAAAAAACASkAAAAAAAABHQAAAAAAAAENAAAAAAAAAREAAAAAAAABOQAAAAAAAgE9AAAAAAACASEAAAAAAAIBMQAAAAAAAAEhAAAAAAACATkAAAAAAAIBKQAAAAAAAgExAAAAAAAAATEAAAAAAAABQQAAAAAAAAERAAAAAAAAASkAAAAAAAIBKQAAAAAAAAEtAAAAAAACAREAAAAAAAIBMQAAAAAAAAERAAAAAAAAAT0AAAAAAAABPQAAAAAAAgEdAAAAAAACASkAAAAAAAABQQAAAAAAAAExAAAAAAAAASUAAAAAAAIBQQAAAAAAAAExAAAAAAAAAR0AAAAAAAIBQQAAAAAAAgExAAAAAAACAS0AAAAAAAABAQAAAAAAAAE1AAAAAAAAAUEAAAAAAAABGQAAAAAAAAEpAAAAAAACAT0AAAAAAAABHQAAAAAAAAE9AAAAAAACAR0AAAAAAAIBDQAAAAAAAgEBAAAAAAACAS0AAAAAAAEBRQAAAAAAAAE1AAAAAAAAARUAAAAAAAIBJQAAAAAAAAFBAAAAAAAAAT0AAAAAAAIBFQAAAAAAAgE1AAAAAAACASUAAAAAAAABEQAAAAAAAgEhAAAAAAAAAR0AAAAAAAABEQAAAAAAAAExAAAAAAAAASUAAAAAAAIBLQAAAAAAAAE5AAAAAAAAAQUAAAAAAAIBJQAAAAAAAAE1AAAAAAACATkAAAAAAAABIQAAAAAAAgFBAAAAAAAAAUEAAAAAAAABMQAAAAAAAgEdAAAAAAAAATkAAAAAAAIBFQAAAAAAAAEVAAAAAAAAASkAAAAAAAIBPQAAAAAAAAE5AAAAAAACATkAAAAAAAABKQAAAAAAAAFBAAAAAAACAR0AAAAAAAIBJQAAAAAAAgEpAAAAAAACAT0AAAAAAAIBGQAAAAAAAAEdAAAAAAAAAS0AAAAAAAEBQQAAAAAAAgElAAAAAAACARkAAAAAAAIBGQAAAAAAAgEFAAAAAAAAAS0AAAAAAAABRQAAAAAAAAE1AAAAAAACATUAAAAAAAIBHQAAAAAAAAEpAAAAAAAAAR0AAAAAAAABBQAAAAAAAAEFAAAAAAAAAQkAAAAAAAIBOQAAAAAAAAE5AAAAAAAAAQ0AAAAAAAABMQAAAAAAAgEhAAAAAAACATkAAAAAAAEBRQAAAAAAAgE5AAAAAAACAR0AAAAAAAABPQAAAAAAAgERAAAAAAAAASEAAAAAAAABLQAAAAAAAgE9AAAAAAACASUAAAAAAAIBLQAAAAAAAgEhAAAAAAAAAUEAAAAAAAIBPQAAAAAAAgE5AAAAAAAAASkAAAAAAAABPQAAAAAAAAEpAAAAAAAAAQkAAAAAAAABQQAAAAAAAgEtAAAAAAABAUEAAAAAAAABRQAAAAAAAAEZAAAAAAAAASkAAAAAAAIBKQAAAAAAAQFBAAAAAAADAUEAAAAAAAIBMQAAAAAAAgE9AAAAAAAAASkAAAAAAAIBOQAAAAAAAAE1AAAAAAAAAT0AAAAAAAABMQAAAAAAAAEhAAAAAAAAAUEAAAAAAAMBQQAAAAAAAgExAAAAAAACAREAAAAAAAIBJQAAAAAAAgElAAAAAAAAAR0AAAAAAAABIQAAAAAAAgEVAAAAAAACATUAAAAAAAIBIQAAAAAAAAExAAAAAAACASkAAAAAAAIBJQAAAAAAAgEtAAAAAAAAAS0AAAAAAAABBQAAAAAAAAEdAAAAAAAAAT0AAAAAAAIBIQAAAAAAAAFFAAAAAAACATEAAAAAAAIBHQAAAAAAAAERAAAAAAACARkAAAAAAAABLQAAAAAAAgExAAAAAAADAUEAAAAAAAIBJQAAAAAAAAEtAAAAAAAAASkAAAAAAAIBPQAAAAAAAAEhAAAAAAAAAR0AAAAAAAABHQAAAAAAAAEdAAAAAAABAUEAAAAAAAEBRQAAAAAAAgEtAAAAAAACATUAAAAAAAMBQQAAAAAAAQFFAAAAAAABAUUAAAAAAAABOQAAAAAAAgEZAAAAAAAAASEAAAAAAAABOQAAAAAAAgEBAAAAAAAAATkAAAAAAAABRQAAAAAAAwFBAAAAAAAAASUAAAAAAAIBLQAAAAAAAgE1AAAAAAAAAQEAAAAAAAIBPQAAAAAAAgEpAAAAAAAAAS0AAAAAAAABJQAAAAAAAgEZAAAAAAAAAR0AAAAAAAABHQAAAAAAAwFBAAAAAAAAATUAAAAAAAABOQAAAAAAAgEtAAAAAAAAAR0AAAAAAAABPQAAAAAAAgE1AAAAAAACATUAAAAAAAABGQAAAAAAAQFFAAAAAAACARUAAAAAAAIBFQAAAAAAAgE9AAAAAAAAATkAAAAAAAABMQAAAAAAAAEZAAAAAAAAASUAAAAAAAIBLQAAAAAAAQFBAAAAAAACAR0AAAAAAAABPQAAAAAAAAE5AAAAAAAAAT0AAAAAAAIBPQAAAAAAAgEtAAAAAAACAUEAAAAAAAEBRQAAAAAAAgE5AAAAAAACASUAAAAAAAABNQAAAAAAAAE5AAAAAAAAASEAAAAAAAIBPQAAAAAAAAERAAAAAAABAUUAAAAAAAMBQQAAAAAAAgEZAAAAAAACAUEAAAAAAAIBLQAAAAAAAAEhAAAAAAAAATUAAAAAAAIBOQAAAAAAAgE1AAAAAAACASUAAAAAAAABGQAAAAAAAgE1AAAAAAAAATUAAAAAAAABKQAAAAAAAAExAAAAAAABAUUAAAAAAAIBIQAAAAAAAAEhAAAAAAACAREAAAAAAAIBJQAAAAAAAgEZAAAAAAACASkAAAAAAAIBHQAAAAAAAAE9AAAAAAAAASUAAAAAAAIBLQAAAAAAAQFBAAAAAAAAAUEAAAAAAAABQQAAAAAAAwFBAAAAAAACATEAAAAAAAABKQAAAAAAAgE5AAAAAAAAATEAAAAAAAIBHQAAAAAAAAD9AAAAAAACAS0AAAAAAAABPQAAAAAAAAEdAAAAAAAAAT0AAAAAAAIBOQAAAAAAAQFBAAAAAAACATEAAAAAAAABPQAAAAAAAgExAAAAAAACAT0AAAAAAAABPQAAAAAAAAD9AAAAAAACAQ0AAAAAAAABDQAAAAAAAgEdAAAAAAACAR0AAAAAAAIBKQAAAAAAAAEdAAAAAAAAAQ0AAAAAAAABHQAAAAAAAgE5AAAAAAAAAREAAAAAAAIBJQAAAAAAAgE5AAAAAAAAARUAAAAAAAABQQAAAAAAAgFBAAAAAAAAARUAAAAAAAIBJQAAAAAAAgEZAAAAAAABAUEAAAAAAAIBNQAAAAAAAAENAAAAAAACAREAAAAAAAEBQQAAAAAAAAEpAAAAAAAAATUAAAAAAAIBLQAAAAAAAgENAAAAAAADAUEAAAAAAAIBGQAAAAAAAgE9AAAAAAAAATEAAAAAAAABDQAAAAAAAAEdAAAAAAACAUEAAAAAAAIBJQAAAAAAAgE9AAAAAAABAUUAAAAAAAIBJQAAAAAAAgEhAAAAAAAAARkAAAAAAAIBGQAAAAAAAAE5AAAAAAAAATkAAAAAAAABOQAAAAAAAgEpAAAAAAACAT0AAAAAAAIBKQAAAAAAAAEdAAAAAAAAARUAAAAAAAABRQAAAAAAAgExAAAAAAACARUAAAAAAAIBKQAAAAAAAgFBAAAAAAAAATUAAAAAAAIBEQAAAAAAAAElAAAAAAACAQ0AAAAAAAABHQAAAAAAAgEtAAAAAAAAARUAAAAAAAIBQQAAAAAAAgEtAAAAAAACASEAAAAAAAIBOQAAAAAAAgE9AAAAAAACATkAAAAAAAIBHQAAAAAAAgEpAAAAAAACARkAAAAAAAIBHQAAAAAAAgE9AAAAAAAAARUAAAAAAAIBHQAAAAAAAgElAAAAAAAAATEAAAAAAAABQQAAAAAAAgFBAAAAAAAAATkAAAAAAAIBPQAAAAAAAgE5AAAAAAACARkAAAAAAAIBHQAAAAAAAgEFAAAAAAACAS0AAAAAAAABOQAAAAAAAAD9AAAAAAACASUAAAAAAAABNQAAAAAAAAElAAAAAAAAASEAAAAAAAIBMQAAAAAAAAEZAAAAAAACAS0AAAAAAAABRQAAAAAAAAEVAAAAAAACAR0AAAAAAAABAQAAAAAAAgEhAAAAAAACAS0AAAAAAAABQQAAAAAAAgEVAAAAAAACATkAAAAAAAABFQAAAAAAAAE1AAAAAAACASUAAAAAAAABRQAAAAAAAAE1AAAAAAACAUEAAAAAAAABKQAAAAAAAQFFAAAAAAAAAUEAAAAAAAIBQQAAAAAAAgEtAAAAAAACAS0AAAAAAAIBMQAAAAAAAAEtAAAAAAADAUEAAAAAAAIBEQAAAAAAAQFBAAAAAAACASUAAAAAAAIBIQAAAAAAAAEZAAAAAAAAATEAAAAAAAABIQAAAAAAAAE9AAAAAAACASkAAAAAAAIBGQAAAAAAAAEtAAAAAAAAAQEAAAAAAAEBQQAAAAAAAwFBAAAAAAAAARUAAAAAAAABOQAAAAAAAAEhAAAAAAABAUUAAAAAAAIBNQAAAAAAAgE1AAAAAAACASEAAAAAAAIBHQAAAAAAAAEdAAAAAAACAT0AAAAAAAIBKQAAAAAAAAEVAAAAAAACASEAAAAAAAIBQQAAAAAAAAEJAAAAAAAAAR0AAAAAAAABPQAAAAAAAgEtAAAAAAACATEAAAAAAAABNQAAAAAAAQFFAAAAAAACATkAAAAAAAABHQAAAAAAAgE9AAAAAAACARkAAAAAAAABOQAAAAAAAAElAAAAAAAAAUEAAAAAAAIBPQAAAAAAAgEhAAAAAAACATEAAAAAAAIBJQAAAAAAAAE5AAAAAAACAUEAAAAAAAABJQAAAAAAAgEBAAAAAAACARkAAAAAAAABKQAAAAAAAAE5AAAAAAACATUAAAAAAAIBFQAAAAAAAgEdAAAAAAAAASkAAAAAAAIBJQAAAAAAAgE9AAAAAAACASEAAAAAAAABQQAAAAAAAgExAAAAAAAAAS0AAAAAAAMBQQAAAAAAAgExAAAAAAACAQkAAAAAAAIBOQAAAAAAAgE1AAAAAAAAASUAAAAAAAIBNQAAAAAAAgERAAAAAAAAAUEAAAAAAAABRQAAAAAAAgEVAAAAAAACASEAAAAAAAABMQAAAAAAAAE5AAAAAAADAUEAAAAAAAABJQAAAAAAAgFBAAAAAAACARkAAAAAAAIBOQAAAAAAAAFFAAAAAAACATUAAAAAAAABJQAAAAAAAAE9AAAAAAACATUAAAAAAAABHQAAAAAAAgERAAAAAAACARkAAAAAAAABGQAAAAAAAgEdAAAAAAACAUEAAAAAAAABMQAAAAAAAgFBAAAAAAACARkAAAAAAAEBQQAAAAAAAAEtAAAAAAAAASEAAAAAAAIBIQAAAAAAAAERAAAAAAAAAUEAAAAAAAIBOQAAAAAAAgE5AAAAAAACARUAAAAAAAIBPQAAAAAAAAEdAAAAAAACAT0AAAAAAAABHQAAAAAAAgEFAAAAAAACAR0AAAAAAAIBFQAAAAAAAgExAAAAAAAAAUEAAAAAAAIBOQAAAAAAAAEZAAAAAAAAASUAAAAAAAIBIQAAAAAAAwFBAAAAAAACASUAAAAAAAIBNQAAAAAAAgEpAAAAAAAAAT0AAAAAAAIBMQAAAAAAAgElAAAAAAABAUUAAAAAAAIBHQAAAAAAAgExAAAAAAACAS0AAAAAAAABKQAAAAAAAgEZAAAAAAACAQ0AAAAAAAIBGQAAAAAAAgERAAAAAAACAT0AAAAAAAABRQAAAAAAAAFBAAAAAAAAAUUAAAAAAAABHQAAAAAAAgE1AAAAAAAAAREAAAAAAAIBHQAAAAAAAgEpAAAAAAACATUAAAAAAAABJQAAAAAAAgEdAAAAAAAAAR0AAAAAAAABHQAAAAAAAwFBAAAAAAACASUAAAAAAAEBQQAAAAAAAgExAAAAAAACASEAAAAAAAABIQAAAAAAAwFBAAAAAAAAAUEAAAAAAAIBKQAAAAAAAAEVAAAAAAAAASUAAAAAAAABMQAAAAAAAgE1AAAAAAADAUEAAAAAAAIBGQAAAAAAAQFBAAAAAAACARkAAAAAAAABOQAAAAAAAAEtAAAAAAACAT0AAAAAAAIBEQAAAAAAAgFBAAAAAAACAREAAAAAAAABEQAAAAAAAgFBAAAAAAACARkAAAAAAAEBQQAAAAAAAAEZAAAAAAAAAUEAAAAAAAIBNQAAAAAAAgElAAAAAAACAUEAAAAAAAABHQAAAAAAAAEpAAAAAAACASEAAAAAAAABFQAAAAAAAgE9AAAAAAAAASEAAAAAAAIBQQAAAAAAAgERAAAAAAACATkAAAAAAAIBLQAAAAAAAAE9AAAAAAACAQUAAAAAAAABLQAAAAAAAAFBAAAAAAAAAUEAAAAAAAABDQAAAAAAAAE5AAAAAAACAS0AAAAAAAIBEQAAAAAAAwFBAAAAAAACASkAAAAAAAABBQAAAAAAAgENAAAAAAAAAREAAAAAAAIBNQAAAAAAAgEtAAAAAAAAAR0AAAAAAAABNQAAAAAAAgFBAAAAAAAAATEAAAAAAAABHQAAAAAAAAE9AAAAAAAAAR0AAAAAAAABCQAAAAAAAgElAAAAAAAAATkAAAAAAAIBPQAAAAAAAQFBAAAAAAAAASUAAAAAAAIBKQAAAAAAAAEdAAAAAAAAAR0AAAAAAAIBOQAAAAAAAAEpAAAAAAACATEAAAAAAAIBNQAAAAAAAAEhAAAAAAAAATUAAAAAAAABMQAAAAAAAAEZAAAAAAAAARkAAAAAAAIBAQAAAAAAAAEtAAAAAAACARkAAAAAAAABOQAAAAAAAAE9AAAAAAACASkAAAAAAAIBEQAAAAAAAgENAAAAAAAAARkAAAAAAAIBMQAAAAAAAAFFAAAAAAACASEAAAAAAAABJQAAAAAAAAElAAAAAAAAAR0AAAAAAAABLQAAAAAAAgElAAAAAAACASUAAAAAAAIBEQAAAAAAAAE9AAAAAAAAARUAAAAAAAABLQAAAAAAAgEdAAAAAAAAARUAAAAAAAIBLQAAAAAAAAE5AAAAAAAAASkAAAAAAAABNQAAAAAAAAEZAAAAAAACASkAAAAAAAABIQAAAAAAAgE9AAAAAAAAAUEAAAAAAAIBDQAAAAAAAgElAAAAAAACAQ0AAAAAAAABMQAAAAAAAgElAAAAAAAAAUUAAAAAAAIBJQAAAAAAAAEtAAAAAAACARUAAAAAAAEBRQAAAAAAAgFBAAAAAAABAUUAAAAAAAIBJQAAAAAAAgExAAAAAAACAT0AAAAAAAIBLQAAAAAAAgE1AAAAAAACATkAAAAAAAIBIQAAAAAAAAElAAAAAAACATkAAAAAAAIBMQAAAAAAAgEpAAAAAAACARUAAAAAAAIBPQAAAAAAAAFBAAAAAAACATEAAAAAAAIBFQAAAAAAAAE5AAAAAAAAARUAAAAAAAABEQAAAAAAAAFFAAAAAAABAUEAAAAAAAABOQAAAAAAAwFBAAAAAAAAATUAAAAAAAIBOQAAAAAAAAEFAAAAAAAAATEAAAAAAAIBNQAAAAAAAwFBAAAAAAABAUEAAAAAAAIBMQAAAAAAAgEdAAAAAAACASEAAAAAAAABEQAAAAAAAgExAAAAAAACAT0AAAAAAAIBQQAAAAAAAAEZAAAAAAAAAUEAAAAAAAIBGQAAAAAAAAFFAAAAAAAAAS0AAAAAAAIBQQAAAAAAAgE1AAAAAAACATkAAAAAAAABNQAAAAAAAgElAAAAAAAAAUUAAAAAAAIBEQAAAAAAAgE1AAAAAAAAAUEAAAAAAAIBPQAAAAAAAQFBAAAAAAACASUAAAAAAAIBQQAAAAAAAgEFAAAAAAAAARUAAAAAAAIBIQAAAAAAAgEdAAAAAAACAUEAAAAAAAIBIQAAAAAAAgEZAAAAAAACASUAAAAAAAIBNQAAAAAAAgEVAAAAAAACAS0AAAAAAAIBIQAAAAAAAgEZAAAAAAACAT0AAAAAAAABPQAAAAAAAQFBAAAAAAACAR0AAAAAAAMBQQAAAAAAAgEpAAAAAAAAAR0AAAAAAAABMQAAAAAAAwFBAAAAAAACAT0AAAAAAAIBDQAAAAAAAgENAAAAAAAAASEAAAAAAAAA+QAAAAAAAAERAAAAAAACAQ0AAAAAAAABGQAAAAAAAAE1AAAAAAAAAQ0AAAAAAAIBHQAAAAAAAgEpAAAAAAACAREAAAAAAAABKQAAAAAAAAEtAAAAAAACASEAAAAAAAABFQAAAAAAAgEFAAAAAAAAAR0AAAAAAAIBKQAAAAAAAAE9AAAAAAACASkAAAAAAAIBCQAAAAAAAgEpAAAAAAAAASUAAAAAAAABQQAAAAAAAgFBAAAAAAABAUEAAAAAAAABQQAAAAAAAgEpAAAAAAAAASUAAAAAAAABPQAAAAAAAAEpAAAAAAACAR0AAAAAAAABQQAAAAAAAAEFAAAAAAACATkAAAAAAAIBOQAAAAAAAAE1AAAAAAAAASkAAAAAAAIBQQAAAAAAAgFBAAAAAAACAREAAAAAAAABMQAAAAAAAgEpAAAAAAACASkAAAAAAAIBFQAAAAAAAgElAAAAAAAAATUAAAAAAAABRQAAAAAAAgEtAAAAAAAAAT0AAAAAAAABPQAAAAAAAAEVAAAAAAACAS0AAAAAAAIBNQAAAAAAAgFBAAAAAAACATEAAAAAAAEBQQAAAAAAAAEhAAAAAAAAAS0AAAAAAAABOQAAAAAAAgE9AAAAAAACATkAAAAAAAIBGQAAAAAAAgEhAAAAAAABAUUAAAAAAAABLQAAAAAAAAFBAAAAAAACASEAAAAAAAABGQAAAAAAAAEpAAAAAAACAR0AAAAAAAIBNQAAAAAAAwFBAAAAAAAAAUUAAAAAAAIBOQAAAAAAAgENAAAAAAACAUEAAAAAAAIBKQAAAAAAAgElAAAAAAAAAREAAAAAAAABMQAAAAAAAgEBAAAAAAADAUEAAAAAAAIBLQAAAAAAAgEZAAAAAAAAATkAAAAAAAIBHQAAAAAAAgEZAAAAAAAAATEAAAAAAAIBEQAAAAAAAgFBAAAAAAAAASkAAAAAAAIBLQAAAAAAAgExAAAAAAACASEAAAAAAAABIQAAAAAAAAD9AAAAAAACATUAAAAAAAIBFQAAAAAAAgEZAAAAAAACAR0AAAAAAAABAQAAAAAAAgEhAAAAAAAAAS0AAAAAAAIBJQAAAAAAAgEdAAAAAAACASkAAAAAAAABEQAAAAAAAgE1AAAAAAABAUEAAAAAAAIBHQAAAAAAAgE1AAAAAAACAQ0AAAAAAAABHQAAAAAAAgEZAAAAAAACAREAAAAAAAIBFQAAAAAAAAExAAAAAAAAAT0AAAAAAAEBQQAAAAAAAAEBAAAAAAACAUEAAAAAAAABAQAAAAAAAAEBAAAAAAAAASUAAAAAAAABHQAAAAAAAgEhAAAAAAACAQ0AAAAAAAIBNQAAAAAAAgE5AAAAAAAAARUAAAAAAAABHQAAAAAAAgElAAAAAAACASEAAAAAAAIBGQAAAAAAAAEdAAAAAAABAUUAAAAAAAABJQAAAAAAAgFBAAAAAAACARUAAAAAAAABMQAAAAAAAgEJAAAAAAAAASkAAAAAAAIBKQAAAAAAAgEtAAAAAAACARUAAAAAAAABKQAAAAAAAgEZAAAAAAAAARUAAAAAAAABJQAAAAAAAgFBAAAAAAAAAT0AAAAAAAMBQQAAAAAAAAE5AAAAAAABAUUAAAAAAAABIQAAAAAAAgEpAAAAAAACAT0AAAAAAAIBMQAAAAAAAgEtAAAAAAACAT0AAAAAAAIBJQAAAAAAAAElAAAAAAACATUAAAAAAAIBKQAAAAAAAgFBAAAAAAAAAR0AAAAAAAMBQQAAAAAAAAEVAAAAAAAAAQkAAAAAAAIBIQAAAAAAAAFFAAAAAAACAS0AAAAAAAABRQAAAAAAAAEpAAAAAAACAT0AAAAAAAIBGQAAAAAAAgEpAAAAAAAAAR0AAAAAAAIBNQAAAAAAAgEpAAAAAAAAARUAAAAAAAIBKQAAAAAAAgElAAAAAAAAAREAAAAAAAABGQAAAAAAAAE5AAAAAAACAT0AAAAAAAIBQQAAAAAAAgExAAAAAAACATkAAAAAAAIBNQAAAAAAAgE5AAAAAAAAARkAAAAAAAIBLQAAAAAAAgEpAAAAAAABAUUAAAAAAAIBLQAAAAAAAAENAAAAAAACASUAAAAAAAIBHQAAAAAAAgEJAAAAAAAAAS0AAAAAAAIBOQAAAAAAAAElAAAAAAAAAT0AAAAAAAIBMQAAAAAAAgE1AAAAAAACARkAAAAAAAIBLQAAAAAAAQFFAAAAAAACARkAAAAAAAIBIQAAAAAAAAExAAAAAAABAUUAAAAAAAABOQAAAAAAAgEFAAAAAAABAUUAAAAAAAEBQQAAAAAAAwFBAAAAAAACASUAAAAAAAABEQAAAAAAAgEBAAAAAAAAATEAAAAAAAIBOQAAAAAAAwFBAAAAAAABAUUAAAAAAAABKQAAAAAAAgERAAAAAAACATEAAAAAAAABLQAAAAAAAAE5AAAAAAAAAQkAAAAAAAABKQAAAAAAAgEFAAAAAAACATEAAAAAAAABQQAAAAAAAgEhAAAAAAACASEAAAAAAAABKQAAAAAAAAEdAAAAAAAAAS0AAAAAAAABOQAAAAAAAAEdAAAAAAACAUEAAAAAAAIBLQAAAAAAAgEdAAAAAAAAARkAAAAAAAABOQAAAAAAAgEhAAAAAAAAASUAAAAAAAIBIQAAAAAAAgElAAAAAAAAAR0AAAAAAAABIQAAAAAAAAEhAAAAAAACASkAAAAAAAABLQAAAAAAAAElAAAAAAAAAS0AAAAAAAIBLQAAAAAAAAEdAAAAAAAAATEAAAAAAAABNQAAAAAAAAD5AAAAAAACASEAAAAAAAIBPQAAAAAAAwFBAAAAAAAAATkAAAAAAAABHQAAAAAAAgEJAAAAAAABAUEAAAAAAAIBFQAAAAAAAgE5AAAAAAAAAUEAAAAAAAABKQAAAAAAAgEVAAAAAAADAUEAAAAAAAIBJQAAAAAAAQFFAAAAAAAAASUAAAAAAAEBQQAAAAAAAgEdAAAAAAACASUAAAAAAAABHQAAAAAAAgEpAAAAAAACAT0AAAAAAAABOQAAAAAAAgEdAAAAAAAAAR0AAAAAAAABOQAAAAAAAAE9AAAAAAACAR0AAAAAAAEBQQAAAAAAAgE5AAAAAAABAUUAAAAAAAIBLQAAAAAAAgEpAAAAAAAAAS0AAAAAAAIBIQAAAAAAAAE9AAAAAAACARkAAAAAAAIBHQAAAAAAAgE1AAAAAAAAARUAAAAAAAIBQQAAAAAAAAEFAAAAAAABAUEAAAAAAAIBFQAAAAAAAAExAAAAAAACATkAAAAAAAIBLQAAAAAAAgEZAAAAAAAAASkAAAAAAAABFQAAAAAAAQFBAAAAAAABAUEAAAAAAAABGQAAAAAAAAElAAAAAAADAUEAAAAAAAIBOQAAAAAAAgE5AAAAAAAAAUEAAAAAAAABOQAAAAAAAAExAAAAAAACASEAAAAAAAIBJQAAAAAAAgEpAAAAAAACATUAAAAAAAABDQAAAAAAAwFBAAAAAAACAT0AAAAAAAABNQAAAAAAAAEZAAAAAAACASkAAAAAAAABIQAAAAAAAAE1AAAAAAACAR0AAAAAAAABRQAAAAAAAQFFAAAAAAAAATkAAAAAAAABJQAAAAAAAAElAAAAAAACATUAAAAAAAABEQAAAAAAAAE5AAAAAAAAAR0AAAAAAAABJQAAAAAAAAEdAAAAAAAAAUEAAAAAAAABRQAAAAAAAQFBAAAAAAAAAUEAAAAAAAIBLQAAAAAAAAERAAAAAAACAQUAAAAAAAABJQAAAAAAAAEpAAAAAAACAQ0AAAAAAAIBLQAAAAAAAgEtAAAAAAAAATkAAAAAAAABJQAAAAAAAAE9AAAAAAAAAUEAAAAAAAIBHQAAAAAAAgERAAAAAAAAATkAAAAAAAEBRQAAAAAAAAE9AAAAAAACAT0AAAAAAAABJQAAAAAAAAEdAAAAAAAAAUEAAAAAAAIBHQAAAAAAAAElAAAAAAAAASkAAAAAAAIBHQAAAAAAAgExAAAAAAAAASEAAAAAAAIBHQAAAAAAAgEZAAAAAAACAQkAAAAAAAABNQAAAAAAAgEVAAAAAAAAATEAAAAAAAABQQAAAAAAAAERAAAAAAAAARUAAAAAAAIBNQAAAAAAAAE9AAAAAAABAUUAAAAAAAABNQAAAAAAAAFBAAAAAAACAR0AAAAAAAIBNQAAAAAAAAEhAAAAAAAAAR0AAAAAAAABIQAAAAAAAgEpAAAAAAACAT0AAAAAAAIBHQAAAAAAAAE9AAAAAAAAARUAAAAAAAIBHQAAAAAAAgEVAAAAAAAAATUAAAAAAAIBNQAAAAAAAgEFAAAAAAAAAUEAAAAAAAIBFQAAAAAAAAExAAAAAAADAUEAAAAAAAIBMQAAAAAAAwFBAAAAAAAAAQkAAAAAAAABEQAAAAAAAgElAAAAAAACAT0AAAAAAAIBOQAAAAAAAAENAAAAAAAAAUUAAAAAAAEBQQAAAAAAAgEtAAAAAAACAUEAAAAAAAIBMQAAAAAAAgExAAAAAAACASUAAAAAAAABRQAAAAAAAgEdAAAAAAAAASUAAAAAAAEBRQAAAAAAAgFBAAAAAAADAUEAAAAAAAMBQQAAAAAAAgFBAAAAAAAAASEAAAAAAAABGQAAAAAAAAElAAAAAAAAATEAAAAAAAIBIQAAAAAAAAEdAAAAAAAAASUAAAAAAAABEQAAAAAAAQFFAAAAAAAAAUEAAAAAAAABCQAAAAAAAAElAAAAAAADAUEAAAAAAAIBJQAAAAAAAAE9AAAAAAACAS0AAAAAAAIBPQAAAAAAAAEVAAAAAAACATUAAAAAAAIBQQAAAAAAAgElAAAAAAABAUUAAAAAAAIBPQAAAAAAAAEhAAAAAAABAUUAAAAAAAIBOQAAAAAAAAE5AAAAAAAAATUAAAAAAAABKQAAAAAAAAEhAAAAAAAAATUAAAAAAAIBGQAAAAAAAgFBAAAAAAAAAS0AAAAAAAIBPQAAAAAAAgE9AAAAAAACASEAAAAAAAIBGQAAAAAAAwFBAAAAAAAAAR0AAAAAAAABQQAAAAAAAAFFAAAAAAACAR0AAAAAAAABKQAAAAAAAQFFAAAAAAACATUAAAAAAAEBQQAAAAAAAAExAAAAAAAAASEAAAAAAAIBFQAAAAAAAwFBAAAAAAABAUEAAAAAAAABIQAAAAAAAgEZAAAAAAAAAUEAAAAAAAEBQQAAAAAAAgEpAAAAAAACAT0AAAAAAAABOQAAAAAAAgElAAAAAAAAAS0AAAAAAAIBIQAAAAAAAgEhAAAAAAACAREAAAAAAAABRQAAAAAAAAEZAAAAAAADAUEAAAAAAAIBGQAAAAAAAAEdAAAAAAAAASEAAAAAAAIBOQAAAAAAAgE5AAAAAAAAAS0AAAAAAAABIQAAAAAAAAE9AAAAAAACASUAAAAAAAIBIQAAAAAAAAEdAAAAAAAAATEAAAAAAAIBBQAAAAAAAgFBAAAAAAACARUAAAAAAAABJQAAAAAAAAEtAAAAAAAAASEAAAAAAAIBIQAAAAAAAAEdAAAAAAAAAQ0AAAAAAAIBPQAAAAAAAQFBAAAAAAAAAR0AAAAAAAIBNQAAAAAAAgE5AAAAAAACAR0AAAAAAAABNQAAAAAAAgEtAAAAAAAAASEAAAAAAAIBNQAAAAAAAgEdAAAAAAAAATUAAAAAAAIBJQAAAAAAAwFBAAAAAAAAATEAAAAAAAABOQAAAAAAAQFFAAAAAAACATEAAAAAAAIBIQAAAAAAAAEZAAAAAAAAAR0AAAAAAAABRQAAAAAAAgEpAAAAAAACASEAAAAAAAIBMQAAAAAAAwFBAAAAAAACAR0AAAAAAAABJQAAAAAAAAE5AAAAAAAAASEAAAAAAAABFQAAAAAAAAExAAAAAAACAS0AAAAAAAABHQAAAAAAAAEpAAAAAAAAAUEAAAAAAAABLQAAAAAAAAERAAAAAAAAATUAAAAAAAABPQAAAAAAAwFBAAAAAAAAAUUAAAAAAAABNQAAAAAAAAEtAAAAAAABAUUAAAAAAAABMQAAAAAAAAEVAAAAAAAAAQ0AAAAAAAIBMQAAAAAAAgE1AAAAAAAAAR0AAAAAAAIBKQAAAAAAAgEhAAAAAAAAAUUAAAAAAAIBGQAAAAAAAgE9AAAAAAACAREAAAAAAAIBOQAAAAAAAAExAAAAAAACARkAAAAAAAIBCQAAAAAAAAE9AAAAAAAAAS0AAAAAAAIBKQAAAAAAAAE5AAAAAAAAARUAAAAAAAIBHQAAAAAAAgEhAAAAAAACASUAAAAAAAIBLQAAAAAAAAFBAAAAAAAAATUAAAAAAAEBRQAAAAAAAAFBAAAAAAACARkAAAAAAAABMQAAAAAAAAEtAAAAAAACAS0AAAAAAAABGQAAAAAAAgElAAAAAAACAS0AAAAAAAIBMQAAAAAAAAElAAAAAAACAUEAAAAAAAABPQAAAAAAAgEhAAAAAAACAS0AAAAAAAIBPQAAAAAAAgEdAAAAAAABAUEAAAAAAAIBPQAAAAAAAAEBAAAAAAAAASEAAAAAAAABOQAAAAAAAgEZAAAAAAAAARUAAAAAAAMBQQAAAAAAAgFBAAAAAAAAARkAAAAAAAIBNQAAAAAAAAFFAAAAAAAAARkAAAAAAAIBIQAAAAAAAgE9AAAAAAACAT0AAAAAAAIBIQAAAAAAAAEdAAAAAAAAAT0AAAAAAAABJQAAAAAAAAEhAAAAAAAAATkAAAAAAAIBLQAAAAAAAgE1AAAAAAACATEAAAAAAAIBLQAAAAAAAAEJAAAAAAAAAR0AAAAAAAIBNQAAAAAAAAElAAAAAAAAATkAAAAAAAIBPQAAAAAAAAElAAAAAAACAR0AAAAAAAABJQAAAAAAAAEdAAAAAAACATkAAAAAAAIBOQAAAAAAAQFFAAAAAAABAUUAAAAAAAABIQAAAAAAAAEVAAAAAAACARkAAAAAAAIBFQAAAAAAAgE1AAAAAAAAAT0AAAAAAAABPQAAAAAAAAENAAAAAAABAUUAAAAAAAIBNQAAAAAAAgFBAAAAAAACAT0AAAAAAAABMQAAAAAAAgEJAAAAAAAAASkAAAAAAAABLQAAAAAAAAE1AAAAAAAAARUAAAAAAAIBNQAAAAAAAAExAAAAAAAAARUAAAAAAAIBHQAAAAAAAgEZAAAAAAACAREAAAAAAAABMQAAAAAAAgEZAAAAAAACARUAAAAAAAEBQQAAAAAAAAEhAAAAAAACASEAAAAAAAIBJQAAAAAAAAEpAAAAAAAAAS0AAAAAAAIBEQAAAAAAAQFFAAAAAAAAAUEAAAAAAAABQQAAAAAAAAElAAAAAAAAAR0AAAAAAAABOQAAAAAAAAE5AAAAAAAAASEAAAAAAAIBJQAAAAAAAgEtAAAAAAAAATEAAAAAAAABCQAAAAAAAQFBAAAAAAAAAT0AAAAAAAIBQQAAAAAAAAExAAAAAAAAAS0AAAAAAAABMQAAAAAAAAEtAAAAAAACATUAAAAAAAIBJQAAAAAAAQFBAAAAAAAAATkAAAAAAAABOQAAAAAAAAEhAAAAAAACASkAAAAAAAABIQAAAAAAAAFFAAAAAAACASEAAAAAAAABLQAAAAAAAgEhAAAAAAACAS0AAAAAAAABHQAAAAAAAgERAAAAAAACASkAAAAAAAABKQAAAAAAAgE9AAAAAAACASkAAAAAAAABMQAAAAAAAAE1AAAAAAAAASkAAAAAAAABMQAAAAAAAgEpAAAAAAAAAT0AAAAAAAIBJQAAAAAAAgE9AAAAAAACAR0AAAAAAAABJQAAAAAAAAE5AAAAAAACATkAAAAAAAMBQQAAAAAAAgE1AAAAAAACAUEAAAAAAAABGQAAAAAAAAExAAAAAAAAAQ0AAAAAAAIBIQAAAAAAAgExAAAAAAACATUAAAAAAAIBIQAAAAAAAAEhAAAAAAACASUAAAAAAAABLQAAAAAAAgE1AAAAAAAAATEAAAAAAAIBIQAAAAAAAgEtAAAAAAAAATkAAAAAAAIBPQAAAAAAAgENAAAAAAAAATkAAAAAAAABPQAAAAAAAQFBAAAAAAAAAUUAAAAAAAIBFQAAAAAAAAEJAAAAAAAAAQkAAAAAAAIBJQAAAAAAAgE5AAAAAAACAR0AAAAAAAIBEQAAAAAAAAEhAAAAAAACARkAAAAAAAMBQQAAAAAAAAElAAAAAAACAR0AAAAAAAIBNQAAAAAAAwFBAAAAAAAAAT0AAAAAAAABKQAAAAAAAQFBAAAAAAACASUAAAAAAAABLQAAAAAAAAEZAAAAAAACATEAAAAAAAIBMQAAAAAAAgEZAAAAAAAAAQkAAAAAAAEBQQAAAAAAAQFBAAAAAAACARkAAAAAAAIBKQAAAAAAAAElAAAAAAACARUAAAAAAAIBDQAAAAAAAgEZAAAAAAAAAR0AAAAAAAEBQQAAAAAAAAFFAAAAAAABAUUAAAAAAAABIQAAAAAAAAEhAAAAAAACASUAAAAAAAABIQAAAAAAAgEFAAAAAAACASEAAAAAAAABOQAAAAAAAAFBAAAAAAACAS0AAAAAAAABKQAAAAAAAAFFAAAAAAACARkAAAAAAAABHQAAAAAAAgEhAAAAAAAAAT0AAAAAAAABPQAAAAAAAAEtAAAAAAAAASUAAAAAAAIBKQAAAAAAAgExAAAAAAAAASEAAAAAAAIBKQAAAAAAAAEtAAAAAAACASEAAAAAAAIBQQAAAAAAAQFBAAAAAAACAS0AAAAAAAIBHQAAAAAAAAE1AAAAAAACAQkAAAAAAAIBOQAAAAAAAAE1AAAAAAAAAUUAAAAAAAIBPQAAAAAAAgEdAAAAAAACAS0AAAAAAAIBEQAAAAAAAAEZAAAAAAACATkAAAAAAAIBIQAAAAAAAQFBAAAAAAABAUUAAAAAAAABKQAAAAAAAAFBAAAAAAAAARkAAAAAAAABQQAAAAAAAgEtAAAAAAACASUAAAAAAAIBDQAAAAAAAgEJAAAAAAACATkAAAAAAAABLQAAAAAAAgE1AAAAAAACATkAAAAAAAABJQAAAAAAAgEpAAAAAAAAARkAAAAAAAABKQAAAAAAAgEpAAAAAAAAASEAAAAAAAIBMQAAAAAAAAEZAAAAAAACASEAAAAAAAIBKQAAAAAAAAE9AAAAAAAAAQ0AAAAAAAIBFQAAAAAAAgEVAAAAAAAAASUAAAAAAAIBOQAAAAAAAAE9AAAAAAACASkAAAAAAAABNQAAAAAAAQFFAAAAAAAAASkAAAAAAAABPQAAAAAAAAFBAAAAAAAAAUUAAAAAAAABIQAAAAAAAgElAAAAAAADAUEAAAAAAAABNQAAAAAAAAE9AAAAAAACATEAAAAAAAIBHQAAAAAAAAE1AAAAAAAAAR0AAAAAAAEBQQAAAAAAAAElAAAAAAACAQ0AAAAAAAIBGQAAAAAAAgEdAAAAAAAAAT0AAAAAAAIBMQAAAAAAAAEdAAAAAAAAARUAAAAAAAABMQAAAAAAAgFBAAAAAAAAAQkAAAAAAAIBNQAAAAAAAAENAAAAAAAAAREAAAAAAAABRQAAAAAAAgEdAAAAAAACATEAAAAAAAABFQAAAAAAAgEVAAAAAAAAASkAAAAAAAEBQQAAAAAAAgExAAAAAAACAR0AAAAAAAIBEQAAAAAAAgEpAAAAAAACAR0AAAAAAAABKQAAAAAAAgE9AAAAAAACAS0AAAAAAAABEQAAAAAAAAEZAAAAAAACASUAAAAAAAIBEQAAAAAAAgE5AAAAAAACASkAAAAAAAIBOQAAAAAAAAEdAAAAAAAAAR0AAAAAAAABFQAAAAAAAAEZAAAAAAAAARkAAAAAAAIBPQAAAAAAAgEVAAAAAAAAAT0AAAAAAAIBIQAAAAAAAAExAAAAAAAAATUAAAAAAAABPQAAAAAAAgE5AAAAAAAAAS0AAAAAAAIBJQAAAAAAAAEpAAAAAAACATUAAAAAAAABKQAAAAAAAAEhAAAAAAADAUEAAAAAAAIBHQAAAAAAAAE9AAAAAAACASEAAAAAAAABLQAAAAAAAAEdAAAAAAAAAS0AAAAAAAABIQAAAAAAAgExAAAAAAACASEAAAAAAAABIQAAAAAAAgElAAAAAAAAARUAAAAAAAIBLQAAAAAAAgE9AAAAAAAAAS0AAAAAAAABPQAAAAAAAAFFAAAAAAACAR0AAAAAAAABKQAAAAAAAgEJAAAAAAACAS0AAAAAAAEBQQAAAAAAAAE9AAAAAAABAUEAAAAAAAABRQAAAAAAAAE1AAAAAAAAAUUAAAAAAAABAQAAAAAAAgEVAAAAAAAAAT0AAAAAAAABEQAAAAAAAgE5AAAAAAAAASEAAAAAAAABQQAAAAAAAAE5AAAAAAACATEAAAAAAAABLQAAAAAAAAEhAAAAAAABAUEAAAAAAAIBBQAAAAAAAAEtAAAAAAABAUUAAAAAAAABGQAAAAAAAgEtAAAAAAACASEAAAAAAAIBHQAAAAAAAAEpAAAAAAAAAUEAAAAAAAEBRQAAAAAAAAEhAAAAAAABAUEAAAAAAAABRQAAAAAAAgEhAAAAAAAAAS0AAAAAAAIBPQAAAAAAAgExAAAAAAACARkAAAAAAAEBQQAAAAAAAAEhAAAAAAAAAUUAAAAAAAIBMQAAAAAAAgEFAAAAAAADAUEAAAAAAAIBKQAAAAAAAgFBAAAAAAAAAREAAAAAAAIBNQAAAAAAAQFFAAAAAAADAUEAAAAAAAABQQAAAAAAAAEhAAAAAAACASEAAAAAAAIBKQAAAAAAAAElAAAAAAACASkAAAAAAAIBPQAAAAAAAAEZAAAAAAAAAS0AAAAAAAIBHQAAAAAAAgE9AAAAAAACATUAAAAAAAABPQAAAAAAAgExAAAAAAACASUAAAAAAAABIQAAAAAAAAEtAAAAAAAAAR0AAAAAAAEBRQAAAAAAAgENAAAAAAAAATEAAAAAAAIBMQAAAAAAAgEhAAAAAAAAAT0AAAAAAAIBKQAAAAAAAgEZAAAAAAACASkAAAAAAAABIQAAAAAAAgEpAAAAAAADAUEAAAAAAAABPQAAAAAAAAFFAAAAAAAAAQ0AAAAAAAIBHQAAAAAAAgE9AAAAAAACATkAAAAAAAABRQAAAAAAAAE1AAAAAAACAREAAAAAAAIBHQAAAAAAAAExAAAAAAAAATEAAAAAAAABHQAAAAAAAgEpAAAAAAACARkAAAAAAAIBQQAAAAAAAgEpAAAAAAACASUAAAAAAAMBQQAAAAAAAgE1AAAAAAAAAUEAAAAAAAABLQAAAAAAAgERAAAAAAACASEAAAAAAAIBJQAAAAAAAAEVAAAAAAAAAR0AAAAAAAABJQAAAAAAAAE9AAAAAAAAAR0AAAAAAAABMQAAAAAAAgEdAAAAAAAAARUAAAAAAAABMQAAAAAAAgEVAAAAAAAAAR0AAAAAAAABHQAAAAAAAAEZAAAAAAACAR0AAAAAAAABOQAAAAAAAAE5AAAAAAADAUEAAAAAAAIBQQAAAAAAAgElAAAAAAAAATEAAAAAAAMBQQAAAAAAAgElAAAAAAAAASkAAAAAAAABMQAAAAAAAgE5AAAAAAACAT0AAAAAAAIBQQAAAAAAAgExAAAAAAAAARkAAAAAAAIBOQAAAAAAAgERAAAAAAACASkAAAAAAAIBJQAAAAAAAgEtAAAAAAAAATkAAAAAAAIBLQAAAAAAAAE1AAAAAAACAREAAAAAAAIBNQAAAAAAAAE5AAAAAAAAASEAAAAAAAMBQQAAAAAAAAE9AAAAAAABAUEAAAAAAAABLQAAAAAAAgEhAAAAAAAAAS0AAAAAAAIBNQAAAAAAAAEhAAAAAAAAARUAAAAAAAABQQAAAAAAAgEpAAAAAAACASUAAAAAAAABBQAAAAAAAAExAAAAAAACASkAAAAAAAIBNQAAAAAAAgEtAAAAAAABAUUAAAAAAAIBIQAAAAAAAgExAAAAAAAAAUEAAAAAAAIBNQAAAAAAAAE1AAAAAAAAASEAAAAAAAABEQAAAAAAAgEtAAAAAAACAT0AAAAAAAIBOQAAAAAAAAEdAAAAAAAAASUAAAAAAAEBQQAAAAAAAAExAAAAAAACATkAAAAAAAIBIQAAAAAAAwFBAAAAAAAAASUAAAAAAAEBRQAAAAAAAAEVAAAAAAACAR0AAAAAAAEBQQAAAAAAAAEpAAAAAAAAASEAAAAAAAABQQAAAAAAAAElAAAAAAABAUUAAAAAAAABHQAAAAAAAgE5AAAAAAABAUEAAAAAAAIBEQAAAAAAAAElAAAAAAAAAUUAAAAAAAIBIQAAAAAAAgEVAAAAAAAAASUAAAAAAAABOQAAAAAAAgEVAAAAAAACARUAAAAAAAIBKQAAAAAAAgEtAAAAAAACARUAAAAAAAEBRQAAAAAAAAE5AAAAAAACAT0AAAAAAAABJQAAAAAAAgE1AAAAAAAAATEAAAAAAAIBQQAAAAAAAgE5AAAAAAAAAS0AAAAAAAIBJQAAAAAAAgE9AAAAAAAAASEAAAAAAAIBIQAAAAAAAgE5AAAAAAAAATkAAAAAAAIBIQAAAAAAAAEpAAAAAAACATEAAAAAAAABNQAAAAAAAgExAAAAAAACATkAAAAAAAABMQAAAAAAAAFFAAAAAAAAAT0AAAAAAAIBPQAAAAAAAgE5AAAAAAABAUEAAAAAAAIBPQAAAAAAAAFFAAAAAAACASkAAAAAAAMBQQAAAAAAAAERAAAAAAACASEAAAAAAAIBKQAAAAAAAgFBAAAAAAACARUAAAAAAAABEQAAAAAAAAEdAAAAAAAAAT0AAAAAAAABJQAAAAAAAgFBAAAAAAADAUEAAAAAAAIBLQAAAAAAAAFFAAAAAAACATUAAAAAAAABGQAAAAAAAgE9AAAAAAABAUEAAAAAAAIBLQAAAAAAAgE1AAAAAAACAUEAAAAAAAABOQAAAAAAAgE9AAAAAAAAASkAAAAAAAEBRQAAAAAAAgElAAAAAAAAASEAAAAAAAIBHQAAAAAAAgEVAAAAAAAAAS0AAAAAAAABHQAAAAAAAAFFAAAAAAAAAT0AAAAAAAIBOQAAAAAAAAE1AAAAAAACASEAAAAAAAIBFQAAAAAAAAEdAAAAAAACAR0AAAAAAAABNQAAAAAAAAE5AAAAAAAAATUAAAAAAAIBGQAAAAAAAAEdAAAAAAADAUEAAAAAAAMBQQAAAAAAAAElAAAAAAAAASEAAAAAAAIBMQAAAAAAAAExAAAAAAAAAT0AAAAAAAIBGQAAAAAAAgENAAAAAAAAATEAAAAAAAIBJQAAAAAAAgFBAAAAAAACATEAAAAAAAABOQAAAAAAAAEhAAAAAAAAARUAAAAAAAABEQAAAAAAAwFBAAAAAAACAUEAAAAAAAABFQAAAAAAAgEhAAAAAAACASkAAAAAAAABIQAAAAAAAAEhAAAAAAACAQkAAAAAAAIBLQAAAAAAAgEhAAAAAAACAT0AAAAAAAIBLQAAAAAAAAFBAAAAAAACASUAAAAAAAIBHQAAAAAAAAFBAAAAAAAAARUAAAAAAAABJQAAAAAAAgERAAAAAAACARUAAAAAAAABMQAAAAAAAAFFAAAAAAAAASUAAAAAAAIBIQAAAAAAAgExAAAAAAAAATEAAAAAAAABOQAAAAAAAgE9AAAAAAACAR0AAAAAAAABJQAAAAAAAAEtAAAAAAACASkAAAAAAAIBIQAAAAAAAAExAAAAAAAAAUUAAAAAAAIBFQAAAAAAAAEdAAAAAAACAUEAAAAAAAABRQAAAAAAAAD5AAAAAAAAAT0AAAAAAAABIQAAAAAAAQFBAAAAAAACASUAAAAAAAEBQQAAAAAAAwFBAAAAAAAAARUAAAAAAAABAQAAAAAAAgEpAAAAAAACASEAAAAAAAABJQAAAAAAAgEtAAAAAAADAUEAAAAAAAABPQAAAAAAAgE1AAAAAAAAARkAAAAAAAMBQQAAAAAAAgEVAAAAAAABAUUAAAAAAAIBLQAAAAAAAAEdAAAAAAACAR0AAAAAAAABOQAAAAAAAgEdAAAAAAAAATUAAAAAAAIBQQAAAAAAAgE5AAAAAAACAS0AAAAAAAIBEQAAAAAAAAElAAAAAAACAT0AAAAAAAIBHQAAAAAAAgExAAAAAAAAARUAAAAAAAIBMQAAAAAAAAExAAAAAAACAR0AAAAAAAIBPQAAAAAAAgEpAAAAAAAAARUAAAAAAAABJQAAAAAAAAEZAAAAAAAAATUAAAAAAAEBQQAAAAAAAgExAAAAAAACATEAAAAAAAIBKQAAAAAAAAEZAAAAAAACATUAAAAAAAABPQAAAAAAAAE9AAAAAAABAUEAAAAAAAABNQAAAAAAAgEdAAAAAAAAARUAAAAAAAIBIQAAAAAAAgExAAAAAAAAARkAAAAAAAIBQQAAAAAAAgEpAAAAAAACARkAAAAAAAIBIQAAAAAAAgEdAAAAAAACASEAAAAAAAIBMQAAAAAAAAEhAAAAAAAAASEAAAAAAAABIQAAAAAAAgElAAAAAAABAUUAAAAAAAABKQAAAAAAAgExAAAAAAAAAR0AAAAAAAIBPQAAAAAAAAFFAAAAAAAAAT0AAAAAAAABNQAAAAAAAAEhAAAAAAACASEAAAAAAAIBEQAAAAAAAAE9AAAAAAAAAR0AAAAAAAIBQQAAAAAAAgEdAAAAAAACASUAAAAAAAIBKQAAAAAAAQFBAAAAAAACASkAAAAAAAIBMQAAAAAAAgEpAAAAAAACASEAAAAAAAMBQQAAAAAAAgEtAAAAAAACAS0AAAAAAAIBNQAAAAAAAAEVAAAAAAAAASUAAAAAAAABKQAAAAAAAgE1AAAAAAACAS0AAAAAAAABHQAAAAAAAgEdAAAAAAAAAT0AAAAAAAABMQAAAAAAAgE9AAAAAAAAASEAAAAAAAIBNQAAAAAAAwFBAAAAAAACAS0AAAAAAAIBNQAAAAAAAgE5AAAAAAAAASEAAAAAAAIBQQAAAAAAAgEhAAAAAAAAATUAAAAAAAIBLQAAAAAAAgExAAAAAAAAATkAAAAAAAIBBQAAAAAAAgEtAAAAAAACAT0AAAAAAAABRQAAAAAAAAEhAAAAAAACATkAAAAAAAABRQAAAAAAAgEVAAAAAAAAAT0AAAAAAAIBMQAAAAAAAQFBAAAAAAACAUEAAAAAAAIBIQAAAAAAAAEtAAAAAAACAR0AAAAAAAABHQAAAAAAAAEpAAAAAAAAATkAAAAAAAIBNQAAAAAAAAFBAAAAAAAAAR0AAAAAAAIBNQAAAAAAAAExAAAAAAAAAUUAAAAAAAEBQQAAAAAAAgEpAAAAAAACAUEAAAAAAAIBEQAAAAAAAgE9AAAAAAABAUEAAAAAAAABJQAAAAAAAAEpAAAAAAABAUEAAAAAAAABQQAAAAAAAQFBAAAAAAACARUAAAAAAAIBQQAAAAAAAAEhAAAAAAACATEAAAAAAAIBNQAAAAAAAAEZAAAAAAABAUEAAAAAAAIBLQAAAAAAAgE9AAAAAAACAREAAAAAAAABRQAAAAAAAAEtAAAAAAACARUAAAAAAAABPQAAAAAAAgEhAAAAAAAAAS0AAAAAAAIBQQAAAAAAAgEdAAAAAAAAASkAAAAAAAABMQAAAAAAAAElAAAAAAACATEAAAAAAAIBGQAAAAAAAQFFAAAAAAACAS0AAAAAAAIBKQAAAAAAAgE5AAAAAAACARkAAAAAAAIBOQAAAAAAAQFFAAAAAAACARUAAAAAAAIBOQAAAAAAAgElAAAAAAACATEAAAAAAAABNQAAAAAAAgEVAAAAAAACAT0AAAAAAAIBBQAAAAAAAgElAAAAAAAAASUAAAAAAAABJQAAAAAAAgElAAAAAAAAAUUAAAAAAAIBJQAAAAAAAAEtAAAAAAACASUAAAAAAAIBFQAAAAAAAgE5AAAAAAAAAUUAAAAAAAABJQAAAAAAAAE5AAAAAAAAATkAAAAAAAEBQQAAAAAAAAFBAAAAAAACARkAAAAAAAIBHQAAAAAAAQFBAAAAAAAAATkAAAAAAAIBNQAAAAAAAgERAAAAAAAAASUAAAAAAAABQQAAAAAAAAEdAAAAAAABAUUAAAAAAAEBRQAAAAAAAAEtAAAAAAACAR0AAAAAAAABHQAAAAAAAgEdAAAAAAACATkAAAAAAAIBIQAAAAAAAgEhAAAAAAACAR0AAAAAAAABRQAAAAAAAAE1AAAAAAACATUAAAAAAAIBJQAAAAAAAgElAAAAAAACAQkAAAAAAAMBQQAAAAAAAAEZAAAAAAAAAUUAAAAAAAIBQQAAAAAAAQFBAAAAAAAAASkAAAAAAAIBKQAAAAAAAgEhAAAAAAAAAR0AAAAAAAIBEQAAAAAAAAEtAAAAAAAAATUAAAAAAAABGQAAAAAAAgE1AAAAAAACAT0AAAAAAAIBMQAAAAAAAgEhAAAAAAAAATEAAAAAAAIBLQAAAAAAAAE1AAAAAAACASUAAAAAAAMBQQAAAAAAAgExAAAAAAAAAS0AAAAAAAIBOQAAAAAAAgENAAAAAAACATEAAAAAAAABMQAAAAAAAAEVAAAAAAACASUAAAAAAAABHQAAAAAAAAEVAAAAAAAAAQ0AAAAAAAIBGQAAAAAAAAExAAAAAAAAAR0AAAAAAAABIQAAAAAAAgFBAAAAAAACASEAAAAAAAABHQAAAAAAAgENAAAAAAACATkAAAAAAAABHQAAAAAAAAEpAAAAAAAAATkAAAAAAAABFQAAAAAAAgEdAAAAAAAAARUAAAAAAAIBFQAAAAAAAgE9AAAAAAAAASkAAAAAAAABEQAAAAAAAAENAAAAAAACAQEAAAAAAAIBNQAAAAAAAAEZAAAAAAAAATUAAAAAAAIBMQAAAAAAAAElAAAAAAAAAQkAAAAAAAIBCQAAAAAAAgE9AAAAAAACARkAAAAAAAABFQAAAAAAAAERAAAAAAACARkAAAAAAAABLQAAAAAAAgEtAAAAAAACAR0AAAAAAAIBPQAAAAAAAAEFAAAAAAACAR0AAAAAAAIBQQAAAAAAAgEpAAAAAAACARUAAAAAAAIBFQAAAAAAAAEtAAAAAAACATUAAAAAAAIBHQAAAAAAAgERAAAAAAABAUUAAAAAAAABIQAAAAAAAAERAAAAAAAAAR0AAAAAAAIBNQAAAAAAAAEdAAAAAAACATEAAAAAAAIBJQAAAAAAAgEtAAAAAAACASkAAAAAAAABQQAAAAAAAAFFAAAAAAACASUAAAAAAAABRQAAAAAAAgEdAAAAAAAAAREAAAAAAAEBQQAAAAAAAAEpAAAAAAACAUEAAAAAAAEBRQAAAAAAAAExAAAAAAAAATkAAAAAAAABOQAAAAAAAQFBAAAAAAACAS0AAAAAAAABLQAAAAAAAAE5AAAAAAAAAR0AAAAAAAIBIQAAAAAAAAEdAAAAAAACATEAAAAAAAABJQAAAAAAAAElAAAAAAAAASUAAAAAAAABIQAAAAAAAwFBAAAAAAAAATEAAAAAAAIBHQAAAAAAAgEtAAAAAAACAREAAAAAAAIBEQAAAAAAAgEhAAAAAAAAAS0AAAAAAAABKQAAAAAAAAEtAAAAAAACATEAAAAAAAABFQAAAAAAAgEJAAAAAAACARkAAAAAAAABMQAAAAAAAAEtAAAAAAACAS0AAAAAAAIBMQAAAAAAAAEhAAAAAAAAATUAAAAAAAIBMQAAAAAAAAE9AAAAAAAAATkAAAAAAAEBQQAAAAAAAgFBAAAAAAAAATkAAAAAAAABNQAAAAAAAgFBAAAAAAABAUUAAAAAAAIBIQAAAAAAAwFBAAAAAAACAQ0AAAAAAAABMQAAAAAAAAE9AAAAAAACAR0AAAAAAAIBCQAAAAAAAAExAAAAAAACASkAAAAAAAIBKQAAAAAAAAEtAAAAAAACAREAAAAAAAABAQAAAAAAAAEZAAAAAAAAAR0AAAAAAAIBHQAAAAAAAAE1AAAAAAACAT0AAAAAAAIBJQAAAAAAAAEZAAAAAAACASUAAAAAAAIBPQAAAAAAAgEZAAAAAAAAASUAAAAAAAMBQQAAAAAAAAExAAAAAAABAUEAAAAAAAABPQAAAAAAAAElAAAAAAAAAUUAAAAAAAIBHQAAAAAAAAEpAAAAAAABAUUAAAAAAAIBOQAAAAAAAAEtAAAAAAACAQkAAAAAAAABNQAAAAAAAAE1AAAAAAACAUEAAAAAAAEBRQAAAAAAAgEdAAAAAAACATkAAAAAAAABFQAAAAAAAAEFAAAAAAACATUAAAAAAAIBLQAAAAAAAgE1AAAAAAACASUAAAAAAAIBIQAAAAAAAAFFAAAAAAAAAT0AAAAAAAABMQAAAAAAAAEZAAAAAAACARkAAAAAAAABMQAAAAAAAAElAAAAAAACARkAAAAAAAIBMQAAAAAAAAElAAAAAAACARUAAAAAAAABOQAAAAAAAAERAAAAAAAAAT0AAAAAAAIBNQAAAAAAAAEJAAAAAAAAAS0AAAAAAAIBDQAAAAAAAQFBAAAAAAAAAS0AAAAAAAIBNQAAAAAAAAE9AAAAAAACASkAAAAAAAIBNQAAAAAAAgEtAAAAAAACASEAAAAAAAABLQAAAAAAAAE1AAAAAAAAAT0AAAAAAAMBQQAAAAAAAAE5AAAAAAAAAT0AAAAAAAABJQAAAAAAAgElAAAAAAAAAUEAAAAAAAABPQAAAAAAAgEhAAAAAAACASUAAAAAAAABRQAAAAAAAAERAAAAAAAAAUUAAAAAAAABMQAAAAAAAAEdAAAAAAAAAUUAAAAAAAABGQAAAAAAAAEdAAAAAAACAQ0AAAAAAAABLQAAAAAAAgEdAAAAAAAAAUEAAAAAAAABIQAAAAAAAgExAAAAAAACASkAAAAAAAIBEQAAAAAAAAEtAAAAAAACATEAAAAAAAABQQAAAAAAAgE1AAAAAAACAT0AAAAAAAIBEQAAAAAAAgE5AAAAAAAAAUEAAAAAAAABLQAAAAAAAAEhAAAAAAAAASEAAAAAAAABJQAAAAAAAAEtAAAAAAAAATEAAAAAAAABPQAAAAAAAAERAAAAAAAAAS0AAAAAAAABRQAAAAAAAgFBAAAAAAACAT0AAAAAAAABPQAAAAAAAgExAAAAAAAAAUUAAAAAAAIBQQAAAAAAAwFBAAAAAAABAUEAAAAAAAIBOQAAAAAAAgEtAAAAAAAAAS0AAAAAAAIBOQAAAAAAAgENAAAAAAACATEAAAAAAAIBJQAAAAAAAgEFAAAAAAAAAUUAAAAAAAIBKQAAAAAAAAD9AAAAAAACAS0AAAAAAAIBMQAAAAAAAAFFAAAAAAACAREAAAAAAAABGQAAAAAAAAE5AAAAAAACATUAAAAAAAABPQAAAAAAAAFFAAAAAAABAUEAAAAAAAABLQAAAAAAAAEdAAAAAAAAAUEAAAAAAAABPQAAAAAAAAFFAAAAAAAAATUAAAAAAAABHQA==",
          "dtype": "f8"
         },
         "x0": " ",
         "xaxis": "x",
         "y0": " ",
         "yaxis": "y"
        }
       ],
       "layout": {
        "boxmode": "group",
        "legend": {
         "tracegroupgap": 0
        },
        "template": {
         "data": {
          "bar": [
           {
            "error_x": {
             "color": "#2a3f5f"
            },
            "error_y": {
             "color": "#2a3f5f"
            },
            "marker": {
             "line": {
              "color": "#E5ECF6",
              "width": 0.5
             },
             "pattern": {
              "fillmode": "overlay",
              "size": 10,
              "solidity": 0.2
             }
            },
            "type": "bar"
           }
          ],
          "barpolar": [
           {
            "marker": {
             "line": {
              "color": "#E5ECF6",
              "width": 0.5
             },
             "pattern": {
              "fillmode": "overlay",
              "size": 10,
              "solidity": 0.2
             }
            },
            "type": "barpolar"
           }
          ],
          "carpet": [
           {
            "aaxis": {
             "endlinecolor": "#2a3f5f",
             "gridcolor": "white",
             "linecolor": "white",
             "minorgridcolor": "white",
             "startlinecolor": "#2a3f5f"
            },
            "baxis": {
             "endlinecolor": "#2a3f5f",
             "gridcolor": "white",
             "linecolor": "white",
             "minorgridcolor": "white",
             "startlinecolor": "#2a3f5f"
            },
            "type": "carpet"
           }
          ],
          "choropleth": [
           {
            "colorbar": {
             "outlinewidth": 0,
             "ticks": ""
            },
            "type": "choropleth"
           }
          ],
          "contour": [
           {
            "colorbar": {
             "outlinewidth": 0,
             "ticks": ""
            },
            "colorscale": [
             [
              0,
              "#0d0887"
             ],
             [
              0.1111111111111111,
              "#46039f"
             ],
             [
              0.2222222222222222,
              "#7201a8"
             ],
             [
              0.3333333333333333,
              "#9c179e"
             ],
             [
              0.4444444444444444,
              "#bd3786"
             ],
             [
              0.5555555555555556,
              "#d8576b"
             ],
             [
              0.6666666666666666,
              "#ed7953"
             ],
             [
              0.7777777777777778,
              "#fb9f3a"
             ],
             [
              0.8888888888888888,
              "#fdca26"
             ],
             [
              1,
              "#f0f921"
             ]
            ],
            "type": "contour"
           }
          ],
          "contourcarpet": [
           {
            "colorbar": {
             "outlinewidth": 0,
             "ticks": ""
            },
            "type": "contourcarpet"
           }
          ],
          "heatmap": [
           {
            "colorbar": {
             "outlinewidth": 0,
             "ticks": ""
            },
            "colorscale": [
             [
              0,
              "#0d0887"
             ],
             [
              0.1111111111111111,
              "#46039f"
             ],
             [
              0.2222222222222222,
              "#7201a8"
             ],
             [
              0.3333333333333333,
              "#9c179e"
             ],
             [
              0.4444444444444444,
              "#bd3786"
             ],
             [
              0.5555555555555556,
              "#d8576b"
             ],
             [
              0.6666666666666666,
              "#ed7953"
             ],
             [
              0.7777777777777778,
              "#fb9f3a"
             ],
             [
              0.8888888888888888,
              "#fdca26"
             ],
             [
              1,
              "#f0f921"
             ]
            ],
            "type": "heatmap"
           }
          ],
          "histogram": [
           {
            "marker": {
             "pattern": {
              "fillmode": "overlay",
              "size": 10,
              "solidity": 0.2
             }
            },
            "type": "histogram"
           }
          ],
          "histogram2d": [
           {
            "colorbar": {
             "outlinewidth": 0,
             "ticks": ""
            },
            "colorscale": [
             [
              0,
              "#0d0887"
             ],
             [
              0.1111111111111111,
              "#46039f"
             ],
             [
              0.2222222222222222,
              "#7201a8"
             ],
             [
              0.3333333333333333,
              "#9c179e"
             ],
             [
              0.4444444444444444,
              "#bd3786"
             ],
             [
              0.5555555555555556,
              "#d8576b"
             ],
             [
              0.6666666666666666,
              "#ed7953"
             ],
             [
              0.7777777777777778,
              "#fb9f3a"
             ],
             [
              0.8888888888888888,
              "#fdca26"
             ],
             [
              1,
              "#f0f921"
             ]
            ],
            "type": "histogram2d"
           }
          ],
          "histogram2dcontour": [
           {
            "colorbar": {
             "outlinewidth": 0,
             "ticks": ""
            },
            "colorscale": [
             [
              0,
              "#0d0887"
             ],
             [
              0.1111111111111111,
              "#46039f"
             ],
             [
              0.2222222222222222,
              "#7201a8"
             ],
             [
              0.3333333333333333,
              "#9c179e"
             ],
             [
              0.4444444444444444,
              "#bd3786"
             ],
             [
              0.5555555555555556,
              "#d8576b"
             ],
             [
              0.6666666666666666,
              "#ed7953"
             ],
             [
              0.7777777777777778,
              "#fb9f3a"
             ],
             [
              0.8888888888888888,
              "#fdca26"
             ],
             [
              1,
              "#f0f921"
             ]
            ],
            "type": "histogram2dcontour"
           }
          ],
          "mesh3d": [
           {
            "colorbar": {
             "outlinewidth": 0,
             "ticks": ""
            },
            "type": "mesh3d"
           }
          ],
          "parcoords": [
           {
            "line": {
             "colorbar": {
              "outlinewidth": 0,
              "ticks": ""
             }
            },
            "type": "parcoords"
           }
          ],
          "pie": [
           {
            "automargin": true,
            "type": "pie"
           }
          ],
          "scatter": [
           {
            "fillpattern": {
             "fillmode": "overlay",
             "size": 10,
             "solidity": 0.2
            },
            "type": "scatter"
           }
          ],
          "scatter3d": [
           {
            "line": {
             "colorbar": {
              "outlinewidth": 0,
              "ticks": ""
             }
            },
            "marker": {
             "colorbar": {
              "outlinewidth": 0,
              "ticks": ""
             }
            },
            "type": "scatter3d"
           }
          ],
          "scattercarpet": [
           {
            "marker": {
             "colorbar": {
              "outlinewidth": 0,
              "ticks": ""
             }
            },
            "type": "scattercarpet"
           }
          ],
          "scattergeo": [
           {
            "marker": {
             "colorbar": {
              "outlinewidth": 0,
              "ticks": ""
             }
            },
            "type": "scattergeo"
           }
          ],
          "scattergl": [
           {
            "marker": {
             "colorbar": {
              "outlinewidth": 0,
              "ticks": ""
             }
            },
            "type": "scattergl"
           }
          ],
          "scattermap": [
           {
            "marker": {
             "colorbar": {
              "outlinewidth": 0,
              "ticks": ""
             }
            },
            "type": "scattermap"
           }
          ],
          "scattermapbox": [
           {
            "marker": {
             "colorbar": {
              "outlinewidth": 0,
              "ticks": ""
             }
            },
            "type": "scattermapbox"
           }
          ],
          "scatterpolar": [
           {
            "marker": {
             "colorbar": {
              "outlinewidth": 0,
              "ticks": ""
             }
            },
            "type": "scatterpolar"
           }
          ],
          "scatterpolargl": [
           {
            "marker": {
             "colorbar": {
              "outlinewidth": 0,
              "ticks": ""
             }
            },
            "type": "scatterpolargl"
           }
          ],
          "scatterternary": [
           {
            "marker": {
             "colorbar": {
              "outlinewidth": 0,
              "ticks": ""
             }
            },
            "type": "scatterternary"
           }
          ],
          "surface": [
           {
            "colorbar": {
             "outlinewidth": 0,
             "ticks": ""
            },
            "colorscale": [
             [
              0,
              "#0d0887"
             ],
             [
              0.1111111111111111,
              "#46039f"
             ],
             [
              0.2222222222222222,
              "#7201a8"
             ],
             [
              0.3333333333333333,
              "#9c179e"
             ],
             [
              0.4444444444444444,
              "#bd3786"
             ],
             [
              0.5555555555555556,
              "#d8576b"
             ],
             [
              0.6666666666666666,
              "#ed7953"
             ],
             [
              0.7777777777777778,
              "#fb9f3a"
             ],
             [
              0.8888888888888888,
              "#fdca26"
             ],
             [
              1,
              "#f0f921"
             ]
            ],
            "type": "surface"
           }
          ],
          "table": [
           {
            "cells": {
             "fill": {
              "color": "#EBF0F8"
             },
             "line": {
              "color": "white"
             }
            },
            "header": {
             "fill": {
              "color": "#C8D4E3"
             },
             "line": {
              "color": "white"
             }
            },
            "type": "table"
           }
          ]
         },
         "layout": {
          "annotationdefaults": {
           "arrowcolor": "#2a3f5f",
           "arrowhead": 0,
           "arrowwidth": 1
          },
          "autotypenumbers": "strict",
          "coloraxis": {
           "colorbar": {
            "outlinewidth": 0,
            "ticks": ""
           }
          },
          "colorscale": {
           "diverging": [
            [
             0,
             "#8e0152"
            ],
            [
             0.1,
             "#c51b7d"
            ],
            [
             0.2,
             "#de77ae"
            ],
            [
             0.3,
             "#f1b6da"
            ],
            [
             0.4,
             "#fde0ef"
            ],
            [
             0.5,
             "#f7f7f7"
            ],
            [
             0.6,
             "#e6f5d0"
            ],
            [
             0.7,
             "#b8e186"
            ],
            [
             0.8,
             "#7fbc41"
            ],
            [
             0.9,
             "#4d9221"
            ],
            [
             1,
             "#276419"
            ]
           ],
           "sequential": [
            [
             0,
             "#0d0887"
            ],
            [
             0.1111111111111111,
             "#46039f"
            ],
            [
             0.2222222222222222,
             "#7201a8"
            ],
            [
             0.3333333333333333,
             "#9c179e"
            ],
            [
             0.4444444444444444,
             "#bd3786"
            ],
            [
             0.5555555555555556,
             "#d8576b"
            ],
            [
             0.6666666666666666,
             "#ed7953"
            ],
            [
             0.7777777777777778,
             "#fb9f3a"
            ],
            [
             0.8888888888888888,
             "#fdca26"
            ],
            [
             1,
             "#f0f921"
            ]
           ],
           "sequentialminus": [
            [
             0,
             "#0d0887"
            ],
            [
             0.1111111111111111,
             "#46039f"
            ],
            [
             0.2222222222222222,
             "#7201a8"
            ],
            [
             0.3333333333333333,
             "#9c179e"
            ],
            [
             0.4444444444444444,
             "#bd3786"
            ],
            [
             0.5555555555555556,
             "#d8576b"
            ],
            [
             0.6666666666666666,
             "#ed7953"
            ],
            [
             0.7777777777777778,
             "#fb9f3a"
            ],
            [
             0.8888888888888888,
             "#fdca26"
            ],
            [
             1,
             "#f0f921"
            ]
           ]
          },
          "colorway": [
           "#636efa",
           "#EF553B",
           "#00cc96",
           "#ab63fa",
           "#FFA15A",
           "#19d3f3",
           "#FF6692",
           "#B6E880",
           "#FF97FF",
           "#FECB52"
          ],
          "font": {
           "color": "#2a3f5f"
          },
          "geo": {
           "bgcolor": "white",
           "lakecolor": "white",
           "landcolor": "#E5ECF6",
           "showlakes": true,
           "showland": true,
           "subunitcolor": "white"
          },
          "hoverlabel": {
           "align": "left"
          },
          "hovermode": "closest",
          "mapbox": {
           "style": "light"
          },
          "paper_bgcolor": "white",
          "plot_bgcolor": "#E5ECF6",
          "polar": {
           "angularaxis": {
            "gridcolor": "white",
            "linecolor": "white",
            "ticks": ""
           },
           "bgcolor": "#E5ECF6",
           "radialaxis": {
            "gridcolor": "white",
            "linecolor": "white",
            "ticks": ""
           }
          },
          "scene": {
           "xaxis": {
            "backgroundcolor": "#E5ECF6",
            "gridcolor": "white",
            "gridwidth": 2,
            "linecolor": "white",
            "showbackground": true,
            "ticks": "",
            "zerolinecolor": "white"
           },
           "yaxis": {
            "backgroundcolor": "#E5ECF6",
            "gridcolor": "white",
            "gridwidth": 2,
            "linecolor": "white",
            "showbackground": true,
            "ticks": "",
            "zerolinecolor": "white"
           },
           "zaxis": {
            "backgroundcolor": "#E5ECF6",
            "gridcolor": "white",
            "gridwidth": 2,
            "linecolor": "white",
            "showbackground": true,
            "ticks": "",
            "zerolinecolor": "white"
           }
          },
          "shapedefaults": {
           "line": {
            "color": "#2a3f5f"
           }
          },
          "ternary": {
           "aaxis": {
            "gridcolor": "white",
            "linecolor": "white",
            "ticks": ""
           },
           "baxis": {
            "gridcolor": "white",
            "linecolor": "white",
            "ticks": ""
           },
           "bgcolor": "#E5ECF6",
           "caxis": {
            "gridcolor": "white",
            "linecolor": "white",
            "ticks": ""
           }
          },
          "title": {
           "x": 0.05
          },
          "xaxis": {
           "automargin": true,
           "gridcolor": "white",
           "linecolor": "white",
           "ticks": "",
           "title": {
            "standoff": 15
           },
           "zerolinecolor": "white",
           "zerolinewidth": 2
          },
          "yaxis": {
           "automargin": true,
           "gridcolor": "white",
           "linecolor": "white",
           "ticks": "",
           "title": {
            "standoff": 15
           },
           "zerolinecolor": "white",
           "zerolinewidth": 2
          }
         }
        },
        "title": {
         "text": "f\"Box Plot - {col}"
        },
        "xaxis": {
         "anchor": "y",
         "domain": [
          0,
          1
         ],
         "title": {
          "text": "Age"
         }
        },
        "yaxis": {
         "anchor": "x",
         "domain": [
          0,
          1
         ]
        }
       }
      }
     },
     "metadata": {},
     "output_type": "display_data"
    },
    {
     "data": {
      "application/vnd.plotly.v1+json": {
       "config": {
        "plotlyServerURL": "https://plot.ly"
       },
       "data": [
        {
         "alignmentgroup": "True",
         "hovertemplate": "Tumor_Size=%{x}<extra></extra>",
         "legendgroup": "",
         "marker": {
          "color": "#636efa"
         },
         "name": "",
         "notched": false,
         "offsetgroup": "",
         "orientation": "h",
         "showlegend": false,
         "type": "box",
         "x": {
          "bdata": "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",
          "dtype": "f8"
         },
         "x0": " ",
         "xaxis": "x",
         "y0": " ",
         "yaxis": "y"
        }
       ],
       "layout": {
        "boxmode": "group",
        "legend": {
         "tracegroupgap": 0
        },
        "template": {
         "data": {
          "bar": [
           {
            "error_x": {
             "color": "#2a3f5f"
            },
            "error_y": {
             "color": "#2a3f5f"
            },
            "marker": {
             "line": {
              "color": "#E5ECF6",
              "width": 0.5
             },
             "pattern": {
              "fillmode": "overlay",
              "size": 10,
              "solidity": 0.2
             }
            },
            "type": "bar"
           }
          ],
          "barpolar": [
           {
            "marker": {
             "line": {
              "color": "#E5ECF6",
              "width": 0.5
             },
             "pattern": {
              "fillmode": "overlay",
              "size": 10,
              "solidity": 0.2
             }
            },
            "type": "barpolar"
           }
          ],
          "carpet": [
           {
            "aaxis": {
             "endlinecolor": "#2a3f5f",
             "gridcolor": "white",
             "linecolor": "white",
             "minorgridcolor": "white",
             "startlinecolor": "#2a3f5f"
            },
            "baxis": {
             "endlinecolor": "#2a3f5f",
             "gridcolor": "white",
             "linecolor": "white",
             "minorgridcolor": "white",
             "startlinecolor": "#2a3f5f"
            },
            "type": "carpet"
           }
          ],
          "choropleth": [
           {
            "colorbar": {
             "outlinewidth": 0,
             "ticks": ""
            },
            "type": "choropleth"
           }
          ],
          "contour": [
           {
            "colorbar": {
             "outlinewidth": 0,
             "ticks": ""
            },
            "colorscale": [
             [
              0,
              "#0d0887"
             ],
             [
              0.1111111111111111,
              "#46039f"
             ],
             [
              0.2222222222222222,
              "#7201a8"
             ],
             [
              0.3333333333333333,
              "#9c179e"
             ],
             [
              0.4444444444444444,
              "#bd3786"
             ],
             [
              0.5555555555555556,
              "#d8576b"
             ],
             [
              0.6666666666666666,
              "#ed7953"
             ],
             [
              0.7777777777777778,
              "#fb9f3a"
             ],
             [
              0.8888888888888888,
              "#fdca26"
             ],
             [
              1,
              "#f0f921"
             ]
            ],
            "type": "contour"
           }
          ],
          "contourcarpet": [
           {
            "colorbar": {
             "outlinewidth": 0,
             "ticks": ""
            },
            "type": "contourcarpet"
           }
          ],
          "heatmap": [
           {
            "colorbar": {
             "outlinewidth": 0,
             "ticks": ""
            },
            "colorscale": [
             [
              0,
              "#0d0887"
             ],
             [
              0.1111111111111111,
              "#46039f"
             ],
             [
              0.2222222222222222,
              "#7201a8"
             ],
             [
              0.3333333333333333,
              "#9c179e"
             ],
             [
              0.4444444444444444,
              "#bd3786"
             ],
             [
              0.5555555555555556,
              "#d8576b"
             ],
             [
              0.6666666666666666,
              "#ed7953"
             ],
             [
              0.7777777777777778,
              "#fb9f3a"
             ],
             [
              0.8888888888888888,
              "#fdca26"
             ],
             [
              1,
              "#f0f921"
             ]
            ],
            "type": "heatmap"
           }
          ],
          "histogram": [
           {
            "marker": {
             "pattern": {
              "fillmode": "overlay",
              "size": 10,
              "solidity": 0.2
             }
            },
            "type": "histogram"
           }
          ],
          "histogram2d": [
           {
            "colorbar": {
             "outlinewidth": 0,
             "ticks": ""
            },
            "colorscale": [
             [
              0,
              "#0d0887"
             ],
             [
              0.1111111111111111,
              "#46039f"
             ],
             [
              0.2222222222222222,
              "#7201a8"
             ],
             [
              0.3333333333333333,
              "#9c179e"
             ],
             [
              0.4444444444444444,
              "#bd3786"
             ],
             [
              0.5555555555555556,
              "#d8576b"
             ],
             [
              0.6666666666666666,
              "#ed7953"
             ],
             [
              0.7777777777777778,
              "#fb9f3a"
             ],
             [
              0.8888888888888888,
              "#fdca26"
             ],
             [
              1,
              "#f0f921"
             ]
            ],
            "type": "histogram2d"
           }
          ],
          "histogram2dcontour": [
           {
            "colorbar": {
             "outlinewidth": 0,
             "ticks": ""
            },
            "colorscale": [
             [
              0,
              "#0d0887"
             ],
             [
              0.1111111111111111,
              "#46039f"
             ],
             [
              0.2222222222222222,
              "#7201a8"
             ],
             [
              0.3333333333333333,
              "#9c179e"
             ],
             [
              0.4444444444444444,
              "#bd3786"
             ],
             [
              0.5555555555555556,
              "#d8576b"
             ],
             [
              0.6666666666666666,
              "#ed7953"
             ],
             [
              0.7777777777777778,
              "#fb9f3a"
             ],
             [
              0.8888888888888888,
              "#fdca26"
             ],
             [
              1,
              "#f0f921"
             ]
            ],
            "type": "histogram2dcontour"
           }
          ],
          "mesh3d": [
           {
            "colorbar": {
             "outlinewidth": 0,
             "ticks": ""
            },
            "type": "mesh3d"
           }
          ],
          "parcoords": [
           {
            "line": {
             "colorbar": {
              "outlinewidth": 0,
              "ticks": ""
             }
            },
            "type": "parcoords"
           }
          ],
          "pie": [
           {
            "automargin": true,
            "type": "pie"
           }
          ],
          "scatter": [
           {
            "fillpattern": {
             "fillmode": "overlay",
             "size": 10,
             "solidity": 0.2
            },
            "type": "scatter"
           }
          ],
          "scatter3d": [
           {
            "line": {
             "colorbar": {
              "outlinewidth": 0,
              "ticks": ""
             }
            },
            "marker": {
             "colorbar": {
              "outlinewidth": 0,
              "ticks": ""
             }
            },
            "type": "scatter3d"
           }
          ],
          "scattercarpet": [
           {
            "marker": {
             "colorbar": {
              "outlinewidth": 0,
              "ticks": ""
             }
            },
            "type": "scattercarpet"
           }
          ],
          "scattergeo": [
           {
            "marker": {
             "colorbar": {
              "outlinewidth": 0,
              "ticks": ""
             }
            },
            "type": "scattergeo"
           }
          ],
          "scattergl": [
           {
            "marker": {
             "colorbar": {
              "outlinewidth": 0,
              "ticks": ""
             }
            },
            "type": "scattergl"
           }
          ],
          "scattermap": [
           {
            "marker": {
             "colorbar": {
              "outlinewidth": 0,
              "ticks": ""
             }
            },
            "type": "scattermap"
           }
          ],
          "scattermapbox": [
           {
            "marker": {
             "colorbar": {
              "outlinewidth": 0,
              "ticks": ""
             }
            },
            "type": "scattermapbox"
           }
          ],
          "scatterpolar": [
           {
            "marker": {
             "colorbar": {
              "outlinewidth": 0,
              "ticks": ""
             }
            },
            "type": "scatterpolar"
           }
          ],
          "scatterpolargl": [
           {
            "marker": {
             "colorbar": {
              "outlinewidth": 0,
              "ticks": ""
             }
            },
            "type": "scatterpolargl"
           }
          ],
          "scatterternary": [
           {
            "marker": {
             "colorbar": {
              "outlinewidth": 0,
              "ticks": ""
             }
            },
            "type": "scatterternary"
           }
          ],
          "surface": [
           {
            "colorbar": {
             "outlinewidth": 0,
             "ticks": ""
            },
            "colorscale": [
             [
              0,
              "#0d0887"
             ],
             [
              0.1111111111111111,
              "#46039f"
             ],
             [
              0.2222222222222222,
              "#7201a8"
             ],
             [
              0.3333333333333333,
              "#9c179e"
             ],
             [
              0.4444444444444444,
              "#bd3786"
             ],
             [
              0.5555555555555556,
              "#d8576b"
             ],
             [
              0.6666666666666666,
              "#ed7953"
             ],
             [
              0.7777777777777778,
              "#fb9f3a"
             ],
             [
              0.8888888888888888,
              "#fdca26"
             ],
             [
              1,
              "#f0f921"
             ]
            ],
            "type": "surface"
           }
          ],
          "table": [
           {
            "cells": {
             "fill": {
              "color": "#EBF0F8"
             },
             "line": {
              "color": "white"
             }
            },
            "header": {
             "fill": {
              "color": "#C8D4E3"
             },
             "line": {
              "color": "white"
             }
            },
            "type": "table"
           }
          ]
         },
         "layout": {
          "annotationdefaults": {
           "arrowcolor": "#2a3f5f",
           "arrowhead": 0,
           "arrowwidth": 1
          },
          "autotypenumbers": "strict",
          "coloraxis": {
           "colorbar": {
            "outlinewidth": 0,
            "ticks": ""
           }
          },
          "colorscale": {
           "diverging": [
            [
             0,
             "#8e0152"
            ],
            [
             0.1,
             "#c51b7d"
            ],
            [
             0.2,
             "#de77ae"
            ],
            [
             0.3,
             "#f1b6da"
            ],
            [
             0.4,
             "#fde0ef"
            ],
            [
             0.5,
             "#f7f7f7"
            ],
            [
             0.6,
             "#e6f5d0"
            ],
            [
             0.7,
             "#b8e186"
            ],
            [
             0.8,
             "#7fbc41"
            ],
            [
             0.9,
             "#4d9221"
            ],
            [
             1,
             "#276419"
            ]
           ],
           "sequential": [
            [
             0,
             "#0d0887"
            ],
            [
             0.1111111111111111,
             "#46039f"
            ],
            [
             0.2222222222222222,
             "#7201a8"
            ],
            [
             0.3333333333333333,
             "#9c179e"
            ],
            [
             0.4444444444444444,
             "#bd3786"
            ],
            [
             0.5555555555555556,
             "#d8576b"
            ],
            [
             0.6666666666666666,
             "#ed7953"
            ],
            [
             0.7777777777777778,
             "#fb9f3a"
            ],
            [
             0.8888888888888888,
             "#fdca26"
            ],
            [
             1,
             "#f0f921"
            ]
           ],
           "sequentialminus": [
            [
             0,
             "#0d0887"
            ],
            [
             0.1111111111111111,
             "#46039f"
            ],
            [
             0.2222222222222222,
             "#7201a8"
            ],
            [
             0.3333333333333333,
             "#9c179e"
            ],
            [
             0.4444444444444444,
             "#bd3786"
            ],
            [
             0.5555555555555556,
             "#d8576b"
            ],
            [
             0.6666666666666666,
             "#ed7953"
            ],
            [
             0.7777777777777778,
             "#fb9f3a"
            ],
            [
             0.8888888888888888,
             "#fdca26"
            ],
            [
             1,
             "#f0f921"
            ]
           ]
          },
          "colorway": [
           "#636efa",
           "#EF553B",
           "#00cc96",
           "#ab63fa",
           "#FFA15A",
           "#19d3f3",
           "#FF6692",
           "#B6E880",
           "#FF97FF",
           "#FECB52"
          ],
          "font": {
           "color": "#2a3f5f"
          },
          "geo": {
           "bgcolor": "white",
           "lakecolor": "white",
           "landcolor": "#E5ECF6",
           "showlakes": true,
           "showland": true,
           "subunitcolor": "white"
          },
          "hoverlabel": {
           "align": "left"
          },
          "hovermode": "closest",
          "mapbox": {
           "style": "light"
          },
          "paper_bgcolor": "white",
          "plot_bgcolor": "#E5ECF6",
          "polar": {
           "angularaxis": {
            "gridcolor": "white",
            "linecolor": "white",
            "ticks": ""
           },
           "bgcolor": "#E5ECF6",
           "radialaxis": {
            "gridcolor": "white",
            "linecolor": "white",
            "ticks": ""
           }
          },
          "scene": {
           "xaxis": {
            "backgroundcolor": "#E5ECF6",
            "gridcolor": "white",
            "gridwidth": 2,
            "linecolor": "white",
            "showbackground": true,
            "ticks": "",
            "zerolinecolor": "white"
           },
           "yaxis": {
            "backgroundcolor": "#E5ECF6",
            "gridcolor": "white",
            "gridwidth": 2,
            "linecolor": "white",
            "showbackground": true,
            "ticks": "",
            "zerolinecolor": "white"
           },
           "zaxis": {
            "backgroundcolor": "#E5ECF6",
            "gridcolor": "white",
            "gridwidth": 2,
            "linecolor": "white",
            "showbackground": true,
            "ticks": "",
            "zerolinecolor": "white"
           }
          },
          "shapedefaults": {
           "line": {
            "color": "#2a3f5f"
           }
          },
          "ternary": {
           "aaxis": {
            "gridcolor": "white",
            "linecolor": "white",
            "ticks": ""
           },
           "baxis": {
            "gridcolor": "white",
            "linecolor": "white",
            "ticks": ""
           },
           "bgcolor": "#E5ECF6",
           "caxis": {
            "gridcolor": "white",
            "linecolor": "white",
            "ticks": ""
           }
          },
          "title": {
           "x": 0.05
          },
          "xaxis": {
           "automargin": true,
           "gridcolor": "white",
           "linecolor": "white",
           "ticks": "",
           "title": {
            "standoff": 15
           },
           "zerolinecolor": "white",
           "zerolinewidth": 2
          },
          "yaxis": {
           "automargin": true,
           "gridcolor": "white",
           "linecolor": "white",
           "ticks": "",
           "title": {
            "standoff": 15
           },
           "zerolinecolor": "white",
           "zerolinewidth": 2
          }
         }
        },
        "title": {
         "text": "f\"Box Plot - {col}"
        },
        "xaxis": {
         "anchor": "y",
         "domain": [
          0,
          1
         ],
         "title": {
          "text": "Tumor_Size"
         }
        },
        "yaxis": {
         "anchor": "x",
         "domain": [
          0,
          1
         ]
        }
       }
      }
     },
     "metadata": {},
     "output_type": "display_data"
    },
    {
     "data": {
      "application/vnd.plotly.v1+json": {
       "config": {
        "plotlyServerURL": "https://plot.ly"
       },
       "data": [
        {
         "alignmentgroup": "True",
         "hovertemplate": "Regional_Node_Examined=%{x}<extra></extra>",
         "legendgroup": "",
         "marker": {
          "color": "#636efa"
         },
         "name": "",
         "notched": false,
         "offsetgroup": "",
         "orientation": "h",
         "showlegend": false,
         "type": "box",
         "x": {
          "bdata": "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",
          "dtype": "f8"
         },
         "x0": " ",
         "xaxis": "x",
         "y0": " ",
         "yaxis": "y"
        }
       ],
       "layout": {
        "boxmode": "group",
        "legend": {
         "tracegroupgap": 0
        },
        "template": {
         "data": {
          "bar": [
           {
            "error_x": {
             "color": "#2a3f5f"
            },
            "error_y": {
             "color": "#2a3f5f"
            },
            "marker": {
             "line": {
              "color": "#E5ECF6",
              "width": 0.5
             },
             "pattern": {
              "fillmode": "overlay",
              "size": 10,
              "solidity": 0.2
             }
            },
            "type": "bar"
           }
          ],
          "barpolar": [
           {
            "marker": {
             "line": {
              "color": "#E5ECF6",
              "width": 0.5
             },
             "pattern": {
              "fillmode": "overlay",
              "size": 10,
              "solidity": 0.2
             }
            },
            "type": "barpolar"
           }
          ],
          "carpet": [
           {
            "aaxis": {
             "endlinecolor": "#2a3f5f",
             "gridcolor": "white",
             "linecolor": "white",
             "minorgridcolor": "white",
             "startlinecolor": "#2a3f5f"
            },
            "baxis": {
             "endlinecolor": "#2a3f5f",
             "gridcolor": "white",
             "linecolor": "white",
             "minorgridcolor": "white",
             "startlinecolor": "#2a3f5f"
            },
            "type": "carpet"
           }
          ],
          "choropleth": [
           {
            "colorbar": {
             "outlinewidth": 0,
             "ticks": ""
            },
            "type": "choropleth"
           }
          ],
          "contour": [
           {
            "colorbar": {
             "outlinewidth": 0,
             "ticks": ""
            },
            "colorscale": [
             [
              0,
              "#0d0887"
             ],
             [
              0.1111111111111111,
              "#46039f"
             ],
             [
              0.2222222222222222,
              "#7201a8"
             ],
             [
              0.3333333333333333,
              "#9c179e"
             ],
             [
              0.4444444444444444,
              "#bd3786"
             ],
             [
              0.5555555555555556,
              "#d8576b"
             ],
             [
              0.6666666666666666,
              "#ed7953"
             ],
             [
              0.7777777777777778,
              "#fb9f3a"
             ],
             [
              0.8888888888888888,
              "#fdca26"
             ],
             [
              1,
              "#f0f921"
             ]
            ],
            "type": "contour"
           }
          ],
          "contourcarpet": [
           {
            "colorbar": {
             "outlinewidth": 0,
             "ticks": ""
            },
            "type": "contourcarpet"
           }
          ],
          "heatmap": [
           {
            "colorbar": {
             "outlinewidth": 0,
             "ticks": ""
            },
            "colorscale": [
             [
              0,
              "#0d0887"
             ],
             [
              0.1111111111111111,
              "#46039f"
             ],
             [
              0.2222222222222222,
              "#7201a8"
             ],
             [
              0.3333333333333333,
              "#9c179e"
             ],
             [
              0.4444444444444444,
              "#bd3786"
             ],
             [
              0.5555555555555556,
              "#d8576b"
             ],
             [
              0.6666666666666666,
              "#ed7953"
             ],
             [
              0.7777777777777778,
              "#fb9f3a"
             ],
             [
              0.8888888888888888,
              "#fdca26"
             ],
             [
              1,
              "#f0f921"
             ]
            ],
            "type": "heatmap"
           }
          ],
          "histogram": [
           {
            "marker": {
             "pattern": {
              "fillmode": "overlay",
              "size": 10,
              "solidity": 0.2
             }
            },
            "type": "histogram"
           }
          ],
          "histogram2d": [
           {
            "colorbar": {
             "outlinewidth": 0,
             "ticks": ""
            },
            "colorscale": [
             [
              0,
              "#0d0887"
             ],
             [
              0.1111111111111111,
              "#46039f"
             ],
             [
              0.2222222222222222,
              "#7201a8"
             ],
             [
              0.3333333333333333,
              "#9c179e"
             ],
             [
              0.4444444444444444,
              "#bd3786"
             ],
             [
              0.5555555555555556,
              "#d8576b"
             ],
             [
              0.6666666666666666,
              "#ed7953"
             ],
             [
              0.7777777777777778,
              "#fb9f3a"
             ],
             [
              0.8888888888888888,
              "#fdca26"
             ],
             [
              1,
              "#f0f921"
             ]
            ],
            "type": "histogram2d"
           }
          ],
          "histogram2dcontour": [
           {
            "colorbar": {
             "outlinewidth": 0,
             "ticks": ""
            },
            "colorscale": [
             [
              0,
              "#0d0887"
             ],
             [
              0.1111111111111111,
              "#46039f"
             ],
             [
              0.2222222222222222,
              "#7201a8"
             ],
             [
              0.3333333333333333,
              "#9c179e"
             ],
             [
              0.4444444444444444,
              "#bd3786"
             ],
             [
              0.5555555555555556,
              "#d8576b"
             ],
             [
              0.6666666666666666,
              "#ed7953"
             ],
             [
              0.7777777777777778,
              "#fb9f3a"
             ],
             [
              0.8888888888888888,
              "#fdca26"
             ],
             [
              1,
              "#f0f921"
             ]
            ],
            "type": "histogram2dcontour"
           }
          ],
          "mesh3d": [
           {
            "colorbar": {
             "outlinewidth": 0,
             "ticks": ""
            },
            "type": "mesh3d"
           }
          ],
          "parcoords": [
           {
            "line": {
             "colorbar": {
              "outlinewidth": 0,
              "ticks": ""
             }
            },
            "type": "parcoords"
           }
          ],
          "pie": [
           {
            "automargin": true,
            "type": "pie"
           }
          ],
          "scatter": [
           {
            "fillpattern": {
             "fillmode": "overlay",
             "size": 10,
             "solidity": 0.2
            },
            "type": "scatter"
           }
          ],
          "scatter3d": [
           {
            "line": {
             "colorbar": {
              "outlinewidth": 0,
              "ticks": ""
             }
            },
            "marker": {
             "colorbar": {
              "outlinewidth": 0,
              "ticks": ""
             }
            },
            "type": "scatter3d"
           }
          ],
          "scattercarpet": [
           {
            "marker": {
             "colorbar": {
              "outlinewidth": 0,
              "ticks": ""
             }
            },
            "type": "scattercarpet"
           }
          ],
          "scattergeo": [
           {
            "marker": {
             "colorbar": {
              "outlinewidth": 0,
              "ticks": ""
             }
            },
            "type": "scattergeo"
           }
          ],
          "scattergl": [
           {
            "marker": {
             "colorbar": {
              "outlinewidth": 0,
              "ticks": ""
             }
            },
            "type": "scattergl"
           }
          ],
          "scattermap": [
           {
            "marker": {
             "colorbar": {
              "outlinewidth": 0,
              "ticks": ""
             }
            },
            "type": "scattermap"
           }
          ],
          "scattermapbox": [
           {
            "marker": {
             "colorbar": {
              "outlinewidth": 0,
              "ticks": ""
             }
            },
            "type": "scattermapbox"
           }
          ],
          "scatterpolar": [
           {
            "marker": {
             "colorbar": {
              "outlinewidth": 0,
              "ticks": ""
             }
            },
            "type": "scatterpolar"
           }
          ],
          "scatterpolargl": [
           {
            "marker": {
             "colorbar": {
              "outlinewidth": 0,
              "ticks": ""
             }
            },
            "type": "scatterpolargl"
           }
          ],
          "scatterternary": [
           {
            "marker": {
             "colorbar": {
              "outlinewidth": 0,
              "ticks": ""
             }
            },
            "type": "scatterternary"
           }
          ],
          "surface": [
           {
            "colorbar": {
             "outlinewidth": 0,
             "ticks": ""
            },
            "colorscale": [
             [
              0,
              "#0d0887"
             ],
             [
              0.1111111111111111,
              "#46039f"
             ],
             [
              0.2222222222222222,
              "#7201a8"
             ],
             [
              0.3333333333333333,
              "#9c179e"
             ],
             [
              0.4444444444444444,
              "#bd3786"
             ],
             [
              0.5555555555555556,
              "#d8576b"
             ],
             [
              0.6666666666666666,
              "#ed7953"
             ],
             [
              0.7777777777777778,
              "#fb9f3a"
             ],
             [
              0.8888888888888888,
              "#fdca26"
             ],
             [
              1,
              "#f0f921"
             ]
            ],
            "type": "surface"
           }
          ],
          "table": [
           {
            "cells": {
             "fill": {
              "color": "#EBF0F8"
             },
             "line": {
              "color": "white"
             }
            },
            "header": {
             "fill": {
              "color": "#C8D4E3"
             },
             "line": {
              "color": "white"
             }
            },
            "type": "table"
           }
          ]
         },
         "layout": {
          "annotationdefaults": {
           "arrowcolor": "#2a3f5f",
           "arrowhead": 0,
           "arrowwidth": 1
          },
          "autotypenumbers": "strict",
          "coloraxis": {
           "colorbar": {
            "outlinewidth": 0,
            "ticks": ""
           }
          },
          "colorscale": {
           "diverging": [
            [
             0,
             "#8e0152"
            ],
            [
             0.1,
             "#c51b7d"
            ],
            [
             0.2,
             "#de77ae"
            ],
            [
             0.3,
             "#f1b6da"
            ],
            [
             0.4,
             "#fde0ef"
            ],
            [
             0.5,
             "#f7f7f7"
            ],
            [
             0.6,
             "#e6f5d0"
            ],
            [
             0.7,
             "#b8e186"
            ],
            [
             0.8,
             "#7fbc41"
            ],
            [
             0.9,
             "#4d9221"
            ],
            [
             1,
             "#276419"
            ]
           ],
           "sequential": [
            [
             0,
             "#0d0887"
            ],
            [
             0.1111111111111111,
             "#46039f"
            ],
            [
             0.2222222222222222,
             "#7201a8"
            ],
            [
             0.3333333333333333,
             "#9c179e"
            ],
            [
             0.4444444444444444,
             "#bd3786"
            ],
            [
             0.5555555555555556,
             "#d8576b"
            ],
            [
             0.6666666666666666,
             "#ed7953"
            ],
            [
             0.7777777777777778,
             "#fb9f3a"
            ],
            [
             0.8888888888888888,
             "#fdca26"
            ],
            [
             1,
             "#f0f921"
            ]
           ],
           "sequentialminus": [
            [
             0,
             "#0d0887"
            ],
            [
             0.1111111111111111,
             "#46039f"
            ],
            [
             0.2222222222222222,
             "#7201a8"
            ],
            [
             0.3333333333333333,
             "#9c179e"
            ],
            [
             0.4444444444444444,
             "#bd3786"
            ],
            [
             0.5555555555555556,
             "#d8576b"
            ],
            [
             0.6666666666666666,
             "#ed7953"
            ],
            [
             0.7777777777777778,
             "#fb9f3a"
            ],
            [
             0.8888888888888888,
             "#fdca26"
            ],
            [
             1,
             "#f0f921"
            ]
           ]
          },
          "colorway": [
           "#636efa",
           "#EF553B",
           "#00cc96",
           "#ab63fa",
           "#FFA15A",
           "#19d3f3",
           "#FF6692",
           "#B6E880",
           "#FF97FF",
           "#FECB52"
          ],
          "font": {
           "color": "#2a3f5f"
          },
          "geo": {
           "bgcolor": "white",
           "lakecolor": "white",
           "landcolor": "#E5ECF6",
           "showlakes": true,
           "showland": true,
           "subunitcolor": "white"
          },
          "hoverlabel": {
           "align": "left"
          },
          "hovermode": "closest",
          "mapbox": {
           "style": "light"
          },
          "paper_bgcolor": "white",
          "plot_bgcolor": "#E5ECF6",
          "polar": {
           "angularaxis": {
            "gridcolor": "white",
            "linecolor": "white",
            "ticks": ""
           },
           "bgcolor": "#E5ECF6",
           "radialaxis": {
            "gridcolor": "white",
            "linecolor": "white",
            "ticks": ""
           }
          },
          "scene": {
           "xaxis": {
            "backgroundcolor": "#E5ECF6",
            "gridcolor": "white",
            "gridwidth": 2,
            "linecolor": "white",
            "showbackground": true,
            "ticks": "",
            "zerolinecolor": "white"
           },
           "yaxis": {
            "backgroundcolor": "#E5ECF6",
            "gridcolor": "white",
            "gridwidth": 2,
            "linecolor": "white",
            "showbackground": true,
            "ticks": "",
            "zerolinecolor": "white"
           },
           "zaxis": {
            "backgroundcolor": "#E5ECF6",
            "gridcolor": "white",
            "gridwidth": 2,
            "linecolor": "white",
            "showbackground": true,
            "ticks": "",
            "zerolinecolor": "white"
           }
          },
          "shapedefaults": {
           "line": {
            "color": "#2a3f5f"
           }
          },
          "ternary": {
           "aaxis": {
            "gridcolor": "white",
            "linecolor": "white",
            "ticks": ""
           },
           "baxis": {
            "gridcolor": "white",
            "linecolor": "white",
            "ticks": ""
           },
           "bgcolor": "#E5ECF6",
           "caxis": {
            "gridcolor": "white",
            "linecolor": "white",
            "ticks": ""
           }
          },
          "title": {
           "x": 0.05
          },
          "xaxis": {
           "automargin": true,
           "gridcolor": "white",
           "linecolor": "white",
           "ticks": "",
           "title": {
            "standoff": 15
           },
           "zerolinecolor": "white",
           "zerolinewidth": 2
          },
          "yaxis": {
           "automargin": true,
           "gridcolor": "white",
           "linecolor": "white",
           "ticks": "",
           "title": {
            "standoff": 15
           },
           "zerolinecolor": "white",
           "zerolinewidth": 2
          }
         }
        },
        "title": {
         "text": "f\"Box Plot - {col}"
        },
        "xaxis": {
         "anchor": "y",
         "domain": [
          0,
          1
         ],
         "title": {
          "text": "Regional_Node_Examined"
         }
        },
        "yaxis": {
         "anchor": "x",
         "domain": [
          0,
          1
         ]
        }
       }
      }
     },
     "metadata": {},
     "output_type": "display_data"
    },
    {
     "data": {
      "application/vnd.plotly.v1+json": {
       "config": {
        "plotlyServerURL": "https://plot.ly"
       },
       "data": [
        {
         "alignmentgroup": "True",
         "hovertemplate": "Reginol_Node_Positive=%{x}<extra></extra>",
         "legendgroup": "",
         "marker": {
          "color": "#636efa"
         },
         "name": "",
         "notched": false,
         "offsetgroup": "",
         "orientation": "h",
         "showlegend": false,
         "type": "box",
         "x": {
          "bdata": "AQUBAQIBAQEDAQEBAQECBQEBBAEBAQEDAgYCAgUCAQYCBQIBAwMBAQEBAQICAQEDAQMBAwEBAQQBAQEBAgEBAQEBBAMCAgEDAQEBAwEBAgIDBAMCBQMDAgIDBAIBAgECAwEGAQEFAQEBBAMBAQIBAwECAQUCAQEBBAEBAgYBAQICAQIBAgUBAgECAgEBAQQBAQICAgIEAQEBAQEBAQEBAQICAwECAQQBBQECAQECAQICBQEBAwIBBgECAgEBAQECAwEBAQECAwEBAgMBAgICBgIBAQYBAQQBAQIDBQMEAQMCBQYBAQMBAQEBBgQBAQECAwEBAgMEAwEFAQICBAQBAQEBAgIBAQIBAgIEBAYBBAMBAgQEBgEBAQMCAQEBAgEDAQICAQEBAQEBAgIBAQUBAgIBAgEBAQEBAQMBAgICBQMBBgIBAQEBAQECAgEDAwMBAgEBAQEBBgMGAQEBBgEDAgEBAgUBAgIBAwIBAwICAgMCBQEBAQEBBAUCAQEBAQEBAwEEBAIEAgECBAUBAQEEAgICAQUBAQIBAQMCAQEBAQMBBAIBAgUCAQQFAQMCAwEBAgMDAQEBAQEBAQEBBgEBAQIBAQEEAwECAgMCAQEDAgECAQEDAQIBAQEBAwQCAwMDAwEBBQICAQEBBQIEAQYGAQYCBgEEAwEDAQIBBAEEAwEFAwEEAgECAQQCAQMDAgEDAQQBAwECAgYDAwECBgEBAgEBBgEDAQYBAQUBAwIBAQUBAwEBAQIBAgEBAQECAQEBAQEBBAMBAQEBAwEBAQEBAgQGAQUBAQEEAwEBAgIBAwEBAQEDAQEEAwMCBQECBgMDAQEFBAECAQQDAQEDAgEDAgUBAQIBAgIBAgEBAQIFAQMCAgICAQMBAgMBAgMDAQEDAgQBAQIBAgICAgEBBQEDAwQEAQIBAQMBAQIBAwEBAgMEAQIDAQECBQMBAwEFAQECAQMEAQMCBQICAwUBAwIBAQEBAQICAgEBAQIDAgYDAwEBAgMFAwQBAQMEAgICAgEBAgEGAgEDAgEBAwMBBQEDAQEDBgEEAwIBAgEBAQIBAgECAQECBQEBAQIBAQEBAQQEAgEFBQICAQQEAQIBAQECBgEBAwYCAwEBBAEFAwEBAQEBAQIGAgEEAwICAQECBAIBAgIBAgYCAQEBAgEBAwEBAgEBAQEEAQIBBgYDBQEBAwICAgEBAQIDAwECAQEFAgEBAwEBAQMBAQICAQECAwEBAQIEAQECAQEBAQMBBQEBBAEBAQEBAQEBAQECAQECAQIDAQEBAQIDBQIBAQIBAgEBAgECAQIDAQQBAgECAwEBAQECAQEEAQECAQEDAQEDAwICAwEFBgIBAQEBBgIDAQMBAwEEAQEDBgUGAgEDAQEBAQEBAQIDAQIBAQEDAQEBAQECAQIEBAUCAgEGAgQBAgEBAQIDAQUBAQECAQIBAQEBAgEBAgEBAgYEAgEBAgIFAQEDAwYBAgICAgIBAQEBBgECAQMBAwMCAQEDAQIFBgUDAgEBAwMEAQIDAgECBAEBAwUBAQQEAQQBAQEBBAICAgIBBgICAwEDAQQBAgEBAgEBAQEDAgIBAwIBAgMBAQMBAQIBAwIDAQUBAgIBAQEBAgQCAwECAwIBAQQBAwUDAQEBAQIBAgICAgIGBAEBAQEBAQEBAQEFAQECAQEBAwICAQIFBgECAgEBAwICAgECAQYBAgMBAQEBAwIDAQMBAgEDBQQBAgUBAQUBAQEBAQIDAwQEBAUGBgECAQECAgEEAQEBAgQBAgEBAwMBAwEBAgIBAQICAgEBAQQBAgEFAQECAQIBAQEBAQIDBQMFAgICAQUBAQQCBAECBQEBAQIBAQMBAwUBAQICBAUBAQUGAgIBAQEDAwUCBAUBAQEDAQQBAQUBAwMDAQIBAgIBAQQDAQMGAgEEAQECAQECAQEBAQIBAQEBAgMCAQEBAQECAQMCAQMCAgQCAQMBAQECAgEGAQEEAgEFAQIBAwEGBQECAgEDAQEBAQEBAQIEBAIGAQEBAQEEAQMBAQEBBAEBAQIBAQEBAQIFAQIDBAECAgECAQQBAgIBAQIGAQIBAgIEAwIBBAECAwEBAQUBAgQBAQYBAgIBAQEBAQIBAgEBAQIBAQEBAQMBAQEBAwICAQEBBAECBAEBAQEBAgICBAIEAQIEAQEDAQIBAQMDAQIDBAEDBAQBBgQBAQEGBAMDAgIEBAYCAgEGAgIBAwIEAQEBAQICAQIBAgICAgEDAQMCBAQDBQEBAgUEBQEBAgEEAQECAQEFAQEBAQEDBgIBAQEBAQEFAQMCAQEBBAEFAQMFAgEBAQEGAQQBAgICBAEDAQQDAgECAQIBBAIFAQIBBQIBAgEBAQEEBQEGAQEBBQEBAQECAgMFAgQDBQEEAgICAQEBAwUFBQEFAQMCBQMBAQIBAgEGAgIDAQIBAgIDAgMCAgEBAQEBAwIBAQIFAQEBAwIFBQEDAwEBAQYCBgIDBAEBAgECAgIBAQQBBQIBAwQGAgEGAQMDAQEBAQEBAQUBAQEEAgMBBgMCBAIFAQQBBQUBAQUBAQMBAQQBAQICAQECAwQEAwIBAQIEAQEBAgICAQUDBQQBAQIBAQEBAwEBBQEBAQUBAQIDBAQCAgEEAQMBBgECAQIGAgEBAwMBAQUFAwMBAgMCAwIBAwEBAQIBAQEBBQEDAgECBQUCAgEBBQECAQUDAQEBAQEBAgMBAgEBAQYBAgEBBQUBAQEDAQQBAQICAQQBBgEDBAYDAQIGAQEBAwMBAgMDAQIDAQECAQEBBAYBAQEBBQECAQEBAQEBBAEBAQEBAgEBAQEBAQEBBgEBAQMEAQIBAgIEBgMDAQQGAQEEAQECAQIFAQIDAgEDAgEBAgEBAQEBAwQDBQIFAgECAgIEAgMDAQUDAQQBAwICAQIBAwEBAgQCBAIBAQMBAQUBAgEBAQEDAgECBQIBAgUBAgYDAgEBAQEDBAEBAwEBAwEGAwUCAwMBAQIBAwEFAQEDAQQBAQEGAQQCAgEBAQIBAwECAwEBAQEBAQIBAgEEAQECAQUGAQEFAgICAgIBAQQCAQIBAwECAQMEBgMGBAEGAwEBAQECAQECAgMBAQECAQEBAgECBAIEAQIDAQMBAQEBAwEBAgECAgUBAwEBAgEDAQIEBQYBAgIFBAIGAQIBBQECAQUBBAIBAwECBAEDAQEDAgYDAQMEAwYEAwIFAQEBAgUEAgEBAQMDAQEBAQICAwQDAgECAQECAQMBAgECBQEBAgECAgEBAQIBAQEBAQICBQEBAQUBAQQBAQEBAgEDAQMCAgEFAwMCAQICBAEBBgIDAQECAQMGAQQFAwEBAQQFAgIFAwUFAwUBAgMCAwEDAQEBAQIBAQEBAgECAQMBBAEBBgEGAgEEAQEEBgEBAwIDAQEBBQEEAQEDBAEBAgIBAwYFAQEBAQQFAQEBAQICAQEBAQICAgIBAQMBAQEBAQEBAwEBAQMDBQEDAQIDAwEBAgICBAECAQEBAQYDAQMBBgMDAwECAgIFAgEEBAQBAQEBAQEDAQIEBQEBAgIFAgEBAgECAQQEAQEBAQIBBQYBBgQCAgMEAQMEAgQDAgEBBgIGBQEBAgECBgEBAQEBAQEBBAUEBQEBAwEDBAEBAgIBBAIBAQECAQMCBAEEAgUBBgIGAQECBgECAQICAQIBAQEDBAIBAQEBBAECAQEEAgEBAQECAgECAQMBAwECAQYBBAMBAgECAQYBAQIFAgIBAwMBAgUCAQEBBAQFAQEBAQEBAgYBAQEBAQECAQIBAwEBAQIFBQIBBAEBBQUCBQEFBAICAwIDAgIBBgQBAwECAgEDAgEBAQEBAQEDAwEFAgEDAQQBAQIBAQECBAQDAQECAQIBAQICAQUCAQECAgECAQQBBAIBAQEDAQI=",
          "dtype": "i1"
         },
         "x0": " ",
         "xaxis": "x",
         "y0": " ",
         "yaxis": "y"
        }
       ],
       "layout": {
        "boxmode": "group",
        "legend": {
         "tracegroupgap": 0
        },
        "template": {
         "data": {
          "bar": [
           {
            "error_x": {
             "color": "#2a3f5f"
            },
            "error_y": {
             "color": "#2a3f5f"
            },
            "marker": {
             "line": {
              "color": "#E5ECF6",
              "width": 0.5
             },
             "pattern": {
              "fillmode": "overlay",
              "size": 10,
              "solidity": 0.2
             }
            },
            "type": "bar"
           }
          ],
          "barpolar": [
           {
            "marker": {
             "line": {
              "color": "#E5ECF6",
              "width": 0.5
             },
             "pattern": {
              "fillmode": "overlay",
              "size": 10,
              "solidity": 0.2
             }
            },
            "type": "barpolar"
           }
          ],
          "carpet": [
           {
            "aaxis": {
             "endlinecolor": "#2a3f5f",
             "gridcolor": "white",
             "linecolor": "white",
             "minorgridcolor": "white",
             "startlinecolor": "#2a3f5f"
            },
            "baxis": {
             "endlinecolor": "#2a3f5f",
             "gridcolor": "white",
             "linecolor": "white",
             "minorgridcolor": "white",
             "startlinecolor": "#2a3f5f"
            },
            "type": "carpet"
           }
          ],
          "choropleth": [
           {
            "colorbar": {
             "outlinewidth": 0,
             "ticks": ""
            },
            "type": "choropleth"
           }
          ],
          "contour": [
           {
            "colorbar": {
             "outlinewidth": 0,
             "ticks": ""
            },
            "colorscale": [
             [
              0,
              "#0d0887"
             ],
             [
              0.1111111111111111,
              "#46039f"
             ],
             [
              0.2222222222222222,
              "#7201a8"
             ],
             [
              0.3333333333333333,
              "#9c179e"
             ],
             [
              0.4444444444444444,
              "#bd3786"
             ],
             [
              0.5555555555555556,
              "#d8576b"
             ],
             [
              0.6666666666666666,
              "#ed7953"
             ],
             [
              0.7777777777777778,
              "#fb9f3a"
             ],
             [
              0.8888888888888888,
              "#fdca26"
             ],
             [
              1,
              "#f0f921"
             ]
            ],
            "type": "contour"
           }
          ],
          "contourcarpet": [
           {
            "colorbar": {
             "outlinewidth": 0,
             "ticks": ""
            },
            "type": "contourcarpet"
           }
          ],
          "heatmap": [
           {
            "colorbar": {
             "outlinewidth": 0,
             "ticks": ""
            },
            "colorscale": [
             [
              0,
              "#0d0887"
             ],
             [
              0.1111111111111111,
              "#46039f"
             ],
             [
              0.2222222222222222,
              "#7201a8"
             ],
             [
              0.3333333333333333,
              "#9c179e"
             ],
             [
              0.4444444444444444,
              "#bd3786"
             ],
             [
              0.5555555555555556,
              "#d8576b"
             ],
             [
              0.6666666666666666,
              "#ed7953"
             ],
             [
              0.7777777777777778,
              "#fb9f3a"
             ],
             [
              0.8888888888888888,
              "#fdca26"
             ],
             [
              1,
              "#f0f921"
             ]
            ],
            "type": "heatmap"
           }
          ],
          "histogram": [
           {
            "marker": {
             "pattern": {
              "fillmode": "overlay",
              "size": 10,
              "solidity": 0.2
             }
            },
            "type": "histogram"
           }
          ],
          "histogram2d": [
           {
            "colorbar": {
             "outlinewidth": 0,
             "ticks": ""
            },
            "colorscale": [
             [
              0,
              "#0d0887"
             ],
             [
              0.1111111111111111,
              "#46039f"
             ],
             [
              0.2222222222222222,
              "#7201a8"
             ],
             [
              0.3333333333333333,
              "#9c179e"
             ],
             [
              0.4444444444444444,
              "#bd3786"
             ],
             [
              0.5555555555555556,
              "#d8576b"
             ],
             [
              0.6666666666666666,
              "#ed7953"
             ],
             [
              0.7777777777777778,
              "#fb9f3a"
             ],
             [
              0.8888888888888888,
              "#fdca26"
             ],
             [
              1,
              "#f0f921"
             ]
            ],
            "type": "histogram2d"
           }
          ],
          "histogram2dcontour": [
           {
            "colorbar": {
             "outlinewidth": 0,
             "ticks": ""
            },
            "colorscale": [
             [
              0,
              "#0d0887"
             ],
             [
              0.1111111111111111,
              "#46039f"
             ],
             [
              0.2222222222222222,
              "#7201a8"
             ],
             [
              0.3333333333333333,
              "#9c179e"
             ],
             [
              0.4444444444444444,
              "#bd3786"
             ],
             [
              0.5555555555555556,
              "#d8576b"
             ],
             [
              0.6666666666666666,
              "#ed7953"
             ],
             [
              0.7777777777777778,
              "#fb9f3a"
             ],
             [
              0.8888888888888888,
              "#fdca26"
             ],
             [
              1,
              "#f0f921"
             ]
            ],
            "type": "histogram2dcontour"
           }
          ],
          "mesh3d": [
           {
            "colorbar": {
             "outlinewidth": 0,
             "ticks": ""
            },
            "type": "mesh3d"
           }
          ],
          "parcoords": [
           {
            "line": {
             "colorbar": {
              "outlinewidth": 0,
              "ticks": ""
             }
            },
            "type": "parcoords"
           }
          ],
          "pie": [
           {
            "automargin": true,
            "type": "pie"
           }
          ],
          "scatter": [
           {
            "fillpattern": {
             "fillmode": "overlay",
             "size": 10,
             "solidity": 0.2
            },
            "type": "scatter"
           }
          ],
          "scatter3d": [
           {
            "line": {
             "colorbar": {
              "outlinewidth": 0,
              "ticks": ""
             }
            },
            "marker": {
             "colorbar": {
              "outlinewidth": 0,
              "ticks": ""
             }
            },
            "type": "scatter3d"
           }
          ],
          "scattercarpet": [
           {
            "marker": {
             "colorbar": {
              "outlinewidth": 0,
              "ticks": ""
             }
            },
            "type": "scattercarpet"
           }
          ],
          "scattergeo": [
           {
            "marker": {
             "colorbar": {
              "outlinewidth": 0,
              "ticks": ""
             }
            },
            "type": "scattergeo"
           }
          ],
          "scattergl": [
           {
            "marker": {
             "colorbar": {
              "outlinewidth": 0,
              "ticks": ""
             }
            },
            "type": "scattergl"
           }
          ],
          "scattermap": [
           {
            "marker": {
             "colorbar": {
              "outlinewidth": 0,
              "ticks": ""
             }
            },
            "type": "scattermap"
           }
          ],
          "scattermapbox": [
           {
            "marker": {
             "colorbar": {
              "outlinewidth": 0,
              "ticks": ""
             }
            },
            "type": "scattermapbox"
           }
          ],
          "scatterpolar": [
           {
            "marker": {
             "colorbar": {
              "outlinewidth": 0,
              "ticks": ""
             }
            },
            "type": "scatterpolar"
           }
          ],
          "scatterpolargl": [
           {
            "marker": {
             "colorbar": {
              "outlinewidth": 0,
              "ticks": ""
             }
            },
            "type": "scatterpolargl"
           }
          ],
          "scatterternary": [
           {
            "marker": {
             "colorbar": {
              "outlinewidth": 0,
              "ticks": ""
             }
            },
            "type": "scatterternary"
           }
          ],
          "surface": [
           {
            "colorbar": {
             "outlinewidth": 0,
             "ticks": ""
            },
            "colorscale": [
             [
              0,
              "#0d0887"
             ],
             [
              0.1111111111111111,
              "#46039f"
             ],
             [
              0.2222222222222222,
              "#7201a8"
             ],
             [
              0.3333333333333333,
              "#9c179e"
             ],
             [
              0.4444444444444444,
              "#bd3786"
             ],
             [
              0.5555555555555556,
              "#d8576b"
             ],
             [
              0.6666666666666666,
              "#ed7953"
             ],
             [
              0.7777777777777778,
              "#fb9f3a"
             ],
             [
              0.8888888888888888,
              "#fdca26"
             ],
             [
              1,
              "#f0f921"
             ]
            ],
            "type": "surface"
           }
          ],
          "table": [
           {
            "cells": {
             "fill": {
              "color": "#EBF0F8"
             },
             "line": {
              "color": "white"
             }
            },
            "header": {
             "fill": {
              "color": "#C8D4E3"
             },
             "line": {
              "color": "white"
             }
            },
            "type": "table"
           }
          ]
         },
         "layout": {
          "annotationdefaults": {
           "arrowcolor": "#2a3f5f",
           "arrowhead": 0,
           "arrowwidth": 1
          },
          "autotypenumbers": "strict",
          "coloraxis": {
           "colorbar": {
            "outlinewidth": 0,
            "ticks": ""
           }
          },
          "colorscale": {
           "diverging": [
            [
             0,
             "#8e0152"
            ],
            [
             0.1,
             "#c51b7d"
            ],
            [
             0.2,
             "#de77ae"
            ],
            [
             0.3,
             "#f1b6da"
            ],
            [
             0.4,
             "#fde0ef"
            ],
            [
             0.5,
             "#f7f7f7"
            ],
            [
             0.6,
             "#e6f5d0"
            ],
            [
             0.7,
             "#b8e186"
            ],
            [
             0.8,
             "#7fbc41"
            ],
            [
             0.9,
             "#4d9221"
            ],
            [
             1,
             "#276419"
            ]
           ],
           "sequential": [
            [
             0,
             "#0d0887"
            ],
            [
             0.1111111111111111,
             "#46039f"
            ],
            [
             0.2222222222222222,
             "#7201a8"
            ],
            [
             0.3333333333333333,
             "#9c179e"
            ],
            [
             0.4444444444444444,
             "#bd3786"
            ],
            [
             0.5555555555555556,
             "#d8576b"
            ],
            [
             0.6666666666666666,
             "#ed7953"
            ],
            [
             0.7777777777777778,
             "#fb9f3a"
            ],
            [
             0.8888888888888888,
             "#fdca26"
            ],
            [
             1,
             "#f0f921"
            ]
           ],
           "sequentialminus": [
            [
             0,
             "#0d0887"
            ],
            [
             0.1111111111111111,
             "#46039f"
            ],
            [
             0.2222222222222222,
             "#7201a8"
            ],
            [
             0.3333333333333333,
             "#9c179e"
            ],
            [
             0.4444444444444444,
             "#bd3786"
            ],
            [
             0.5555555555555556,
             "#d8576b"
            ],
            [
             0.6666666666666666,
             "#ed7953"
            ],
            [
             0.7777777777777778,
             "#fb9f3a"
            ],
            [
             0.8888888888888888,
             "#fdca26"
            ],
            [
             1,
             "#f0f921"
            ]
           ]
          },
          "colorway": [
           "#636efa",
           "#EF553B",
           "#00cc96",
           "#ab63fa",
           "#FFA15A",
           "#19d3f3",
           "#FF6692",
           "#B6E880",
           "#FF97FF",
           "#FECB52"
          ],
          "font": {
           "color": "#2a3f5f"
          },
          "geo": {
           "bgcolor": "white",
           "lakecolor": "white",
           "landcolor": "#E5ECF6",
           "showlakes": true,
           "showland": true,
           "subunitcolor": "white"
          },
          "hoverlabel": {
           "align": "left"
          },
          "hovermode": "closest",
          "mapbox": {
           "style": "light"
          },
          "paper_bgcolor": "white",
          "plot_bgcolor": "#E5ECF6",
          "polar": {
           "angularaxis": {
            "gridcolor": "white",
            "linecolor": "white",
            "ticks": ""
           },
           "bgcolor": "#E5ECF6",
           "radialaxis": {
            "gridcolor": "white",
            "linecolor": "white",
            "ticks": ""
           }
          },
          "scene": {
           "xaxis": {
            "backgroundcolor": "#E5ECF6",
            "gridcolor": "white",
            "gridwidth": 2,
            "linecolor": "white",
            "showbackground": true,
            "ticks": "",
            "zerolinecolor": "white"
           },
           "yaxis": {
            "backgroundcolor": "#E5ECF6",
            "gridcolor": "white",
            "gridwidth": 2,
            "linecolor": "white",
            "showbackground": true,
            "ticks": "",
            "zerolinecolor": "white"
           },
           "zaxis": {
            "backgroundcolor": "#E5ECF6",
            "gridcolor": "white",
            "gridwidth": 2,
            "linecolor": "white",
            "showbackground": true,
            "ticks": "",
            "zerolinecolor": "white"
           }
          },
          "shapedefaults": {
           "line": {
            "color": "#2a3f5f"
           }
          },
          "ternary": {
           "aaxis": {
            "gridcolor": "white",
            "linecolor": "white",
            "ticks": ""
           },
           "baxis": {
            "gridcolor": "white",
            "linecolor": "white",
            "ticks": ""
           },
           "bgcolor": "#E5ECF6",
           "caxis": {
            "gridcolor": "white",
            "linecolor": "white",
            "ticks": ""
           }
          },
          "title": {
           "x": 0.05
          },
          "xaxis": {
           "automargin": true,
           "gridcolor": "white",
           "linecolor": "white",
           "ticks": "",
           "title": {
            "standoff": 15
           },
           "zerolinecolor": "white",
           "zerolinewidth": 2
          },
          "yaxis": {
           "automargin": true,
           "gridcolor": "white",
           "linecolor": "white",
           "ticks": "",
           "title": {
            "standoff": 15
           },
           "zerolinecolor": "white",
           "zerolinewidth": 2
          }
         }
        },
        "title": {
         "text": "f\"Box Plot - {col}"
        },
        "xaxis": {
         "anchor": "y",
         "domain": [
          0,
          1
         ],
         "title": {
          "text": "Reginol_Node_Positive"
         }
        },
        "yaxis": {
         "anchor": "x",
         "domain": [
          0,
          1
         ]
        }
       }
      }
     },
     "metadata": {},
     "output_type": "display_data"
    },
    {
     "data": {
      "application/vnd.plotly.v1+json": {
       "config": {
        "plotlyServerURL": "https://plot.ly"
       },
       "data": [
        {
         "alignmentgroup": "True",
         "hovertemplate": "Survival_Months=%{x}<extra></extra>",
         "legendgroup": "",
         "marker": {
          "color": "#636efa"
         },
         "name": "",
         "notched": false,
         "offsetgroup": "",
         "orientation": "h",
         "showlegend": false,
         "type": "box",
         "x": {
          "bdata": "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",
          "dtype": "i1"
         },
         "x0": " ",
         "xaxis": "x",
         "y0": " ",
         "yaxis": "y"
        }
       ],
       "layout": {
        "boxmode": "group",
        "legend": {
         "tracegroupgap": 0
        },
        "template": {
         "data": {
          "bar": [
           {
            "error_x": {
             "color": "#2a3f5f"
            },
            "error_y": {
             "color": "#2a3f5f"
            },
            "marker": {
             "line": {
              "color": "#E5ECF6",
              "width": 0.5
             },
             "pattern": {
              "fillmode": "overlay",
              "size": 10,
              "solidity": 0.2
             }
            },
            "type": "bar"
           }
          ],
          "barpolar": [
           {
            "marker": {
             "line": {
              "color": "#E5ECF6",
              "width": 0.5
             },
             "pattern": {
              "fillmode": "overlay",
              "size": 10,
              "solidity": 0.2
             }
            },
            "type": "barpolar"
           }
          ],
          "carpet": [
           {
            "aaxis": {
             "endlinecolor": "#2a3f5f",
             "gridcolor": "white",
             "linecolor": "white",
             "minorgridcolor": "white",
             "startlinecolor": "#2a3f5f"
            },
            "baxis": {
             "endlinecolor": "#2a3f5f",
             "gridcolor": "white",
             "linecolor": "white",
             "minorgridcolor": "white",
             "startlinecolor": "#2a3f5f"
            },
            "type": "carpet"
           }
          ],
          "choropleth": [
           {
            "colorbar": {
             "outlinewidth": 0,
             "ticks": ""
            },
            "type": "choropleth"
           }
          ],
          "contour": [
           {
            "colorbar": {
             "outlinewidth": 0,
             "ticks": ""
            },
            "colorscale": [
             [
              0,
              "#0d0887"
             ],
             [
              0.1111111111111111,
              "#46039f"
             ],
             [
              0.2222222222222222,
              "#7201a8"
             ],
             [
              0.3333333333333333,
              "#9c179e"
             ],
             [
              0.4444444444444444,
              "#bd3786"
             ],
             [
              0.5555555555555556,
              "#d8576b"
             ],
             [
              0.6666666666666666,
              "#ed7953"
             ],
             [
              0.7777777777777778,
              "#fb9f3a"
             ],
             [
              0.8888888888888888,
              "#fdca26"
             ],
             [
              1,
              "#f0f921"
             ]
            ],
            "type": "contour"
           }
          ],
          "contourcarpet": [
           {
            "colorbar": {
             "outlinewidth": 0,
             "ticks": ""
            },
            "type": "contourcarpet"
           }
          ],
          "heatmap": [
           {
            "colorbar": {
             "outlinewidth": 0,
             "ticks": ""
            },
            "colorscale": [
             [
              0,
              "#0d0887"
             ],
             [
              0.1111111111111111,
              "#46039f"
             ],
             [
              0.2222222222222222,
              "#7201a8"
             ],
             [
              0.3333333333333333,
              "#9c179e"
             ],
             [
              0.4444444444444444,
              "#bd3786"
             ],
             [
              0.5555555555555556,
              "#d8576b"
             ],
             [
              0.6666666666666666,
              "#ed7953"
             ],
             [
              0.7777777777777778,
              "#fb9f3a"
             ],
             [
              0.8888888888888888,
              "#fdca26"
             ],
             [
              1,
              "#f0f921"
             ]
            ],
            "type": "heatmap"
           }
          ],
          "histogram": [
           {
            "marker": {
             "pattern": {
              "fillmode": "overlay",
              "size": 10,
              "solidity": 0.2
             }
            },
            "type": "histogram"
           }
          ],
          "histogram2d": [
           {
            "colorbar": {
             "outlinewidth": 0,
             "ticks": ""
            },
            "colorscale": [
             [
              0,
              "#0d0887"
             ],
             [
              0.1111111111111111,
              "#46039f"
             ],
             [
              0.2222222222222222,
              "#7201a8"
             ],
             [
              0.3333333333333333,
              "#9c179e"
             ],
             [
              0.4444444444444444,
              "#bd3786"
             ],
             [
              0.5555555555555556,
              "#d8576b"
             ],
             [
              0.6666666666666666,
              "#ed7953"
             ],
             [
              0.7777777777777778,
              "#fb9f3a"
             ],
             [
              0.8888888888888888,
              "#fdca26"
             ],
             [
              1,
              "#f0f921"
             ]
            ],
            "type": "histogram2d"
           }
          ],
          "histogram2dcontour": [
           {
            "colorbar": {
             "outlinewidth": 0,
             "ticks": ""
            },
            "colorscale": [
             [
              0,
              "#0d0887"
             ],
             [
              0.1111111111111111,
              "#46039f"
             ],
             [
              0.2222222222222222,
              "#7201a8"
             ],
             [
              0.3333333333333333,
              "#9c179e"
             ],
             [
              0.4444444444444444,
              "#bd3786"
             ],
             [
              0.5555555555555556,
              "#d8576b"
             ],
             [
              0.6666666666666666,
              "#ed7953"
             ],
             [
              0.7777777777777778,
              "#fb9f3a"
             ],
             [
              0.8888888888888888,
              "#fdca26"
             ],
             [
              1,
              "#f0f921"
             ]
            ],
            "type": "histogram2dcontour"
           }
          ],
          "mesh3d": [
           {
            "colorbar": {
             "outlinewidth": 0,
             "ticks": ""
            },
            "type": "mesh3d"
           }
          ],
          "parcoords": [
           {
            "line": {
             "colorbar": {
              "outlinewidth": 0,
              "ticks": ""
             }
            },
            "type": "parcoords"
           }
          ],
          "pie": [
           {
            "automargin": true,
            "type": "pie"
           }
          ],
          "scatter": [
           {
            "fillpattern": {
             "fillmode": "overlay",
             "size": 10,
             "solidity": 0.2
            },
            "type": "scatter"
           }
          ],
          "scatter3d": [
           {
            "line": {
             "colorbar": {
              "outlinewidth": 0,
              "ticks": ""
             }
            },
            "marker": {
             "colorbar": {
              "outlinewidth": 0,
              "ticks": ""
             }
            },
            "type": "scatter3d"
           }
          ],
          "scattercarpet": [
           {
            "marker": {
             "colorbar": {
              "outlinewidth": 0,
              "ticks": ""
             }
            },
            "type": "scattercarpet"
           }
          ],
          "scattergeo": [
           {
            "marker": {
             "colorbar": {
              "outlinewidth": 0,
              "ticks": ""
             }
            },
            "type": "scattergeo"
           }
          ],
          "scattergl": [
           {
            "marker": {
             "colorbar": {
              "outlinewidth": 0,
              "ticks": ""
             }
            },
            "type": "scattergl"
           }
          ],
          "scattermap": [
           {
            "marker": {
             "colorbar": {
              "outlinewidth": 0,
              "ticks": ""
             }
            },
            "type": "scattermap"
           }
          ],
          "scattermapbox": [
           {
            "marker": {
             "colorbar": {
              "outlinewidth": 0,
              "ticks": ""
             }
            },
            "type": "scattermapbox"
           }
          ],
          "scatterpolar": [
           {
            "marker": {
             "colorbar": {
              "outlinewidth": 0,
              "ticks": ""
             }
            },
            "type": "scatterpolar"
           }
          ],
          "scatterpolargl": [
           {
            "marker": {
             "colorbar": {
              "outlinewidth": 0,
              "ticks": ""
             }
            },
            "type": "scatterpolargl"
           }
          ],
          "scatterternary": [
           {
            "marker": {
             "colorbar": {
              "outlinewidth": 0,
              "ticks": ""
             }
            },
            "type": "scatterternary"
           }
          ],
          "surface": [
           {
            "colorbar": {
             "outlinewidth": 0,
             "ticks": ""
            },
            "colorscale": [
             [
              0,
              "#0d0887"
             ],
             [
              0.1111111111111111,
              "#46039f"
             ],
             [
              0.2222222222222222,
              "#7201a8"
             ],
             [
              0.3333333333333333,
              "#9c179e"
             ],
             [
              0.4444444444444444,
              "#bd3786"
             ],
             [
              0.5555555555555556,
              "#d8576b"
             ],
             [
              0.6666666666666666,
              "#ed7953"
             ],
             [
              0.7777777777777778,
              "#fb9f3a"
             ],
             [
              0.8888888888888888,
              "#fdca26"
             ],
             [
              1,
              "#f0f921"
             ]
            ],
            "type": "surface"
           }
          ],
          "table": [
           {
            "cells": {
             "fill": {
              "color": "#EBF0F8"
             },
             "line": {
              "color": "white"
             }
            },
            "header": {
             "fill": {
              "color": "#C8D4E3"
             },
             "line": {
              "color": "white"
             }
            },
            "type": "table"
           }
          ]
         },
         "layout": {
          "annotationdefaults": {
           "arrowcolor": "#2a3f5f",
           "arrowhead": 0,
           "arrowwidth": 1
          },
          "autotypenumbers": "strict",
          "coloraxis": {
           "colorbar": {
            "outlinewidth": 0,
            "ticks": ""
           }
          },
          "colorscale": {
           "diverging": [
            [
             0,
             "#8e0152"
            ],
            [
             0.1,
             "#c51b7d"
            ],
            [
             0.2,
             "#de77ae"
            ],
            [
             0.3,
             "#f1b6da"
            ],
            [
             0.4,
             "#fde0ef"
            ],
            [
             0.5,
             "#f7f7f7"
            ],
            [
             0.6,
             "#e6f5d0"
            ],
            [
             0.7,
             "#b8e186"
            ],
            [
             0.8,
             "#7fbc41"
            ],
            [
             0.9,
             "#4d9221"
            ],
            [
             1,
             "#276419"
            ]
           ],
           "sequential": [
            [
             0,
             "#0d0887"
            ],
            [
             0.1111111111111111,
             "#46039f"
            ],
            [
             0.2222222222222222,
             "#7201a8"
            ],
            [
             0.3333333333333333,
             "#9c179e"
            ],
            [
             0.4444444444444444,
             "#bd3786"
            ],
            [
             0.5555555555555556,
             "#d8576b"
            ],
            [
             0.6666666666666666,
             "#ed7953"
            ],
            [
             0.7777777777777778,
             "#fb9f3a"
            ],
            [
             0.8888888888888888,
             "#fdca26"
            ],
            [
             1,
             "#f0f921"
            ]
           ],
           "sequentialminus": [
            [
             0,
             "#0d0887"
            ],
            [
             0.1111111111111111,
             "#46039f"
            ],
            [
             0.2222222222222222,
             "#7201a8"
            ],
            [
             0.3333333333333333,
             "#9c179e"
            ],
            [
             0.4444444444444444,
             "#bd3786"
            ],
            [
             0.5555555555555556,
             "#d8576b"
            ],
            [
             0.6666666666666666,
             "#ed7953"
            ],
            [
             0.7777777777777778,
             "#fb9f3a"
            ],
            [
             0.8888888888888888,
             "#fdca26"
            ],
            [
             1,
             "#f0f921"
            ]
           ]
          },
          "colorway": [
           "#636efa",
           "#EF553B",
           "#00cc96",
           "#ab63fa",
           "#FFA15A",
           "#19d3f3",
           "#FF6692",
           "#B6E880",
           "#FF97FF",
           "#FECB52"
          ],
          "font": {
           "color": "#2a3f5f"
          },
          "geo": {
           "bgcolor": "white",
           "lakecolor": "white",
           "landcolor": "#E5ECF6",
           "showlakes": true,
           "showland": true,
           "subunitcolor": "white"
          },
          "hoverlabel": {
           "align": "left"
          },
          "hovermode": "closest",
          "mapbox": {
           "style": "light"
          },
          "paper_bgcolor": "white",
          "plot_bgcolor": "#E5ECF6",
          "polar": {
           "angularaxis": {
            "gridcolor": "white",
            "linecolor": "white",
            "ticks": ""
           },
           "bgcolor": "#E5ECF6",
           "radialaxis": {
            "gridcolor": "white",
            "linecolor": "white",
            "ticks": ""
           }
          },
          "scene": {
           "xaxis": {
            "backgroundcolor": "#E5ECF6",
            "gridcolor": "white",
            "gridwidth": 2,
            "linecolor": "white",
            "showbackground": true,
            "ticks": "",
            "zerolinecolor": "white"
           },
           "yaxis": {
            "backgroundcolor": "#E5ECF6",
            "gridcolor": "white",
            "gridwidth": 2,
            "linecolor": "white",
            "showbackground": true,
            "ticks": "",
            "zerolinecolor": "white"
           },
           "zaxis": {
            "backgroundcolor": "#E5ECF6",
            "gridcolor": "white",
            "gridwidth": 2,
            "linecolor": "white",
            "showbackground": true,
            "ticks": "",
            "zerolinecolor": "white"
           }
          },
          "shapedefaults": {
           "line": {
            "color": "#2a3f5f"
           }
          },
          "ternary": {
           "aaxis": {
            "gridcolor": "white",
            "linecolor": "white",
            "ticks": ""
           },
           "baxis": {
            "gridcolor": "white",
            "linecolor": "white",
            "ticks": ""
           },
           "bgcolor": "#E5ECF6",
           "caxis": {
            "gridcolor": "white",
            "linecolor": "white",
            "ticks": ""
           }
          },
          "title": {
           "x": 0.05
          },
          "xaxis": {
           "automargin": true,
           "gridcolor": "white",
           "linecolor": "white",
           "ticks": "",
           "title": {
            "standoff": 15
           },
           "zerolinecolor": "white",
           "zerolinewidth": 2
          },
          "yaxis": {
           "automargin": true,
           "gridcolor": "white",
           "linecolor": "white",
           "ticks": "",
           "title": {
            "standoff": 15
           },
           "zerolinecolor": "white",
           "zerolinewidth": 2
          }
         }
        },
        "title": {
         "text": "f\"Box Plot - {col}"
        },
        "xaxis": {
         "anchor": "y",
         "domain": [
          0,
          1
         ],
         "title": {
          "text": "Survival_Months"
         }
        },
        "yaxis": {
         "anchor": "x",
         "domain": [
          0,
          1
         ]
        }
       }
      }
     },
     "metadata": {},
     "output_type": "display_data"
    }
   ],
   "source": [
    "for col in outl_cols:\n",
    "    fig = px.box(df,x=col,title='f\"Box Plot - {col}')\n",
    "    fig.show()"
   ]
  },
  {
   "cell_type": "code",
   "execution_count": 230,
   "id": "4794e46c",
   "metadata": {},
   "outputs": [
    {
     "data": {
      "text/html": [
       "<div>\n",
       "<style scoped>\n",
       "    .dataframe tbody tr th:only-of-type {\n",
       "        vertical-align: middle;\n",
       "    }\n",
       "\n",
       "    .dataframe tbody tr th {\n",
       "        vertical-align: top;\n",
       "    }\n",
       "\n",
       "    .dataframe thead th {\n",
       "        text-align: right;\n",
       "    }\n",
       "</style>\n",
       "<table border=\"1\" class=\"dataframe\">\n",
       "  <thead>\n",
       "    <tr style=\"text-align: right;\">\n",
       "      <th></th>\n",
       "      <th>Age</th>\n",
       "      <th>T_Stage</th>\n",
       "      <th>N_Stage</th>\n",
       "      <th>6th_Stage</th>\n",
       "      <th>Differentiated</th>\n",
       "      <th>Grade</th>\n",
       "      <th>Tumor_Size</th>\n",
       "      <th>Regional_Node_Examined</th>\n",
       "      <th>Reginol_Node_Positive</th>\n",
       "      <th>Survival_Months</th>\n",
       "      <th>Mortality_Status</th>\n",
       "      <th>Sex</th>\n",
       "      <th>A_Stage</th>\n",
       "      <th>Estrogen_Status</th>\n",
       "      <th>Progesterone_Status</th>\n",
       "    </tr>\n",
       "  </thead>\n",
       "  <tbody>\n",
       "    <tr>\n",
       "      <th>count</th>\n",
       "      <td>2924.000000</td>\n",
       "      <td>2924.000000</td>\n",
       "      <td>2924.000000</td>\n",
       "      <td>2924.000000</td>\n",
       "      <td>2924.000000</td>\n",
       "      <td>2924.000000</td>\n",
       "      <td>2924.000000</td>\n",
       "      <td>2924.000000</td>\n",
       "      <td>2924.000000</td>\n",
       "      <td>2924.000000</td>\n",
       "      <td>2924.000000</td>\n",
       "      <td>2924.000000</td>\n",
       "      <td>2924.000000</td>\n",
       "      <td>2924.000000</td>\n",
       "      <td>2924.000000</td>\n",
       "    </tr>\n",
       "    <tr>\n",
       "      <th>mean</th>\n",
       "      <td>54.009918</td>\n",
       "      <td>0.566005</td>\n",
       "      <td>0.167579</td>\n",
       "      <td>0.778386</td>\n",
       "      <td>0.704514</td>\n",
       "      <td>2.101231</td>\n",
       "      <td>23.500000</td>\n",
       "      <td>12.852599</td>\n",
       "      <td>2.114911</td>\n",
       "      <td>73.510944</td>\n",
       "      <td>0.104651</td>\n",
       "      <td>0.005472</td>\n",
       "      <td>0.994186</td>\n",
       "      <td>0.943570</td>\n",
       "      <td>0.846443</td>\n",
       "    </tr>\n",
       "    <tr>\n",
       "      <th>std</th>\n",
       "      <td>8.924527</td>\n",
       "      <td>0.608487</td>\n",
       "      <td>0.388813</td>\n",
       "      <td>0.810130</td>\n",
       "      <td>1.057482</td>\n",
       "      <td>0.630515</td>\n",
       "      <td>11.676343</td>\n",
       "      <td>7.075940</td>\n",
       "      <td>1.420175</td>\n",
       "      <td>20.943146</td>\n",
       "      <td>0.306156</td>\n",
       "      <td>0.073783</td>\n",
       "      <td>0.076040</td>\n",
       "      <td>0.230789</td>\n",
       "      <td>0.360585</td>\n",
       "    </tr>\n",
       "    <tr>\n",
       "      <th>min</th>\n",
       "      <td>30.000000</td>\n",
       "      <td>0.000000</td>\n",
       "      <td>0.000000</td>\n",
       "      <td>0.000000</td>\n",
       "      <td>0.000000</td>\n",
       "      <td>1.000000</td>\n",
       "      <td>1.000000</td>\n",
       "      <td>1.000000</td>\n",
       "      <td>1.000000</td>\n",
       "      <td>9.000000</td>\n",
       "      <td>0.000000</td>\n",
       "      <td>0.000000</td>\n",
       "      <td>0.000000</td>\n",
       "      <td>0.000000</td>\n",
       "      <td>0.000000</td>\n",
       "    </tr>\n",
       "    <tr>\n",
       "      <th>25%</th>\n",
       "      <td>47.000000</td>\n",
       "      <td>0.000000</td>\n",
       "      <td>0.000000</td>\n",
       "      <td>0.000000</td>\n",
       "      <td>0.000000</td>\n",
       "      <td>2.000000</td>\n",
       "      <td>15.000000</td>\n",
       "      <td>8.000000</td>\n",
       "      <td>1.000000</td>\n",
       "      <td>58.000000</td>\n",
       "      <td>0.000000</td>\n",
       "      <td>0.000000</td>\n",
       "      <td>1.000000</td>\n",
       "      <td>1.000000</td>\n",
       "      <td>1.000000</td>\n",
       "    </tr>\n",
       "    <tr>\n",
       "      <th>50%</th>\n",
       "      <td>54.000000</td>\n",
       "      <td>1.000000</td>\n",
       "      <td>0.000000</td>\n",
       "      <td>1.000000</td>\n",
       "      <td>0.000000</td>\n",
       "      <td>2.000000</td>\n",
       "      <td>21.000000</td>\n",
       "      <td>13.000000</td>\n",
       "      <td>2.000000</td>\n",
       "      <td>75.000000</td>\n",
       "      <td>0.000000</td>\n",
       "      <td>0.000000</td>\n",
       "      <td>1.000000</td>\n",
       "      <td>1.000000</td>\n",
       "      <td>1.000000</td>\n",
       "    </tr>\n",
       "    <tr>\n",
       "      <th>75%</th>\n",
       "      <td>61.000000</td>\n",
       "      <td>1.000000</td>\n",
       "      <td>0.000000</td>\n",
       "      <td>1.000000</td>\n",
       "      <td>1.000000</td>\n",
       "      <td>2.000000</td>\n",
       "      <td>30.000000</td>\n",
       "      <td>17.000000</td>\n",
       "      <td>3.000000</td>\n",
       "      <td>91.000000</td>\n",
       "      <td>0.000000</td>\n",
       "      <td>0.000000</td>\n",
       "      <td>1.000000</td>\n",
       "      <td>1.000000</td>\n",
       "      <td>1.000000</td>\n",
       "    </tr>\n",
       "    <tr>\n",
       "      <th>max</th>\n",
       "      <td>69.000000</td>\n",
       "      <td>3.000000</td>\n",
       "      <td>2.000000</td>\n",
       "      <td>4.000000</td>\n",
       "      <td>3.000000</td>\n",
       "      <td>4.000000</td>\n",
       "      <td>57.000000</td>\n",
       "      <td>33.000000</td>\n",
       "      <td>6.000000</td>\n",
       "      <td>107.000000</td>\n",
       "      <td>1.000000</td>\n",
       "      <td>1.000000</td>\n",
       "      <td>1.000000</td>\n",
       "      <td>1.000000</td>\n",
       "      <td>1.000000</td>\n",
       "    </tr>\n",
       "  </tbody>\n",
       "</table>\n",
       "</div>"
      ],
      "text/plain": [
       "               Age      T_Stage      N_Stage    6th_Stage  Differentiated  \\\n",
       "count  2924.000000  2924.000000  2924.000000  2924.000000     2924.000000   \n",
       "mean     54.009918     0.566005     0.167579     0.778386        0.704514   \n",
       "std       8.924527     0.608487     0.388813     0.810130        1.057482   \n",
       "min      30.000000     0.000000     0.000000     0.000000        0.000000   \n",
       "25%      47.000000     0.000000     0.000000     0.000000        0.000000   \n",
       "50%      54.000000     1.000000     0.000000     1.000000        0.000000   \n",
       "75%      61.000000     1.000000     0.000000     1.000000        1.000000   \n",
       "max      69.000000     3.000000     2.000000     4.000000        3.000000   \n",
       "\n",
       "             Grade   Tumor_Size  Regional_Node_Examined  \\\n",
       "count  2924.000000  2924.000000             2924.000000   \n",
       "mean      2.101231    23.500000               12.852599   \n",
       "std       0.630515    11.676343                7.075940   \n",
       "min       1.000000     1.000000                1.000000   \n",
       "25%       2.000000    15.000000                8.000000   \n",
       "50%       2.000000    21.000000               13.000000   \n",
       "75%       2.000000    30.000000               17.000000   \n",
       "max       4.000000    57.000000               33.000000   \n",
       "\n",
       "       Reginol_Node_Positive  Survival_Months  Mortality_Status          Sex  \\\n",
       "count            2924.000000      2924.000000       2924.000000  2924.000000   \n",
       "mean                2.114911        73.510944          0.104651     0.005472   \n",
       "std                 1.420175        20.943146          0.306156     0.073783   \n",
       "min                 1.000000         9.000000          0.000000     0.000000   \n",
       "25%                 1.000000        58.000000          0.000000     0.000000   \n",
       "50%                 2.000000        75.000000          0.000000     0.000000   \n",
       "75%                 3.000000        91.000000          0.000000     0.000000   \n",
       "max                 6.000000       107.000000          1.000000     1.000000   \n",
       "\n",
       "           A_Stage  Estrogen_Status  Progesterone_Status  \n",
       "count  2924.000000      2924.000000          2924.000000  \n",
       "mean      0.994186         0.943570             0.846443  \n",
       "std       0.076040         0.230789             0.360585  \n",
       "min       0.000000         0.000000             0.000000  \n",
       "25%       1.000000         1.000000             1.000000  \n",
       "50%       1.000000         1.000000             1.000000  \n",
       "75%       1.000000         1.000000             1.000000  \n",
       "max       1.000000         1.000000             1.000000  "
      ]
     },
     "execution_count": 230,
     "metadata": {},
     "output_type": "execute_result"
    }
   ],
   "source": [
    "df.describe()"
   ]
  },
  {
   "cell_type": "markdown",
   "id": "3819299e",
   "metadata": {},
   "source": [
    "Scale the Data set "
   ]
  },
  {
   "cell_type": "code",
   "execution_count": 231,
   "id": "af669e4e",
   "metadata": {},
   "outputs": [],
   "source": [
    "from sklearn.preprocessing import StandardScaler"
   ]
  },
  {
   "cell_type": "code",
   "execution_count": 233,
   "id": "8d7c5a93",
   "metadata": {},
   "outputs": [],
   "source": [
    "#scale the dataset using StandardScaler method \n",
    "numeric_cols = ['Age','Tumor_Size','Regional_Node_Examined','Reginol_Node_Positive','Survival_Months']\n",
    "scaler = StandardScaler()\n",
    "df[numeric_cols] = scaler.fit_transform(df[numeric_cols])\n"
   ]
  },
  {
   "cell_type": "code",
   "execution_count": 234,
   "id": "b2a052f2",
   "metadata": {},
   "outputs": [
    {
     "data": {
      "text/html": [
       "<div>\n",
       "<style scoped>\n",
       "    .dataframe tbody tr th:only-of-type {\n",
       "        vertical-align: middle;\n",
       "    }\n",
       "\n",
       "    .dataframe tbody tr th {\n",
       "        vertical-align: top;\n",
       "    }\n",
       "\n",
       "    .dataframe thead th {\n",
       "        text-align: right;\n",
       "    }\n",
       "</style>\n",
       "<table border=\"1\" class=\"dataframe\">\n",
       "  <thead>\n",
       "    <tr style=\"text-align: right;\">\n",
       "      <th></th>\n",
       "      <th>Age</th>\n",
       "      <th>T_Stage</th>\n",
       "      <th>N_Stage</th>\n",
       "      <th>6th_Stage</th>\n",
       "      <th>Differentiated</th>\n",
       "      <th>Grade</th>\n",
       "      <th>Tumor_Size</th>\n",
       "      <th>Regional_Node_Examined</th>\n",
       "      <th>Reginol_Node_Positive</th>\n",
       "      <th>Survival_Months</th>\n",
       "      <th>Mortality_Status</th>\n",
       "      <th>Sex</th>\n",
       "      <th>A_Stage</th>\n",
       "      <th>Estrogen_Status</th>\n",
       "      <th>Progesterone_Status</th>\n",
       "    </tr>\n",
       "  </thead>\n",
       "  <tbody>\n",
       "    <tr>\n",
       "      <th>0</th>\n",
       "      <td>1.567867</td>\n",
       "      <td>0</td>\n",
       "      <td>0</td>\n",
       "      <td>0</td>\n",
       "      <td>1</td>\n",
       "      <td>3</td>\n",
       "      <td>-1.670329</td>\n",
       "      <td>1.575665</td>\n",
       "      <td>-0.785186</td>\n",
       "      <td>-0.645235</td>\n",
       "      <td>0</td>\n",
       "      <td>0</td>\n",
       "      <td>1</td>\n",
       "      <td>1</td>\n",
       "      <td>1</td>\n",
       "    </tr>\n",
       "    <tr>\n",
       "      <th>1</th>\n",
       "      <td>-0.449391</td>\n",
       "      <td>1</td>\n",
       "      <td>1</td>\n",
       "      <td>2</td>\n",
       "      <td>0</td>\n",
       "      <td>2</td>\n",
       "      <td>0.985066</td>\n",
       "      <td>0.162183</td>\n",
       "      <td>2.031850</td>\n",
       "      <td>-0.549722</td>\n",
       "      <td>0</td>\n",
       "      <td>0</td>\n",
       "      <td>1</td>\n",
       "      <td>1</td>\n",
       "      <td>1</td>\n",
       "    </tr>\n",
       "    <tr>\n",
       "      <th>3</th>\n",
       "      <td>0.447168</td>\n",
       "      <td>0</td>\n",
       "      <td>0</td>\n",
       "      <td>0</td>\n",
       "      <td>1</td>\n",
       "      <td>3</td>\n",
       "      <td>-0.471118</td>\n",
       "      <td>-1.533995</td>\n",
       "      <td>-0.785186</td>\n",
       "      <td>0.500920</td>\n",
       "      <td>0</td>\n",
       "      <td>0</td>\n",
       "      <td>1</td>\n",
       "      <td>1</td>\n",
       "      <td>1</td>\n",
       "    </tr>\n",
       "    <tr>\n",
       "      <th>4</th>\n",
       "      <td>-0.785601</td>\n",
       "      <td>1</td>\n",
       "      <td>0</td>\n",
       "      <td>1</td>\n",
       "      <td>1</td>\n",
       "      <td>3</td>\n",
       "      <td>1.499013</td>\n",
       "      <td>-1.392647</td>\n",
       "      <td>-0.785186</td>\n",
       "      <td>-1.122800</td>\n",
       "      <td>0</td>\n",
       "      <td>0</td>\n",
       "      <td>1</td>\n",
       "      <td>1</td>\n",
       "      <td>1</td>\n",
       "    </tr>\n",
       "    <tr>\n",
       "      <th>5</th>\n",
       "      <td>-0.337321</td>\n",
       "      <td>0</td>\n",
       "      <td>0</td>\n",
       "      <td>0</td>\n",
       "      <td>0</td>\n",
       "      <td>2</td>\n",
       "      <td>-0.299803</td>\n",
       "      <td>0.727576</td>\n",
       "      <td>-0.080927</td>\n",
       "      <td>0.739703</td>\n",
       "      <td>0</td>\n",
       "      <td>0</td>\n",
       "      <td>1</td>\n",
       "      <td>1</td>\n",
       "      <td>1</td>\n",
       "    </tr>\n",
       "  </tbody>\n",
       "</table>\n",
       "</div>"
      ],
      "text/plain": [
       "        Age  T_Stage  N_Stage  6th_Stage  Differentiated  Grade  Tumor_Size  \\\n",
       "0  1.567867        0        0          0               1      3   -1.670329   \n",
       "1 -0.449391        1        1          2               0      2    0.985066   \n",
       "3  0.447168        0        0          0               1      3   -0.471118   \n",
       "4 -0.785601        1        0          1               1      3    1.499013   \n",
       "5 -0.337321        0        0          0               0      2   -0.299803   \n",
       "\n",
       "   Regional_Node_Examined  Reginol_Node_Positive  Survival_Months  \\\n",
       "0                1.575665              -0.785186        -0.645235   \n",
       "1                0.162183               2.031850        -0.549722   \n",
       "3               -1.533995              -0.785186         0.500920   \n",
       "4               -1.392647              -0.785186        -1.122800   \n",
       "5                0.727576              -0.080927         0.739703   \n",
       "\n",
       "   Mortality_Status  Sex  A_Stage  Estrogen_Status  Progesterone_Status  \n",
       "0                 0    0        1                1                    1  \n",
       "1                 0    0        1                1                    1  \n",
       "3                 0    0        1                1                    1  \n",
       "4                 0    0        1                1                    1  \n",
       "5                 0    0        1                1                    1  "
      ]
     },
     "execution_count": 234,
     "metadata": {},
     "output_type": "execute_result"
    }
   ],
   "source": [
    "df.head()"
   ]
  },
  {
   "cell_type": "code",
   "execution_count": null,
   "id": "f021b909",
   "metadata": {},
   "outputs": [
    {
     "data": {
      "text/html": [
       "<div>\n",
       "<style scoped>\n",
       "    .dataframe tbody tr th:only-of-type {\n",
       "        vertical-align: middle;\n",
       "    }\n",
       "\n",
       "    .dataframe tbody tr th {\n",
       "        vertical-align: top;\n",
       "    }\n",
       "\n",
       "    .dataframe thead th {\n",
       "        text-align: right;\n",
       "    }\n",
       "</style>\n",
       "<table border=\"1\" class=\"dataframe\">\n",
       "  <thead>\n",
       "    <tr style=\"text-align: right;\">\n",
       "      <th></th>\n",
       "      <th>Age</th>\n",
       "      <th>T_Stage</th>\n",
       "      <th>N_Stage</th>\n",
       "      <th>6th_Stage</th>\n",
       "      <th>Differentiated</th>\n",
       "      <th>Grade</th>\n",
       "      <th>Tumor_Size</th>\n",
       "      <th>Regional_Node_Examined</th>\n",
       "      <th>Reginol_Node_Positive</th>\n",
       "      <th>Mortality_Status</th>\n",
       "      <th>Sex</th>\n",
       "      <th>A_Stage</th>\n",
       "      <th>Estrogen_Status</th>\n",
       "      <th>Progesterone_Status</th>\n",
       "    </tr>\n",
       "  </thead>\n",
       "  <tbody>\n",
       "    <tr>\n",
       "      <th>0</th>\n",
       "      <td>1.567867</td>\n",
       "      <td>0</td>\n",
       "      <td>0</td>\n",
       "      <td>0</td>\n",
       "      <td>1</td>\n",
       "      <td>3</td>\n",
       "      <td>-1.670329</td>\n",
       "      <td>1.575665</td>\n",
       "      <td>-0.785186</td>\n",
       "      <td>0</td>\n",
       "      <td>0</td>\n",
       "      <td>1</td>\n",
       "      <td>1</td>\n",
       "      <td>1</td>\n",
       "    </tr>\n",
       "    <tr>\n",
       "      <th>1</th>\n",
       "      <td>-0.449391</td>\n",
       "      <td>1</td>\n",
       "      <td>1</td>\n",
       "      <td>2</td>\n",
       "      <td>0</td>\n",
       "      <td>2</td>\n",
       "      <td>0.985066</td>\n",
       "      <td>0.162183</td>\n",
       "      <td>2.031850</td>\n",
       "      <td>0</td>\n",
       "      <td>0</td>\n",
       "      <td>1</td>\n",
       "      <td>1</td>\n",
       "      <td>1</td>\n",
       "    </tr>\n",
       "    <tr>\n",
       "      <th>3</th>\n",
       "      <td>0.447168</td>\n",
       "      <td>0</td>\n",
       "      <td>0</td>\n",
       "      <td>0</td>\n",
       "      <td>1</td>\n",
       "      <td>3</td>\n",
       "      <td>-0.471118</td>\n",
       "      <td>-1.533995</td>\n",
       "      <td>-0.785186</td>\n",
       "      <td>0</td>\n",
       "      <td>0</td>\n",
       "      <td>1</td>\n",
       "      <td>1</td>\n",
       "      <td>1</td>\n",
       "    </tr>\n",
       "    <tr>\n",
       "      <th>4</th>\n",
       "      <td>-0.785601</td>\n",
       "      <td>1</td>\n",
       "      <td>0</td>\n",
       "      <td>1</td>\n",
       "      <td>1</td>\n",
       "      <td>3</td>\n",
       "      <td>1.499013</td>\n",
       "      <td>-1.392647</td>\n",
       "      <td>-0.785186</td>\n",
       "      <td>0</td>\n",
       "      <td>0</td>\n",
       "      <td>1</td>\n",
       "      <td>1</td>\n",
       "      <td>1</td>\n",
       "    </tr>\n",
       "    <tr>\n",
       "      <th>5</th>\n",
       "      <td>-0.337321</td>\n",
       "      <td>0</td>\n",
       "      <td>0</td>\n",
       "      <td>0</td>\n",
       "      <td>0</td>\n",
       "      <td>2</td>\n",
       "      <td>-0.299803</td>\n",
       "      <td>0.727576</td>\n",
       "      <td>-0.080927</td>\n",
       "      <td>0</td>\n",
       "      <td>0</td>\n",
       "      <td>1</td>\n",
       "      <td>1</td>\n",
       "      <td>1</td>\n",
       "    </tr>\n",
       "  </tbody>\n",
       "</table>\n",
       "</div>"
      ],
      "text/plain": [
       "        Age  T_Stage  N_Stage  6th_Stage  Differentiated  Grade  Tumor_Size  \\\n",
       "0  1.567867        0        0          0               1      3   -1.670329   \n",
       "1 -0.449391        1        1          2               0      2    0.985066   \n",
       "3  0.447168        0        0          0               1      3   -0.471118   \n",
       "4 -0.785601        1        0          1               1      3    1.499013   \n",
       "5 -0.337321        0        0          0               0      2   -0.299803   \n",
       "\n",
       "   Regional_Node_Examined  Reginol_Node_Positive  Mortality_Status  Sex  \\\n",
       "0                1.575665              -0.785186                 0    0   \n",
       "1                0.162183               2.031850                 0    0   \n",
       "3               -1.533995              -0.785186                 0    0   \n",
       "4               -1.392647              -0.785186                 0    0   \n",
       "5                0.727576              -0.080927                 0    0   \n",
       "\n",
       "   A_Stage  Estrogen_Status  Progesterone_Status  \n",
       "0        1                1                    1  \n",
       "1        1                1                    1  \n",
       "3        1                1                    1  \n",
       "4        1                1                    1  \n",
       "5        1                1                    1  "
      ]
     },
     "execution_count": 240,
     "metadata": {},
     "output_type": "execute_result"
    }
   ],
   "source": [
    "#create a dataset for predict breast cancer mortality status.\n",
    "dataset_mortality = df.drop(columns=['Survival_Months'])\n",
    "dataset_mortality.head()"
   ]
  },
  {
   "cell_type": "code",
   "execution_count": null,
   "id": "cde1b6b1",
   "metadata": {},
   "outputs": [
    {
     "data": {
      "text/html": [
       "<div>\n",
       "<style scoped>\n",
       "    .dataframe tbody tr th:only-of-type {\n",
       "        vertical-align: middle;\n",
       "    }\n",
       "\n",
       "    .dataframe tbody tr th {\n",
       "        vertical-align: top;\n",
       "    }\n",
       "\n",
       "    .dataframe thead th {\n",
       "        text-align: right;\n",
       "    }\n",
       "</style>\n",
       "<table border=\"1\" class=\"dataframe\">\n",
       "  <thead>\n",
       "    <tr style=\"text-align: right;\">\n",
       "      <th></th>\n",
       "      <th>Age</th>\n",
       "      <th>T_Stage</th>\n",
       "      <th>N_Stage</th>\n",
       "      <th>6th_Stage</th>\n",
       "      <th>Differentiated</th>\n",
       "      <th>Grade</th>\n",
       "      <th>Tumor_Size</th>\n",
       "      <th>Regional_Node_Examined</th>\n",
       "      <th>Reginol_Node_Positive</th>\n",
       "      <th>Survival_Months</th>\n",
       "      <th>Sex</th>\n",
       "      <th>A_Stage</th>\n",
       "      <th>Estrogen_Status</th>\n",
       "      <th>Progesterone_Status</th>\n",
       "    </tr>\n",
       "  </thead>\n",
       "  <tbody>\n",
       "    <tr>\n",
       "      <th>0</th>\n",
       "      <td>1.567867</td>\n",
       "      <td>0</td>\n",
       "      <td>0</td>\n",
       "      <td>0</td>\n",
       "      <td>1</td>\n",
       "      <td>3</td>\n",
       "      <td>-1.670329</td>\n",
       "      <td>1.575665</td>\n",
       "      <td>-0.785186</td>\n",
       "      <td>-0.645235</td>\n",
       "      <td>0</td>\n",
       "      <td>1</td>\n",
       "      <td>1</td>\n",
       "      <td>1</td>\n",
       "    </tr>\n",
       "    <tr>\n",
       "      <th>1</th>\n",
       "      <td>-0.449391</td>\n",
       "      <td>1</td>\n",
       "      <td>1</td>\n",
       "      <td>2</td>\n",
       "      <td>0</td>\n",
       "      <td>2</td>\n",
       "      <td>0.985066</td>\n",
       "      <td>0.162183</td>\n",
       "      <td>2.031850</td>\n",
       "      <td>-0.549722</td>\n",
       "      <td>0</td>\n",
       "      <td>1</td>\n",
       "      <td>1</td>\n",
       "      <td>1</td>\n",
       "    </tr>\n",
       "    <tr>\n",
       "      <th>3</th>\n",
       "      <td>0.447168</td>\n",
       "      <td>0</td>\n",
       "      <td>0</td>\n",
       "      <td>0</td>\n",
       "      <td>1</td>\n",
       "      <td>3</td>\n",
       "      <td>-0.471118</td>\n",
       "      <td>-1.533995</td>\n",
       "      <td>-0.785186</td>\n",
       "      <td>0.500920</td>\n",
       "      <td>0</td>\n",
       "      <td>1</td>\n",
       "      <td>1</td>\n",
       "      <td>1</td>\n",
       "    </tr>\n",
       "    <tr>\n",
       "      <th>4</th>\n",
       "      <td>-0.785601</td>\n",
       "      <td>1</td>\n",
       "      <td>0</td>\n",
       "      <td>1</td>\n",
       "      <td>1</td>\n",
       "      <td>3</td>\n",
       "      <td>1.499013</td>\n",
       "      <td>-1.392647</td>\n",
       "      <td>-0.785186</td>\n",
       "      <td>-1.122800</td>\n",
       "      <td>0</td>\n",
       "      <td>1</td>\n",
       "      <td>1</td>\n",
       "      <td>1</td>\n",
       "    </tr>\n",
       "    <tr>\n",
       "      <th>5</th>\n",
       "      <td>-0.337321</td>\n",
       "      <td>0</td>\n",
       "      <td>0</td>\n",
       "      <td>0</td>\n",
       "      <td>0</td>\n",
       "      <td>2</td>\n",
       "      <td>-0.299803</td>\n",
       "      <td>0.727576</td>\n",
       "      <td>-0.080927</td>\n",
       "      <td>0.739703</td>\n",
       "      <td>0</td>\n",
       "      <td>1</td>\n",
       "      <td>1</td>\n",
       "      <td>1</td>\n",
       "    </tr>\n",
       "  </tbody>\n",
       "</table>\n",
       "</div>"
      ],
      "text/plain": [
       "        Age  T_Stage  N_Stage  6th_Stage  Differentiated  Grade  Tumor_Size  \\\n",
       "0  1.567867        0        0          0               1      3   -1.670329   \n",
       "1 -0.449391        1        1          2               0      2    0.985066   \n",
       "3  0.447168        0        0          0               1      3   -0.471118   \n",
       "4 -0.785601        1        0          1               1      3    1.499013   \n",
       "5 -0.337321        0        0          0               0      2   -0.299803   \n",
       "\n",
       "   Regional_Node_Examined  Reginol_Node_Positive  Survival_Months  Sex  \\\n",
       "0                1.575665              -0.785186        -0.645235    0   \n",
       "1                0.162183               2.031850        -0.549722    0   \n",
       "3               -1.533995              -0.785186         0.500920    0   \n",
       "4               -1.392647              -0.785186        -1.122800    0   \n",
       "5                0.727576              -0.080927         0.739703    0   \n",
       "\n",
       "   A_Stage  Estrogen_Status  Progesterone_Status  \n",
       "0        1                1                    1  \n",
       "1        1                1                    1  \n",
       "3        1                1                    1  \n",
       "4        1                1                    1  \n",
       "5        1                1                    1  "
      ]
     },
     "execution_count": 241,
     "metadata": {},
     "output_type": "execute_result"
    }
   ],
   "source": [
    "#create a dataset for predict breast cancer survival status.\n",
    "dataset_survival = df.drop(columns=['Mortality_Status'])\n",
    "dataset_survival.head()"
   ]
  },
  {
   "cell_type": "code",
   "execution_count": 242,
   "id": "da10ca45",
   "metadata": {},
   "outputs": [],
   "source": [
    "#save both datasets as csv file \n",
    "dataset_survival.to_csv(\"survival_prediction_dataset.csv\", index=False)\n",
    "dataset_mortality.to_csv(\"mortality_prediction_dataset.csv\", index=False)"
   ]
  },
  {
   "cell_type": "code",
   "execution_count": null,
   "id": "11f3ae90",
   "metadata": {},
   "outputs": [],
   "source": []
  }
 ],
 "metadata": {
  "kernelspec": {
   "display_name": "venv",
   "language": "python",
   "name": "python3"
  },
  "language_info": {
   "codemirror_mode": {
    "name": "ipython",
    "version": 3
   },
   "file_extension": ".py",
   "mimetype": "text/x-python",
   "name": "python",
   "nbconvert_exporter": "python",
   "pygments_lexer": "ipython3",
   "version": "3.13.2"
  }
 },
 "nbformat": 4,
 "nbformat_minor": 5
}
